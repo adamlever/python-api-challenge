{
 "cells": [
  {
   "cell_type": "markdown",
   "metadata": {},
   "source": [
    "# WeatherPy\n",
    "----\n",
    "\n",
    "#### Note\n",
    "* Instructions have been included for each segment. You do not have to follow them exactly, but they are included to help you think through the steps."
   ]
  },
  {
   "cell_type": "code",
   "execution_count": 1,
   "metadata": {
    "scrolled": true
   },
   "outputs": [],
   "source": [
    "# Dependencies and Setup\n",
    "import matplotlib.pyplot as plt\n",
    "import pandas as pd\n",
    "import numpy as np\n",
    "\n",
    "import requests\n",
    "import time\n",
    "import json\n",
    "\n",
    "from citipy import citipy\n",
    "from datetime import datetime\n",
    "from scipy.stats import linregress\n",
    "\n",
    "# Import API key\n",
    "from api_keys import weather_api_key"
   ]
  },
  {
   "cell_type": "markdown",
   "metadata": {},
   "source": [
    "## Generate Cities List"
   ]
  },
  {
   "cell_type": "code",
   "execution_count": 2,
   "metadata": {},
   "outputs": [
    {
     "data": {
      "text/html": [
       "<div>\n",
       "<style scoped>\n",
       "    .dataframe tbody tr th:only-of-type {\n",
       "        vertical-align: middle;\n",
       "    }\n",
       "\n",
       "    .dataframe tbody tr th {\n",
       "        vertical-align: top;\n",
       "    }\n",
       "\n",
       "    .dataframe thead th {\n",
       "        text-align: right;\n",
       "    }\n",
       "</style>\n",
       "<table border=\"1\" class=\"dataframe\">\n",
       "  <thead>\n",
       "    <tr style=\"text-align: right;\">\n",
       "      <th></th>\n",
       "      <th>Latitude</th>\n",
       "      <th>Longitude</th>\n",
       "    </tr>\n",
       "  </thead>\n",
       "  <tbody>\n",
       "    <tr>\n",
       "      <th>0</th>\n",
       "      <td>-82</td>\n",
       "      <td>-43</td>\n",
       "    </tr>\n",
       "    <tr>\n",
       "      <th>1</th>\n",
       "      <td>-66</td>\n",
       "      <td>-87</td>\n",
       "    </tr>\n",
       "    <tr>\n",
       "      <th>2</th>\n",
       "      <td>-23</td>\n",
       "      <td>-94</td>\n",
       "    </tr>\n",
       "    <tr>\n",
       "      <th>3</th>\n",
       "      <td>13</td>\n",
       "      <td>-25</td>\n",
       "    </tr>\n",
       "    <tr>\n",
       "      <th>4</th>\n",
       "      <td>-3</td>\n",
       "      <td>-39</td>\n",
       "    </tr>\n",
       "  </tbody>\n",
       "</table>\n",
       "</div>"
      ],
      "text/plain": [
       "   Latitude  Longitude\n",
       "0       -82        -43\n",
       "1       -66        -87\n",
       "2       -23        -94\n",
       "3        13        -25\n",
       "4        -3        -39"
      ]
     },
     "execution_count": 2,
     "metadata": {},
     "output_type": "execute_result"
    }
   ],
   "source": [
    "############# LATITUDE AND LONGITUDE SIZE TO BE CHANGED TO SIZE = 1500 BEFORE SUBMITTING !!!!!!!!!!!\n",
    "\n",
    "# Set random number seed \n",
    "np.random.seed(100)\n",
    "\n",
    "# Create a list of random latitudes and longitudes\n",
    "lats = np.random.randint(-90, 90, size=20)\n",
    "longs = np.random.randint(-180, 180, size=20)\n",
    "\n",
    "# Place these latitude and longitude lists into a DataFrame\n",
    "coords = pd.DataFrame({\"Latitude\": lats, \"Longitude\": longs})\n",
    "\n",
    "# Show preview of DataFrame\n",
    "coords.head()"
   ]
  },
  {
   "cell_type": "code",
   "execution_count": 3,
   "metadata": {},
   "outputs": [
    {
     "data": {
      "text/plain": [
       "20"
      ]
     },
     "execution_count": 3,
     "metadata": {},
     "output_type": "execute_result"
    }
   ],
   "source": [
    "# Create empty list to append the retrieved cities\n",
    "cities = []\n",
    "\n",
    "# Create a loop to go through the coords dataframe rows and to look up the closest city from each latitude and longitude\n",
    "for ind, row in coords.iterrows():\n",
    "    \n",
    "    # Retrieve the latitude and longitude for a row\n",
    "    lat, lon = row['Latitude'], row['Longitude']\n",
    "    \n",
    "    # Use citipy to find closest city\n",
    "    city = citipy.nearest_city(lat, lon)\n",
    "    city = city.city_name\n",
    "    \n",
    "    # Add retrieved city to cities list if it is not already in the list\n",
    "    if city not in cities:\n",
    "        cities.append(city)\n",
    "\n",
    "# Print the final amount of cities retrieved\n",
    "len(cities)"
   ]
  },
  {
   "cell_type": "markdown",
   "metadata": {},
   "source": [
    "### Perform API Calls\n",
    "* Perform a weather check on each city using a series of successive API calls.\n",
    "* Include a print log of each city as it's being processed (with the city number and city name).\n"
   ]
  },
  {
   "cell_type": "code",
   "execution_count": 18,
   "metadata": {
    "scrolled": true
   },
   "outputs": [
    {
     "name": "stdout",
     "output_type": "stream",
     "text": [
      "Beginning Data Retrieval\n",
      "-----------------------------\n",
      "Processing Record 1 of Set 1 | ushuaia\n",
      "Processing Record 2 of Set 1 | punta arenas\n",
      "Processing Record 3 of Set 1 | pisco\n",
      "Processing Record 4 of Set 1 | sao filipe\n",
      "Processing Record 5 of Set 1 | trairi\n",
      "Processing Record 6 of Set 1 | victoria\n",
      "Processing Record 7 of Set 1 | berlevag\n",
      "Processing Record 8 of Set 1 | kirkland lake\n",
      "City not found. Skipping...\n",
      "Processing Record 9 of Set 1 | santa cruz\n",
      "Processing Record 10 of Set 1 | stawell\n",
      "Processing Record 11 of Set 1 | ilhabela\n",
      "Processing Record 12 of Set 1 | rikitea\n",
      "Processing Record 13 of Set 1 | hermanus\n",
      "Processing Record 14 of Set 1 | new norfolk\n",
      "Processing Record 15 of Set 1 | tashtyp\n",
      "Processing Record 16 of Set 1 | kidal\n",
      "Processing Record 17 of Set 1 | bambous virieux\n",
      "Processing Record 18 of Set 1 | port macquarie\n",
      "Processing Record 19 of Set 1 | provideniya\n",
      "-----------------------------\n",
      "Data Retrieval Complete\n",
      "-----------------------------\n"
     ]
    }
   ],
   "source": [
    "# Save config information\n",
    "url = \"http://api.openweathermap.org/data/2.5/weather?\"\n",
    "units = \"imperial\"\n",
    "query_url = f\"{url}appid={weather_api_key}&units={units}&q=\"\n",
    "\n",
    "# Set time to pause between each loop to enable api data retrieval\n",
    "time_between = 1\n",
    "\n",
    "# Set empty lists to fill during loop\n",
    "final_city = []\n",
    "lat = []\n",
    "long = []\n",
    "max_temp = []\n",
    "humidity = []\n",
    "cloudiness = []\n",
    "wind_speed = []\n",
    "country = []\n",
    "date = []\n",
    "\n",
    "# Log counter\n",
    "record = 0\n",
    "set = 1\n",
    "\n",
    "# Print log of each city\n",
    "print(\"Beginning Data Retrieval\")     \n",
    "print(\"-----------------------------\")\n",
    "\n",
    "# Create a loop to loop through each city and retrieve weather data to append to lists, pausing for a second at the end of each loop   \n",
    "for city in cities:    \n",
    "            \n",
    "    try:\n",
    "        response = requests.get(query_url + city).json()\n",
    "        \n",
    "        lat.append(response['coord']['lat'])\n",
    "        long.append(response['coord']['lon'])\n",
    "        max_temp.append(response['main']['temp_max'])\n",
    "        humidity.append(response['main']['humidity'])\n",
    "        cloudiness.append(response['clouds']['all'])\n",
    "        wind_speed.append(response['wind']['speed'])\n",
    "        country.append(response['sys']['country'])\n",
    "        date.append(response['dt'])\n",
    "        \n",
    "        # Add to log counter\n",
    "        if record >= 50:\n",
    "            record = 1\n",
    "            set += 1\n",
    "            final_city.append(city)\n",
    "        else:\n",
    "            record += 1\n",
    "            final_city.append(city)\n",
    "            \n",
    "        print(f\"Processing Record {record} of Set {set} | {city}\")\n",
    "        \n",
    "    except KeyError:\n",
    "        print(\"City not found. Skipping...\")\n",
    "\n",
    "    time.sleep(time_between)\n",
    "\n",
    "print(\"-----------------------------\")\n",
    "print(\"Data Retrieval Complete\")\n",
    "print(\"-----------------------------\")"
   ]
  },
  {
   "cell_type": "markdown",
   "metadata": {},
   "source": [
    "### Convert Raw Data to DataFrame\n",
    "* Export the city data into a .csv.\n",
    "* Display the DataFrame"
   ]
  },
  {
   "cell_type": "code",
   "execution_count": 19,
   "metadata": {},
   "outputs": [
    {
     "data": {
      "text/html": [
       "<div>\n",
       "<style scoped>\n",
       "    .dataframe tbody tr th:only-of-type {\n",
       "        vertical-align: middle;\n",
       "    }\n",
       "\n",
       "    .dataframe tbody tr th {\n",
       "        vertical-align: top;\n",
       "    }\n",
       "\n",
       "    .dataframe thead th {\n",
       "        text-align: right;\n",
       "    }\n",
       "</style>\n",
       "<table border=\"1\" class=\"dataframe\">\n",
       "  <thead>\n",
       "    <tr style=\"text-align: right;\">\n",
       "      <th></th>\n",
       "      <th>City</th>\n",
       "      <th>Lat</th>\n",
       "      <th>Lng</th>\n",
       "      <th>Max. Temp</th>\n",
       "      <th>Humidity</th>\n",
       "      <th>Cloudiness</th>\n",
       "      <th>Wind Speed</th>\n",
       "      <th>Country</th>\n",
       "      <th>Date</th>\n",
       "    </tr>\n",
       "  </thead>\n",
       "  <tbody>\n",
       "    <tr>\n",
       "      <th>0</th>\n",
       "      <td>ushuaia</td>\n",
       "      <td>-54.8000</td>\n",
       "      <td>-68.3000</td>\n",
       "      <td>48.20</td>\n",
       "      <td>40</td>\n",
       "      <td>40</td>\n",
       "      <td>12.66</td>\n",
       "      <td>AR</td>\n",
       "      <td>1618994487</td>\n",
       "    </tr>\n",
       "    <tr>\n",
       "      <th>1</th>\n",
       "      <td>punta arenas</td>\n",
       "      <td>-53.1500</td>\n",
       "      <td>-70.9167</td>\n",
       "      <td>32.00</td>\n",
       "      <td>80</td>\n",
       "      <td>40</td>\n",
       "      <td>6.91</td>\n",
       "      <td>CL</td>\n",
       "      <td>1618994637</td>\n",
       "    </tr>\n",
       "    <tr>\n",
       "      <th>2</th>\n",
       "      <td>pisco</td>\n",
       "      <td>-13.7000</td>\n",
       "      <td>-76.2167</td>\n",
       "      <td>64.40</td>\n",
       "      <td>88</td>\n",
       "      <td>1</td>\n",
       "      <td>10.36</td>\n",
       "      <td>PE</td>\n",
       "      <td>1618994638</td>\n",
       "    </tr>\n",
       "    <tr>\n",
       "      <th>3</th>\n",
       "      <td>sao filipe</td>\n",
       "      <td>14.8961</td>\n",
       "      <td>-24.4956</td>\n",
       "      <td>71.82</td>\n",
       "      <td>73</td>\n",
       "      <td>100</td>\n",
       "      <td>14.09</td>\n",
       "      <td>CV</td>\n",
       "      <td>1618994639</td>\n",
       "    </tr>\n",
       "    <tr>\n",
       "      <th>4</th>\n",
       "      <td>trairi</td>\n",
       "      <td>-3.2778</td>\n",
       "      <td>-39.2689</td>\n",
       "      <td>72.46</td>\n",
       "      <td>96</td>\n",
       "      <td>100</td>\n",
       "      <td>4.21</td>\n",
       "      <td>BR</td>\n",
       "      <td>1618994640</td>\n",
       "    </tr>\n",
       "  </tbody>\n",
       "</table>\n",
       "</div>"
      ],
      "text/plain": [
       "           City      Lat      Lng  Max. Temp  Humidity  Cloudiness  \\\n",
       "0       ushuaia -54.8000 -68.3000      48.20        40          40   \n",
       "1  punta arenas -53.1500 -70.9167      32.00        80          40   \n",
       "2         pisco -13.7000 -76.2167      64.40        88           1   \n",
       "3    sao filipe  14.8961 -24.4956      71.82        73         100   \n",
       "4        trairi  -3.2778 -39.2689      72.46        96         100   \n",
       "\n",
       "   Wind Speed Country        Date  \n",
       "0       12.66      AR  1618994487  \n",
       "1        6.91      CL  1618994637  \n",
       "2       10.36      PE  1618994638  \n",
       "3       14.09      CV  1618994639  \n",
       "4        4.21      BR  1618994640  "
      ]
     },
     "execution_count": 19,
     "metadata": {},
     "output_type": "execute_result"
    }
   ],
   "source": [
    "# Create a dataframe from the retrieved weather data\n",
    "weather_dict = {\"City\": final_city,\n",
    "                \"Lat\": lat,\n",
    "                \"Lng\": long,\n",
    "                \"Max. Temp\": max_temp,\n",
    "                \"Humidity\": humidity,\n",
    "                \"Cloudiness\": cloudiness,\n",
    "                \"Wind Speed\": wind_speed,\n",
    "                \"Country\": country,\n",
    "                \"Date\": date}\n",
    "\n",
    "weather_data_df = pd.DataFrame(weather_dict)\n",
    "\n",
    "# Show preview of weather dataframe\n",
    "weather_data_df.head()"
   ]
  },
  {
   "cell_type": "code",
   "execution_count": 20,
   "metadata": {},
   "outputs": [
    {
     "data": {
      "text/plain": [
       "City          19\n",
       "Lat           19\n",
       "Lng           19\n",
       "Max. Temp     19\n",
       "Humidity      19\n",
       "Cloudiness    19\n",
       "Wind Speed    19\n",
       "Country       19\n",
       "Date          19\n",
       "dtype: int64"
      ]
     },
     "execution_count": 20,
     "metadata": {},
     "output_type": "execute_result"
    }
   ],
   "source": [
    "weather_data_df.count()"
   ]
  },
  {
   "cell_type": "code",
   "execution_count": 21,
   "metadata": {},
   "outputs": [
    {
     "data": {
      "text/html": [
       "<div>\n",
       "<style scoped>\n",
       "    .dataframe tbody tr th:only-of-type {\n",
       "        vertical-align: middle;\n",
       "    }\n",
       "\n",
       "    .dataframe tbody tr th {\n",
       "        vertical-align: top;\n",
       "    }\n",
       "\n",
       "    .dataframe thead th {\n",
       "        text-align: right;\n",
       "    }\n",
       "</style>\n",
       "<table border=\"1\" class=\"dataframe\">\n",
       "  <thead>\n",
       "    <tr style=\"text-align: right;\">\n",
       "      <th></th>\n",
       "      <th>Lat</th>\n",
       "      <th>Lng</th>\n",
       "      <th>Max. Temp</th>\n",
       "      <th>Humidity</th>\n",
       "      <th>Cloudiness</th>\n",
       "      <th>Wind Speed</th>\n",
       "      <th>Date</th>\n",
       "    </tr>\n",
       "  </thead>\n",
       "  <tbody>\n",
       "    <tr>\n",
       "      <th>count</th>\n",
       "      <td>19.000000</td>\n",
       "      <td>19.000000</td>\n",
       "      <td>19.000000</td>\n",
       "      <td>19.000000</td>\n",
       "      <td>19.000000</td>\n",
       "      <td>19.000000</td>\n",
       "      <td>1.900000e+01</td>\n",
       "    </tr>\n",
       "    <tr>\n",
       "      <th>mean</th>\n",
       "      <td>-3.360595</td>\n",
       "      <td>-1.144489</td>\n",
       "      <td>58.614211</td>\n",
       "      <td>66.894737</td>\n",
       "      <td>52.052632</td>\n",
       "      <td>8.986316</td>\n",
       "      <td>1.618995e+09</td>\n",
       "    </tr>\n",
       "    <tr>\n",
       "      <th>std</th>\n",
       "      <td>39.684823</td>\n",
       "      <td>97.005995</td>\n",
       "      <td>20.913650</td>\n",
       "      <td>23.165815</td>\n",
       "      <td>39.829461</td>\n",
       "      <td>6.292926</td>\n",
       "      <td>7.986051e+01</td>\n",
       "    </tr>\n",
       "    <tr>\n",
       "      <th>min</th>\n",
       "      <td>-54.800000</td>\n",
       "      <td>-173.300000</td>\n",
       "      <td>15.800000</td>\n",
       "      <td>4.000000</td>\n",
       "      <td>0.000000</td>\n",
       "      <td>1.010000</td>\n",
       "      <td>1.618994e+09</td>\n",
       "    </tr>\n",
       "    <tr>\n",
       "      <th>25%</th>\n",
       "      <td>-32.926000</td>\n",
       "      <td>-69.608350</td>\n",
       "      <td>46.400000</td>\n",
       "      <td>57.000000</td>\n",
       "      <td>9.500000</td>\n",
       "      <td>4.400000</td>\n",
       "      <td>1.618995e+09</td>\n",
       "    </tr>\n",
       "    <tr>\n",
       "      <th>50%</th>\n",
       "      <td>-17.800000</td>\n",
       "      <td>-24.495600</td>\n",
       "      <td>64.400000</td>\n",
       "      <td>73.000000</td>\n",
       "      <td>60.000000</td>\n",
       "      <td>6.910000</td>\n",
       "      <td>1.618995e+09</td>\n",
       "    </tr>\n",
       "    <tr>\n",
       "      <th>75%</th>\n",
       "      <td>20.363300</td>\n",
       "      <td>73.827900</td>\n",
       "      <td>73.225000</td>\n",
       "      <td>83.000000</td>\n",
       "      <td>92.000000</td>\n",
       "      <td>12.660000</td>\n",
       "      <td>1.618995e+09</td>\n",
       "    </tr>\n",
       "    <tr>\n",
       "      <th>max</th>\n",
       "      <td>70.857800</td>\n",
       "      <td>152.916700</td>\n",
       "      <td>93.250000</td>\n",
       "      <td>96.000000</td>\n",
       "      <td>100.000000</td>\n",
       "      <td>25.320000</td>\n",
       "      <td>1.618995e+09</td>\n",
       "    </tr>\n",
       "  </tbody>\n",
       "</table>\n",
       "</div>"
      ],
      "text/plain": [
       "             Lat         Lng  Max. Temp   Humidity  Cloudiness  Wind Speed  \\\n",
       "count  19.000000   19.000000  19.000000  19.000000   19.000000   19.000000   \n",
       "mean   -3.360595   -1.144489  58.614211  66.894737   52.052632    8.986316   \n",
       "std    39.684823   97.005995  20.913650  23.165815   39.829461    6.292926   \n",
       "min   -54.800000 -173.300000  15.800000   4.000000    0.000000    1.010000   \n",
       "25%   -32.926000  -69.608350  46.400000  57.000000    9.500000    4.400000   \n",
       "50%   -17.800000  -24.495600  64.400000  73.000000   60.000000    6.910000   \n",
       "75%    20.363300   73.827900  73.225000  83.000000   92.000000   12.660000   \n",
       "max    70.857800  152.916700  93.250000  96.000000  100.000000   25.320000   \n",
       "\n",
       "               Date  \n",
       "count  1.900000e+01  \n",
       "mean   1.618995e+09  \n",
       "std    7.986051e+01  \n",
       "min    1.618994e+09  \n",
       "25%    1.618995e+09  \n",
       "50%    1.618995e+09  \n",
       "75%    1.618995e+09  \n",
       "max    1.618995e+09  "
      ]
     },
     "execution_count": 21,
     "metadata": {},
     "output_type": "execute_result"
    }
   ],
   "source": [
    "# Create a summary statistics table frome the weather_data dataframe\n",
    "weather_data_df[['Lat', 'Lng', 'Max. Temp', 'Humidity', 'Cloudiness', 'Wind Speed', 'Date']].describe()"
   ]
  },
  {
   "cell_type": "code",
   "execution_count": 22,
   "metadata": {},
   "outputs": [],
   "source": [
    "# Save weather dataframe as a csv\n",
    "weather_data_df.to_csv(r'output_data\\weather_data.csv', encoding=\"utf-8\", index=False)"
   ]
  },
  {
   "cell_type": "markdown",
   "metadata": {},
   "source": [
    "## Inspect the data and remove the cities where the humidity > 100%.\n",
    "----\n",
    "Skip this step if there are no cities that have humidity > 100%. "
   ]
  },
  {
   "cell_type": "code",
   "execution_count": 23,
   "metadata": {},
   "outputs": [
    {
     "data": {
      "text/html": [
       "<div>\n",
       "<style scoped>\n",
       "    .dataframe tbody tr th:only-of-type {\n",
       "        vertical-align: middle;\n",
       "    }\n",
       "\n",
       "    .dataframe tbody tr th {\n",
       "        vertical-align: top;\n",
       "    }\n",
       "\n",
       "    .dataframe thead th {\n",
       "        text-align: right;\n",
       "    }\n",
       "</style>\n",
       "<table border=\"1\" class=\"dataframe\">\n",
       "  <thead>\n",
       "    <tr style=\"text-align: right;\">\n",
       "      <th></th>\n",
       "      <th>City</th>\n",
       "      <th>Lat</th>\n",
       "      <th>Lng</th>\n",
       "      <th>Max. Temp</th>\n",
       "      <th>Humidity</th>\n",
       "      <th>Cloudiness</th>\n",
       "      <th>Wind Speed</th>\n",
       "      <th>Country</th>\n",
       "      <th>Date</th>\n",
       "    </tr>\n",
       "  </thead>\n",
       "  <tbody>\n",
       "    <tr>\n",
       "      <th>0</th>\n",
       "      <td>ushuaia</td>\n",
       "      <td>-54.8000</td>\n",
       "      <td>-68.3000</td>\n",
       "      <td>48.20</td>\n",
       "      <td>40</td>\n",
       "      <td>40</td>\n",
       "      <td>12.66</td>\n",
       "      <td>AR</td>\n",
       "      <td>1618994487</td>\n",
       "    </tr>\n",
       "    <tr>\n",
       "      <th>1</th>\n",
       "      <td>punta arenas</td>\n",
       "      <td>-53.1500</td>\n",
       "      <td>-70.9167</td>\n",
       "      <td>32.00</td>\n",
       "      <td>80</td>\n",
       "      <td>40</td>\n",
       "      <td>6.91</td>\n",
       "      <td>CL</td>\n",
       "      <td>1618994637</td>\n",
       "    </tr>\n",
       "    <tr>\n",
       "      <th>2</th>\n",
       "      <td>pisco</td>\n",
       "      <td>-13.7000</td>\n",
       "      <td>-76.2167</td>\n",
       "      <td>64.40</td>\n",
       "      <td>88</td>\n",
       "      <td>1</td>\n",
       "      <td>10.36</td>\n",
       "      <td>PE</td>\n",
       "      <td>1618994638</td>\n",
       "    </tr>\n",
       "    <tr>\n",
       "      <th>3</th>\n",
       "      <td>sao filipe</td>\n",
       "      <td>14.8961</td>\n",
       "      <td>-24.4956</td>\n",
       "      <td>71.82</td>\n",
       "      <td>73</td>\n",
       "      <td>100</td>\n",
       "      <td>14.09</td>\n",
       "      <td>CV</td>\n",
       "      <td>1618994639</td>\n",
       "    </tr>\n",
       "    <tr>\n",
       "      <th>4</th>\n",
       "      <td>trairi</td>\n",
       "      <td>-3.2778</td>\n",
       "      <td>-39.2689</td>\n",
       "      <td>72.46</td>\n",
       "      <td>96</td>\n",
       "      <td>100</td>\n",
       "      <td>4.21</td>\n",
       "      <td>BR</td>\n",
       "      <td>1618994640</td>\n",
       "    </tr>\n",
       "  </tbody>\n",
       "</table>\n",
       "</div>"
      ],
      "text/plain": [
       "           City      Lat      Lng  Max. Temp  Humidity  Cloudiness  \\\n",
       "0       ushuaia -54.8000 -68.3000      48.20        40          40   \n",
       "1  punta arenas -53.1500 -70.9167      32.00        80          40   \n",
       "2         pisco -13.7000 -76.2167      64.40        88           1   \n",
       "3    sao filipe  14.8961 -24.4956      71.82        73         100   \n",
       "4        trairi  -3.2778 -39.2689      72.46        96         100   \n",
       "\n",
       "   Wind Speed Country        Date  \n",
       "0       12.66      AR  1618994487  \n",
       "1        6.91      CL  1618994637  \n",
       "2       10.36      PE  1618994638  \n",
       "3       14.09      CV  1618994639  \n",
       "4        4.21      BR  1618994640  "
      ]
     },
     "execution_count": 23,
     "metadata": {},
     "output_type": "execute_result"
    }
   ],
   "source": [
    "cleaned_weather_data_df = weather_data_df.query(\"Humidity < 100\")\n",
    "cleaned_weather_data_df.head()"
   ]
  },
  {
   "cell_type": "code",
   "execution_count": 24,
   "metadata": {},
   "outputs": [
    {
     "data": {
      "text/html": [
       "<div>\n",
       "<style scoped>\n",
       "    .dataframe tbody tr th:only-of-type {\n",
       "        vertical-align: middle;\n",
       "    }\n",
       "\n",
       "    .dataframe tbody tr th {\n",
       "        vertical-align: top;\n",
       "    }\n",
       "\n",
       "    .dataframe thead th {\n",
       "        text-align: right;\n",
       "    }\n",
       "</style>\n",
       "<table border=\"1\" class=\"dataframe\">\n",
       "  <thead>\n",
       "    <tr style=\"text-align: right;\">\n",
       "      <th></th>\n",
       "      <th>City</th>\n",
       "      <th>Lat</th>\n",
       "      <th>Lng</th>\n",
       "      <th>Max. Temp</th>\n",
       "      <th>Humidity</th>\n",
       "      <th>Cloudiness</th>\n",
       "      <th>Wind Speed</th>\n",
       "      <th>Country</th>\n",
       "      <th>Date</th>\n",
       "    </tr>\n",
       "  </thead>\n",
       "  <tbody>\n",
       "  </tbody>\n",
       "</table>\n",
       "</div>"
      ],
      "text/plain": [
       "Empty DataFrame\n",
       "Columns: [City, Lat, Lng, Max. Temp, Humidity, Cloudiness, Wind Speed, Country, Date]\n",
       "Index: []"
      ]
     },
     "execution_count": 24,
     "metadata": {},
     "output_type": "execute_result"
    }
   ],
   "source": [
    "high_humidity_df = weather_data_df.query(\"Humidity >= 100\")\n",
    "high_humidity_df.head()"
   ]
  },
  {
   "cell_type": "code",
   "execution_count": 25,
   "metadata": {},
   "outputs": [
    {
     "data": {
      "text/plain": [
       "[]"
      ]
     },
     "execution_count": 25,
     "metadata": {},
     "output_type": "execute_result"
    }
   ],
   "source": [
    "#  Get the indices of cities that have humidity over 100%\n",
    "indices = weather_data_df[weather_data_df['Humidity']>=100].index.tolist()\n",
    "indices\n"
   ]
  },
  {
   "cell_type": "code",
   "execution_count": 26,
   "metadata": {},
   "outputs": [
    {
     "data": {
      "text/plain": [
       "'21-04-2021'"
      ]
     },
     "execution_count": 26,
     "metadata": {},
     "output_type": "execute_result"
    }
   ],
   "source": [
    "# Convert the date that the data is retrieved from Unix timestamp to readable format\n",
    "date_unix_timestamp = cleaned_weather_data_df['Date'].iloc[0]\n",
    "retrieval_date = datetime.utcfromtimestamp(date_unix_timestamp).strftime('%d-%m-%Y')\n",
    "retrieval_date"
   ]
  },
  {
   "cell_type": "code",
   "execution_count": 27,
   "metadata": {},
   "outputs": [
    {
     "data": {
      "text/html": [
       "<div>\n",
       "<style scoped>\n",
       "    .dataframe tbody tr th:only-of-type {\n",
       "        vertical-align: middle;\n",
       "    }\n",
       "\n",
       "    .dataframe tbody tr th {\n",
       "        vertical-align: top;\n",
       "    }\n",
       "\n",
       "    .dataframe thead th {\n",
       "        text-align: right;\n",
       "    }\n",
       "</style>\n",
       "<table border=\"1\" class=\"dataframe\">\n",
       "  <thead>\n",
       "    <tr style=\"text-align: right;\">\n",
       "      <th></th>\n",
       "      <th>City</th>\n",
       "      <th>Lat</th>\n",
       "      <th>Lng</th>\n",
       "      <th>Max. Temp</th>\n",
       "      <th>Humidity</th>\n",
       "      <th>Cloudiness</th>\n",
       "      <th>Wind Speed</th>\n",
       "      <th>Country</th>\n",
       "      <th>Date</th>\n",
       "    </tr>\n",
       "  </thead>\n",
       "  <tbody>\n",
       "    <tr>\n",
       "      <th>0</th>\n",
       "      <td>ushuaia</td>\n",
       "      <td>-54.8000</td>\n",
       "      <td>-68.3000</td>\n",
       "      <td>48.20</td>\n",
       "      <td>40</td>\n",
       "      <td>40</td>\n",
       "      <td>12.66</td>\n",
       "      <td>AR</td>\n",
       "      <td>1618994487</td>\n",
       "    </tr>\n",
       "    <tr>\n",
       "      <th>1</th>\n",
       "      <td>punta arenas</td>\n",
       "      <td>-53.1500</td>\n",
       "      <td>-70.9167</td>\n",
       "      <td>32.00</td>\n",
       "      <td>80</td>\n",
       "      <td>40</td>\n",
       "      <td>6.91</td>\n",
       "      <td>CL</td>\n",
       "      <td>1618994637</td>\n",
       "    </tr>\n",
       "    <tr>\n",
       "      <th>2</th>\n",
       "      <td>pisco</td>\n",
       "      <td>-13.7000</td>\n",
       "      <td>-76.2167</td>\n",
       "      <td>64.40</td>\n",
       "      <td>88</td>\n",
       "      <td>1</td>\n",
       "      <td>10.36</td>\n",
       "      <td>PE</td>\n",
       "      <td>1618994638</td>\n",
       "    </tr>\n",
       "    <tr>\n",
       "      <th>3</th>\n",
       "      <td>sao filipe</td>\n",
       "      <td>14.8961</td>\n",
       "      <td>-24.4956</td>\n",
       "      <td>71.82</td>\n",
       "      <td>73</td>\n",
       "      <td>100</td>\n",
       "      <td>14.09</td>\n",
       "      <td>CV</td>\n",
       "      <td>1618994639</td>\n",
       "    </tr>\n",
       "    <tr>\n",
       "      <th>4</th>\n",
       "      <td>trairi</td>\n",
       "      <td>-3.2778</td>\n",
       "      <td>-39.2689</td>\n",
       "      <td>72.46</td>\n",
       "      <td>96</td>\n",
       "      <td>100</td>\n",
       "      <td>4.21</td>\n",
       "      <td>BR</td>\n",
       "      <td>1618994640</td>\n",
       "    </tr>\n",
       "  </tbody>\n",
       "</table>\n",
       "</div>"
      ],
      "text/plain": [
       "           City      Lat      Lng  Max. Temp  Humidity  Cloudiness  \\\n",
       "0       ushuaia -54.8000 -68.3000      48.20        40          40   \n",
       "1  punta arenas -53.1500 -70.9167      32.00        80          40   \n",
       "2         pisco -13.7000 -76.2167      64.40        88           1   \n",
       "3    sao filipe  14.8961 -24.4956      71.82        73         100   \n",
       "4        trairi  -3.2778 -39.2689      72.46        96         100   \n",
       "\n",
       "   Wind Speed Country        Date  \n",
       "0       12.66      AR  1618994487  \n",
       "1        6.91      CL  1618994637  \n",
       "2       10.36      PE  1618994638  \n",
       "3       14.09      CV  1618994639  \n",
       "4        4.21      BR  1618994640  "
      ]
     },
     "execution_count": 27,
     "metadata": {},
     "output_type": "execute_result"
    }
   ],
   "source": [
    "# Make a new DataFrame equal to the city data to drop all humidity outliers by index.\n",
    "# Passing \"inplace=False\" will make a copy of the city_data DataFrame, which we call \"clean_city_data\".\n",
    "clean_city_data_df = weather_data_df.drop(indices, inplace=False)\n",
    "clean_city_data_df.head()"
   ]
  },
  {
   "cell_type": "markdown",
   "metadata": {},
   "source": [
    "## Plotting the Data\n",
    "* Use proper labeling of the plots using plot titles (including date of analysis) and axes labels.\n",
    "* Save the plotted figures as .pngs."
   ]
  },
  {
   "cell_type": "markdown",
   "metadata": {},
   "source": [
    "## Latitude vs. Temperature Plot"
   ]
  },
  {
   "cell_type": "code",
   "execution_count": 29,
   "metadata": {
    "scrolled": true
   },
   "outputs": [
    {
     "data": {
      "image/png": "[encoded data removed]",
      "text/plain": [
       "<Figure size 432x288 with 1 Axes>"
      ]
     },
     "metadata": {
      "needs_background": "light"
     },
     "output_type": "display_data"
    },
    {
     "name": "stdout",
     "output_type": "stream",
     "text": [
      "Latitude of city plotted against maximum temperature of the city on 21-04-2021.\n"
     ]
    }
   ],
   "source": [
    "# Set x and y axis for scatter plot of Latitude vs. Max Temperature\n",
    "x_axis = clean_city_data_df[\"Lat\"]\n",
    "y_axis = clean_city_data_df[\"Max. Temp\"]\n",
    "\n",
    "# Create scatter plot\n",
    "plt.scatter(x_axis, y_axis)\n",
    "\n",
    "# Add title and labels to line plot\n",
    "plt.title(f'City Latitude vs. Max Temperature {retrieval_date}')\n",
    "plt.xlabel('Latitude')\n",
    "plt.ylabel('Max Temperature (F)')\n",
    "\n",
    "# Save plotted figure as .png\n",
    "plt.savefig(\"images/latitude_temperature.png\")\n",
    "\n",
    "# Show scatter plot\n",
    "plt.show()\n",
    "print(f\"Latitude of city plotted against maximum temperature of the city on {retrieval_date}.\")"
   ]
  },
  {
   "cell_type": "markdown",
   "metadata": {},
   "source": [
    "## Latitude vs. Humidity Plot"
   ]
  },
  {
   "cell_type": "code",
   "execution_count": 30,
   "metadata": {},
   "outputs": [
    {
     "data": {
      "image/png": "[encoded data removed]",
      "text/plain": [
       "<Figure size 432x288 with 1 Axes>"
      ]
     },
     "metadata": {
      "needs_background": "light"
     },
     "output_type": "display_data"
    },
    {
     "name": "stdout",
     "output_type": "stream",
     "text": [
      "Latitude of city plotted against humidity of the city on 21-04-2021.\n"
     ]
    }
   ],
   "source": [
    "# Set x and y axis for scatter plot of Latitude vs. Humidity\n",
    "x_axis = clean_city_data_df[\"Lat\"]\n",
    "y_axis = clean_city_data_df[\"Humidity\"]\n",
    "\n",
    "# Create scatter plot\n",
    "plt.scatter(x_axis, y_axis)\n",
    "\n",
    "# Add title and labels to line plot\n",
    "plt.title(f'City Latitude vs. Humidity {retrieval_date}')\n",
    "plt.xlabel('Latitude')\n",
    "plt.ylabel('Humidity (%)')\n",
    "\n",
    "# Save plotted figure as .png\n",
    "plt.savefig(\"images/latitude_humidity.png\")\n",
    "\n",
    "# Show scatter plot\n",
    "plt.show()\n",
    "print(f\"Latitude of city plotted against humidity of the city on {retrieval_date}.\")"
   ]
  },
  {
   "cell_type": "markdown",
   "metadata": {},
   "source": [
    "## Latitude vs. Cloudiness Plot"
   ]
  },
  {
   "cell_type": "code",
   "execution_count": 31,
   "metadata": {},
   "outputs": [
    {
     "data": {
      "image/png": "[encoded data removed]",
      "text/plain": [
       "<Figure size 432x288 with 1 Axes>"
      ]
     },
     "metadata": {
      "needs_background": "light"
     },
     "output_type": "display_data"
    },
    {
     "name": "stdout",
     "output_type": "stream",
     "text": [
      "Latitude of city plotted against Cloudiness of the city on 21-04-2021.\n"
     ]
    }
   ],
   "source": [
    "# Set x and y axis for scatter plot of Latitude vs. Cloudiness\n",
    "x_axis = clean_city_data_df[\"Lat\"]\n",
    "y_axis = clean_city_data_df[\"Cloudiness\"]\n",
    "\n",
    "# Create scatter plot\n",
    "plt.scatter(x_axis, y_axis)\n",
    "\n",
    "# Add title and labels to line plot\n",
    "plt.title(f'City Latitude vs. Cloudiness {retrieval_date}')\n",
    "plt.xlabel('Latitude')\n",
    "plt.ylabel('Cloudiness (%)')\n",
    "\n",
    "# Save plotted figure as .png\n",
    "plt.savefig(\"images/cloudiness_temperature.png\")\n",
    "\n",
    "# Show scatter plot\n",
    "plt.show()\n",
    "print(f\"Latitude of city plotted against Cloudiness of the city on {retrieval_date}.\")"
   ]
  },
  {
   "cell_type": "markdown",
   "metadata": {},
   "source": [
    "## Latitude vs. Wind Speed Plot"
   ]
  },
  {
   "cell_type": "code",
   "execution_count": 32,
   "metadata": {},
   "outputs": [
    {
     "data": {
      "image/png": "[encoded data removed]",
      "text/plain": [
       "<Figure size 432x288 with 1 Axes>"
      ]
     },
     "metadata": {
      "needs_background": "light"
     },
     "output_type": "display_data"
    },
    {
     "name": "stdout",
     "output_type": "stream",
     "text": [
      "Latitude of city plotted against Wind Speed of the city on 21-04-2021.\n"
     ]
    }
   ],
   "source": [
    "# Set date x and y axis for scatter plot of Latitude vs. Wind Speed\n",
    "x_axis = clean_city_data_df[\"Lat\"]\n",
    "y_axis = clean_city_data_df[\"Wind Speed\"]\n",
    "\n",
    "# Create scatter plot\n",
    "plt.scatter(x_axis, y_axis)\n",
    "\n",
    "# Add title and labels to line plot\n",
    "plt.title(f'City Latitude vs. Wind Speed {retrieval_date}')\n",
    "plt.xlabel('Latitude')\n",
    "plt.ylabel('Wind Speed (mphh)')\n",
    "\n",
    "# Save plotted figure as .png\n",
    "plt.savefig(\"images/latitude_wind_speed.png\")\n",
    "\n",
    "# Show scatter plot\n",
    "plt.show()\n",
    "print(f\"Latitude of city plotted against Wind Speed of the city on {retrieval_date}.\")"
   ]
  },
  {
   "cell_type": "markdown",
   "metadata": {},
   "source": [
    "## Linear Regression"
   ]
  },
  {
   "cell_type": "code",
   "execution_count": 33,
   "metadata": {},
   "outputs": [
    {
     "data": {
      "text/html": [
       "<div>\n",
       "<style scoped>\n",
       "    .dataframe tbody tr th:only-of-type {\n",
       "        vertical-align: middle;\n",
       "    }\n",
       "\n",
       "    .dataframe tbody tr th {\n",
       "        vertical-align: top;\n",
       "    }\n",
       "\n",
       "    .dataframe thead th {\n",
       "        text-align: right;\n",
       "    }\n",
       "</style>\n",
       "<table border=\"1\" class=\"dataframe\">\n",
       "  <thead>\n",
       "    <tr style=\"text-align: right;\">\n",
       "      <th></th>\n",
       "      <th>City</th>\n",
       "      <th>Lat</th>\n",
       "      <th>Lng</th>\n",
       "      <th>Max. Temp</th>\n",
       "      <th>Humidity</th>\n",
       "      <th>Cloudiness</th>\n",
       "      <th>Wind Speed</th>\n",
       "      <th>Country</th>\n",
       "      <th>Date</th>\n",
       "    </tr>\n",
       "  </thead>\n",
       "  <tbody>\n",
       "    <tr>\n",
       "      <th>3</th>\n",
       "      <td>sao filipe</td>\n",
       "      <td>14.8961</td>\n",
       "      <td>-24.4956</td>\n",
       "      <td>71.82</td>\n",
       "      <td>73</td>\n",
       "      <td>100</td>\n",
       "      <td>14.09</td>\n",
       "      <td>CV</td>\n",
       "      <td>1618994639</td>\n",
       "    </tr>\n",
       "    <tr>\n",
       "      <th>5</th>\n",
       "      <td>victoria</td>\n",
       "      <td>22.2855</td>\n",
       "      <td>114.1577</td>\n",
       "      <td>78.01</td>\n",
       "      <td>57</td>\n",
       "      <td>0</td>\n",
       "      <td>15.01</td>\n",
       "      <td>HK</td>\n",
       "      <td>1618994428</td>\n",
       "    </tr>\n",
       "    <tr>\n",
       "      <th>6</th>\n",
       "      <td>berlevag</td>\n",
       "      <td>70.8578</td>\n",
       "      <td>29.0864</td>\n",
       "      <td>44.60</td>\n",
       "      <td>53</td>\n",
       "      <td>0</td>\n",
       "      <td>25.32</td>\n",
       "      <td>NO</td>\n",
       "      <td>1618994643</td>\n",
       "    </tr>\n",
       "    <tr>\n",
       "      <th>7</th>\n",
       "      <td>kirkland lake</td>\n",
       "      <td>48.1446</td>\n",
       "      <td>-80.0377</td>\n",
       "      <td>15.80</td>\n",
       "      <td>86</td>\n",
       "      <td>97</td>\n",
       "      <td>6.06</td>\n",
       "      <td>CA</td>\n",
       "      <td>1618994495</td>\n",
       "    </tr>\n",
       "    <tr>\n",
       "      <th>14</th>\n",
       "      <td>tashtyp</td>\n",
       "      <td>52.7939</td>\n",
       "      <td>89.8983</td>\n",
       "      <td>35.26</td>\n",
       "      <td>31</td>\n",
       "      <td>100</td>\n",
       "      <td>8.05</td>\n",
       "      <td>RU</td>\n",
       "      <td>1618994504</td>\n",
       "    </tr>\n",
       "  </tbody>\n",
       "</table>\n",
       "</div>"
      ],
      "text/plain": [
       "             City      Lat       Lng  Max. Temp  Humidity  Cloudiness  \\\n",
       "3      sao filipe  14.8961  -24.4956      71.82        73         100   \n",
       "5        victoria  22.2855  114.1577      78.01        57           0   \n",
       "6        berlevag  70.8578   29.0864      44.60        53           0   \n",
       "7   kirkland lake  48.1446  -80.0377      15.80        86          97   \n",
       "14        tashtyp  52.7939   89.8983      35.26        31         100   \n",
       "\n",
       "    Wind Speed Country        Date  \n",
       "3        14.09      CV  1618994639  \n",
       "5        15.01      HK  1618994428  \n",
       "6        25.32      NO  1618994643  \n",
       "7         6.06      CA  1618994495  \n",
       "14        8.05      RU  1618994504  "
      ]
     },
     "execution_count": 33,
     "metadata": {},
     "output_type": "execute_result"
    }
   ],
   "source": [
    "# Reduce the clean dataframe to cities only in the Northern Hemisphere\n",
    "northern_hemisphere_df = clean_city_data_df.query(f\"Lat >= 0\")\n",
    "northern_hemisphere_df.head()"
   ]
  },
  {
   "cell_type": "code",
   "execution_count": 34,
   "metadata": {},
   "outputs": [
    {
     "data": {
      "text/html": [
       "<div>\n",
       "<style scoped>\n",
       "    .dataframe tbody tr th:only-of-type {\n",
       "        vertical-align: middle;\n",
       "    }\n",
       "\n",
       "    .dataframe tbody tr th {\n",
       "        vertical-align: top;\n",
       "    }\n",
       "\n",
       "    .dataframe thead th {\n",
       "        text-align: right;\n",
       "    }\n",
       "</style>\n",
       "<table border=\"1\" class=\"dataframe\">\n",
       "  <thead>\n",
       "    <tr style=\"text-align: right;\">\n",
       "      <th></th>\n",
       "      <th>City</th>\n",
       "      <th>Lat</th>\n",
       "      <th>Lng</th>\n",
       "      <th>Max. Temp</th>\n",
       "      <th>Humidity</th>\n",
       "      <th>Cloudiness</th>\n",
       "      <th>Wind Speed</th>\n",
       "      <th>Country</th>\n",
       "      <th>Date</th>\n",
       "    </tr>\n",
       "  </thead>\n",
       "  <tbody>\n",
       "    <tr>\n",
       "      <th>0</th>\n",
       "      <td>ushuaia</td>\n",
       "      <td>-54.8000</td>\n",
       "      <td>-68.3000</td>\n",
       "      <td>48.20</td>\n",
       "      <td>40</td>\n",
       "      <td>40</td>\n",
       "      <td>12.66</td>\n",
       "      <td>AR</td>\n",
       "      <td>1618994487</td>\n",
       "    </tr>\n",
       "    <tr>\n",
       "      <th>1</th>\n",
       "      <td>punta arenas</td>\n",
       "      <td>-53.1500</td>\n",
       "      <td>-70.9167</td>\n",
       "      <td>32.00</td>\n",
       "      <td>80</td>\n",
       "      <td>40</td>\n",
       "      <td>6.91</td>\n",
       "      <td>CL</td>\n",
       "      <td>1618994637</td>\n",
       "    </tr>\n",
       "    <tr>\n",
       "      <th>2</th>\n",
       "      <td>pisco</td>\n",
       "      <td>-13.7000</td>\n",
       "      <td>-76.2167</td>\n",
       "      <td>64.40</td>\n",
       "      <td>88</td>\n",
       "      <td>1</td>\n",
       "      <td>10.36</td>\n",
       "      <td>PE</td>\n",
       "      <td>1618994638</td>\n",
       "    </tr>\n",
       "    <tr>\n",
       "      <th>4</th>\n",
       "      <td>trairi</td>\n",
       "      <td>-3.2778</td>\n",
       "      <td>-39.2689</td>\n",
       "      <td>72.46</td>\n",
       "      <td>96</td>\n",
       "      <td>100</td>\n",
       "      <td>4.21</td>\n",
       "      <td>BR</td>\n",
       "      <td>1618994640</td>\n",
       "    </tr>\n",
       "    <tr>\n",
       "      <th>8</th>\n",
       "      <td>santa cruz</td>\n",
       "      <td>-17.8000</td>\n",
       "      <td>-63.1667</td>\n",
       "      <td>71.60</td>\n",
       "      <td>94</td>\n",
       "      <td>75</td>\n",
       "      <td>3.44</td>\n",
       "      <td>BO</td>\n",
       "      <td>1618994646</td>\n",
       "    </tr>\n",
       "  </tbody>\n",
       "</table>\n",
       "</div>"
      ],
      "text/plain": [
       "           City      Lat      Lng  Max. Temp  Humidity  Cloudiness  \\\n",
       "0       ushuaia -54.8000 -68.3000      48.20        40          40   \n",
       "1  punta arenas -53.1500 -70.9167      32.00        80          40   \n",
       "2         pisco -13.7000 -76.2167      64.40        88           1   \n",
       "4        trairi  -3.2778 -39.2689      72.46        96         100   \n",
       "8    santa cruz -17.8000 -63.1667      71.60        94          75   \n",
       "\n",
       "   Wind Speed Country        Date  \n",
       "0       12.66      AR  1618994487  \n",
       "1        6.91      CL  1618994637  \n",
       "2       10.36      PE  1618994638  \n",
       "4        4.21      BR  1618994640  \n",
       "8        3.44      BO  1618994646  "
      ]
     },
     "execution_count": 34,
     "metadata": {},
     "output_type": "execute_result"
    }
   ],
   "source": [
    "# Reduce the clean dataframe to cities only in the Southern Hemisphere\n",
    "Lat=0\n",
    "southern_hemisphere_df = clean_city_data_df.query(f\"Lat < 0\")\n",
    "southern_hemisphere_df.head()"
   ]
  },
  {
   "cell_type": "markdown",
   "metadata": {},
   "source": [
    "####  Northern Hemisphere - Max Temp vs. Latitude Linear Regression"
   ]
  },
  {
   "cell_type": "code",
   "execution_count": 35,
   "metadata": {},
   "outputs": [
    {
     "name": "stdout",
     "output_type": "stream",
     "text": [
      "The r-value is -0.7992941622114564\n"
     ]
    },
    {
     "data": {
      "image/png": "[encoded data removed]",
      "text/plain": [
       "<Figure size 432x288 with 1 Axes>"
      ]
     },
     "metadata": {
      "needs_background": "light"
     },
     "output_type": "display_data"
    },
    {
     "name": "stdout",
     "output_type": "stream",
     "text": [
      "Latitude of Northern cities plotted against maximum temperature of those cities on 21-04-2021.\n"
     ]
    }
   ],
   "source": [
    "# Set x and y axis for scatter plot of Northern Hemisphere Latitude vs. Max Temperature\n",
    "x_axis = northern_hemisphere_df[\"Lat\"]\n",
    "y_axis = northern_hemisphere_df[\"Max. Temp\"]\n",
    "\n",
    "# Create linear regression equation and line to plot\n",
    "(slope, intercept, rvalue, pvalue, stderr) = linregress(x_axis, y_axis)\n",
    "regress_values = x_axis * slope + intercept\n",
    "line_eq = \"y = \" + str(round(slope,2)) + \"x + \" + str(round(intercept,2))\n",
    "plt.plot(x_axis,regress_values,\"r-\")\n",
    "plt.annotate(line_eq,(30,20),fontsize=15,color=\"red\")\n",
    "\n",
    "# Create scatter plot\n",
    "plt.scatter(x_axis, y_axis)\n",
    "\n",
    "# Add title and labels to line plot\n",
    "plt.title(f'Northern Hemisphere - Max Temp vs. Latitude Linear Regression ({retrieval_date})')\n",
    "plt.xlabel('Latitude')\n",
    "plt.ylabel('Max Temperature (F)')\n",
    "\n",
    "# Save plotted figure as .png\n",
    "plt.savefig(\"images/north_hem_temperature.png\")\n",
    "\n",
    "# Show scatter plot\n",
    "print(f\"The r-value is {rvalue}\")\n",
    "plt.show()\n",
    "print(f\"Latitude of Northern cities plotted against maximum temperature of those cities on {retrieval_date}.\")"
   ]
  },
  {
   "cell_type": "markdown",
   "metadata": {},
   "source": [
    "####  Southern Hemisphere - Max Temp vs. Latitude Linear Regression"
   ]
  },
  {
   "cell_type": "code",
   "execution_count": 36,
   "metadata": {},
   "outputs": [
    {
     "name": "stdout",
     "output_type": "stream",
     "text": [
      "The r-value is 0.7738130430455127\n"
     ]
    },
    {
     "data": {
      "image/png": "[encoded data removed]",
      "text/plain": [
       "<Figure size 432x288 with 1 Axes>"
      ]
     },
     "metadata": {
      "needs_background": "light"
     },
     "output_type": "display_data"
    },
    {
     "name": "stdout",
     "output_type": "stream",
     "text": [
      "Latitude of Southern cities plotted against maximum temperature of those cities on 21-04-2021.\n"
     ]
    }
   ],
   "source": [
    "# Set x and y axis for scatter plot of Southern Hemisphere Latitude vs. Max Temperature\n",
    "x_axis = southern_hemisphere_df[\"Lat\"]\n",
    "y_axis = southern_hemisphere_df[\"Max. Temp\"]\n",
    "\n",
    "# Create linear regression equation and line to plot\n",
    "(slope, intercept, rvalue, pvalue, stderr) = linregress(x_axis, y_axis)\n",
    "regress_values = x_axis * slope + intercept\n",
    "line_eq = \"y = \" + str(round(slope,2)) + \"x + \" + str(round(intercept,2))\n",
    "plt.plot(x_axis,regress_values,\"r-\")\n",
    "plt.annotate(line_eq,(-45,8),fontsize=15,color=\"red\")\n",
    "\n",
    "# Create scatter plot\n",
    "plt.scatter(x_axis, y_axis)\n",
    "\n",
    "# Add title and labels to line plot\n",
    "plt.title(f'Southern Hemisphere - Max Temp vs. Latitude Linear Regression ({retrieval_date})')\n",
    "plt.xlabel('Latitude')\n",
    "plt.ylabel('Max Temperature (F)')\n",
    "\n",
    "# Save plotted figure as .png\n",
    "plt.savefig(\"images/south_hem_temperature.png\")\n",
    "\n",
    "# Show scatter plot\n",
    "print(f\"The r-value is {rvalue}\")\n",
    "plt.show()\n",
    "print(f\"Latitude of Southern cities plotted against maximum temperature of those cities on {retrieval_date}.\")"
   ]
  },
  {
   "cell_type": "markdown",
   "metadata": {},
   "source": [
    "####  Northern Hemisphere - Humidity (%) vs. Latitude Linear Regression"
   ]
  },
  {
   "cell_type": "code",
   "execution_count": 37,
   "metadata": {},
   "outputs": [
    {
     "name": "stdout",
     "output_type": "stream",
     "text": [
      "The r-value is 0.21841430936148493\n"
     ]
    },
    {
     "data": {
      "image/png": "[encoded data removed]",
      "text/plain": [
       "<Figure size 432x288 with 1 Axes>"
      ]
     },
     "metadata": {
      "needs_background": "light"
     },
     "output_type": "display_data"
    },
    {
     "name": "stdout",
     "output_type": "stream",
     "text": [
      "Latitude of Northern cities plotted against Humidity of those cities on 21-04-2021.\n"
     ]
    }
   ],
   "source": [
    "# Set x and y axis for scatter plot of Northern Hemisphere Latitude vs. Humidity\n",
    "x_axis = northern_hemisphere_df[\"Lat\"]\n",
    "y_axis = northern_hemisphere_df[\"Humidity\"]\n",
    "\n",
    "# Create linear regression equation and line to plot\n",
    "(slope, intercept, rvalue, pvalue, stderr) = linregress(x_axis, y_axis)\n",
    "regress_values = x_axis * slope + intercept\n",
    "line_eq = \"y = \" + str(round(slope,2)) + \"x + \" + str(round(intercept,2))\n",
    "plt.plot(x_axis,regress_values,\"r-\")\n",
    "plt.annotate(line_eq,(30,20),fontsize=15,color=\"red\")\n",
    "\n",
    "# Create scatter plot\n",
    "plt.scatter(x_axis, y_axis)\n",
    "\n",
    "# Add title and labels to line plot\n",
    "plt.title(f'Northern Hemisphere - Humidity (%) vs. Latitude Linear Regression {retrieval_date}')\n",
    "plt.xlabel('Latitude')\n",
    "plt.ylabel('Humidity (%)')\n",
    "\n",
    "# Save plotted figure as .png\n",
    "plt.savefig(\"images/north_hem_humidity.png\")\n",
    "\n",
    "# Show scatter plot\n",
    "print(f\"The r-value is {rvalue}\")\n",
    "plt.show()\n",
    "print(f\"Latitude of Northern cities plotted against Humidity of those cities on {retrieval_date}.\")"
   ]
  },
  {
   "cell_type": "markdown",
   "metadata": {},
   "source": [
    "####  Southern Hemisphere - Humidity (%) vs. Latitude Linear Regression"
   ]
  },
  {
   "cell_type": "code",
   "execution_count": 38,
   "metadata": {},
   "outputs": [
    {
     "name": "stdout",
     "output_type": "stream",
     "text": [
      "The r-value is 0.7705802876716527\n"
     ]
    },
    {
     "data": {
      "image/png": "[encoded data removed]",
      "text/plain": [
       "<Figure size 432x288 with 1 Axes>"
      ]
     },
     "metadata": {
      "needs_background": "light"
     },
     "output_type": "display_data"
    },
    {
     "name": "stdout",
     "output_type": "stream",
     "text": [
      "Latitude of Southern cities plotted against Humidity of those cities on 21-04-2021.\n"
     ]
    }
   ],
   "source": [
    "# Set x and y axis for scatter plot of Southern Hemisphere Latitude vs. Humidity\n",
    "x_axis = southern_hemisphere_df[\"Lat\"]\n",
    "y_axis = southern_hemisphere_df[\"Humidity\"]\n",
    "\n",
    "# Create linear regression equation and line to plot\n",
    "(slope, intercept, rvalue, pvalue, stderr) = linregress(x_axis, y_axis)\n",
    "regress_values = x_axis * slope + intercept\n",
    "line_eq = \"y = \" + str(round(slope,2)) + \"x + \" + str(round(intercept,2))\n",
    "plt.plot(x_axis,regress_values,\"r-\")\n",
    "plt.annotate(line_eq,(-45,45),fontsize=15,color=\"red\")\n",
    "\n",
    "# Create scatter plot\n",
    "plt.scatter(x_axis, y_axis)\n",
    "\n",
    "# Add title and labels to line plot\n",
    "plt.title(f'Southern Hemisphere - Humidity (%) vs. Latitude Linear Regression ({retrieval_date})')\n",
    "plt.xlabel('Latitude')\n",
    "plt.ylabel('Humidity (%)')\n",
    "\n",
    "# Save plotted figure as .png\n",
    "plt.savefig(\"images/south_hem_humidity.png\")\n",
    "\n",
    "# Show scatter plot\n",
    "print(f\"The r-value is {rvalue}\")\n",
    "plt.show()\n",
    "print(f\"Latitude of Southern cities plotted against Humidity of those cities on {retrieval_date}.\")"
   ]
  },
  {
   "cell_type": "markdown",
   "metadata": {},
   "source": [
    "####  Northern Hemisphere - Cloudiness (%) vs. Latitude Linear Regression"
   ]
  },
  {
   "cell_type": "code",
   "execution_count": 39,
   "metadata": {},
   "outputs": [
    {
     "name": "stdout",
     "output_type": "stream",
     "text": [
      "The r-value is 0.15142137901315747\n"
     ]
    },
    {
     "data": {
      "image/png": "[encoded data removed]",
      "text/plain": [
       "<Figure size 432x288 with 1 Axes>"
      ]
     },
     "metadata": {
      "needs_background": "light"
     },
     "output_type": "display_data"
    },
    {
     "name": "stdout",
     "output_type": "stream",
     "text": [
      "Latitude of Northern cities plotted against Cloudiness of those cities on 21-04-2021.\n"
     ]
    }
   ],
   "source": [
    "# Set x and y axis for scatter plot of Northern Hemisphere Latitude vs. Cloudiness\n",
    "x_axis = northern_hemisphere_df[\"Lat\"]\n",
    "y_axis = northern_hemisphere_df[\"Cloudiness\"]\n",
    "\n",
    "# Create linear regression equation and line to plot\n",
    "(slope, intercept, rvalue, pvalue, stderr) = linregress(x_axis, y_axis)\n",
    "regress_values = x_axis * slope + intercept\n",
    "line_eq = \"y = \" + str(round(slope,2)) + \"x + \" + str(round(intercept,2))\n",
    "plt.plot(x_axis,regress_values,\"r-\")\n",
    "plt.annotate(line_eq,(30,20),fontsize=15,color=\"red\")\n",
    "\n",
    "# Create scatter plot\n",
    "plt.scatter(x_axis, y_axis)\n",
    "\n",
    "# Add title and labels to line plot\n",
    "plt.title(f'Northern Hemisphere - Cloudiness (%) vs. Latitude Linear Regression ({retrieval_date})')\n",
    "plt.xlabel('Latitude')\n",
    "plt.ylabel('Cloudiness (%)')\n",
    "\n",
    "# Save plotted figure as .png\n",
    "plt.savefig(\"images/north_hem_cloudiness.png\")\n",
    "\n",
    "# Show scatter plot\n",
    "print(f\"The r-value is {rvalue}\")\n",
    "plt.show()\n",
    "print(f\"Latitude of Northern cities plotted against Cloudiness of those cities on {retrieval_date}.\")"
   ]
  },
  {
   "cell_type": "markdown",
   "metadata": {},
   "source": [
    "####  Southern Hemisphere - Cloudiness (%) vs. Latitude Linear Regression"
   ]
  },
  {
   "cell_type": "code",
   "execution_count": 40,
   "metadata": {},
   "outputs": [
    {
     "name": "stdout",
     "output_type": "stream",
     "text": [
      "The r-value is 0.2659930768838083\n"
     ]
    },
    {
     "data": {
      "image/png": "[encoded data removed]",
      "text/plain": [
       "<Figure size 432x288 with 1 Axes>"
      ]
     },
     "metadata": {
      "needs_background": "light"
     },
     "output_type": "display_data"
    },
    {
     "name": "stdout",
     "output_type": "stream",
     "text": [
      "Latitude of Southern cities plotted against Cloudiness of those cities on 21-04-2021.\n"
     ]
    }
   ],
   "source": [
    "# Set x and y axis for scatter plot of Southern Hemisphere Latitude vs. Max Temperature\n",
    "x_axis = southern_hemisphere_df[\"Lat\"]\n",
    "y_axis = southern_hemisphere_df[\"Cloudiness\"]\n",
    "\n",
    "# Create linear regression equation and line to plot\n",
    "(slope, intercept, rvalue, pvalue, stderr) = linregress(x_axis, y_axis)\n",
    "regress_values = x_axis * slope + intercept\n",
    "line_eq = \"y = \" + str(round(slope,2)) + \"x + \" + str(round(intercept,2))\n",
    "plt.plot(x_axis,regress_values,\"r-\")\n",
    "plt.annotate(line_eq,(-57,40),fontsize=15,color=\"red\")\n",
    "\n",
    "# Create scatter plot\n",
    "plt.scatter(x_axis, y_axis)\n",
    "\n",
    "# Add title and labels to line plot\n",
    "plt.title(f'Southern Hemisphere - Cloudiness (%) vs. Latitude Linear Regression ({retrieval_date})')\n",
    "plt.xlabel('Latitude')\n",
    "plt.ylabel('Cloudiness (%)')\n",
    "\n",
    "# Save plotted figure as .png\n",
    "plt.savefig(\"images/south_hem_cloudiness.png\")\n",
    "\n",
    "# Show scatter plot\n",
    "print(f\"The r-value is {rvalue}\")\n",
    "plt.show()\n",
    "print(f\"Latitude of Southern cities plotted against Cloudiness of those cities on {retrieval_date}.\")"
   ]
  },
  {
   "cell_type": "markdown",
   "metadata": {},
   "source": [
    "####  Northern Hemisphere - Wind Speed (mph) vs. Latitude Linear Regression"
   ]
  },
  {
   "cell_type": "code",
   "execution_count": 43,
   "metadata": {},
   "outputs": [
    {
     "name": "stdout",
     "output_type": "stream",
     "text": [
      "The r-value is -0.15612357944388003\n"
     ]
    },
    {
     "data": {
      "image/png": "[encoded data removed]",
      "text/plain": [
       "<Figure size 432x288 with 1 Axes>"
      ]
     },
     "metadata": {
      "needs_background": "light"
     },
     "output_type": "display_data"
    },
    {
     "name": "stdout",
     "output_type": "stream",
     "text": [
      "Latitude of Northern cities plotted against Wind Speed of those cities on 21-04-2021.\n"
     ]
    }
   ],
   "source": [
    "# Set x and y axis for scatter plot of Northern Hemisphere Latitude vs. Wind Speed\n",
    "x_axis = northern_hemisphere_df[\"Lat\"]\n",
    "y_axis = northern_hemisphere_df[\"Wind Speed\"]\n",
    "\n",
    "# Create linear regression equation and line to plot\n",
    "(slope, intercept, rvalue, pvalue, stderr) = linregress(x_axis, y_axis)\n",
    "regress_values = x_axis * slope + intercept\n",
    "line_eq = \"y = \" + str(round(slope,2)) + \"x + \" + str(round(intercept,2))\n",
    "plt.plot(x_axis,regress_values,\"r-\")\n",
    "plt.annotate(line_eq,(35,6),fontsize=15,color=\"red\")\n",
    "\n",
    "# Create scatter plot\n",
    "plt.scatter(x_axis, y_axis)\n",
    "\n",
    "# Add title and labels to line plot\n",
    "plt.title(f'Northern Hemisphere - Wind Speed vs. Latitude Linear Regression ({retrieval_date})')\n",
    "plt.xlabel('Latitude')\n",
    "plt.ylabel('Wind Speed (mph)')\n",
    "\n",
    "# Save plotted figure as .png\n",
    "plt.savefig(\"images/north_hem_wind_speed.png\")\n",
    "\n",
    "# Show scatter plot\n",
    "print(f\"The r-value is {rvalue}\")\n",
    "plt.show()\n",
    "print(f\"Latitude of Northern cities plotted against Wind Speed of those cities on {retrieval_date}.\")"
   ]
  },
  {
   "cell_type": "markdown",
   "metadata": {},
   "source": [
    "####  Southern Hemisphere - Wind Speed (mph) vs. Latitude Linear Regression"
   ]
  },
  {
   "cell_type": "code",
   "execution_count": 45,
   "metadata": {},
   "outputs": [
    {
     "name": "stdout",
     "output_type": "stream",
     "text": [
      "The r-value is -0.16218845325664663\n"
     ]
    },
    {
     "data": {
      "image/png": "[encoded data removed]",
      "text/plain": [
       "<Figure size 432x288 with 1 Axes>"
      ]
     },
     "metadata": {
      "needs_background": "light"
     },
     "output_type": "display_data"
    },
    {
     "name": "stdout",
     "output_type": "stream",
     "text": [
      "Latitude of Southern cities plotted against Wind Speed of those cities on 21-04-2021.\n"
     ]
    }
   ],
   "source": [
    "# Set x and y axis for scatter plot of Southern Hemisphere Latitude vs. Wind Speed\n",
    "x_axis = southern_hemisphere_df[\"Lat\"]\n",
    "y_axis = southern_hemisphere_df[\"Wind Speed\"]\n",
    "\n",
    "# Create linear regression equation and line to plot\n",
    "(slope, intercept, rvalue, pvalue, stderr) = linregress(x_axis, y_axis)\n",
    "regress_values = x_axis * slope + intercept\n",
    "line_eq = \"y = \" + str(round(slope,2)) + \"x + \" + str(round(intercept,2))\n",
    "plt.plot(x_axis,regress_values,\"r-\")\n",
    "plt.annotate(line_eq,(-30,4),fontsize=15,color=\"red\")\n",
    "\n",
    "# Create scatter plot\n",
    "plt.scatter(x_axis, y_axis)\n",
    "\n",
    "# Add title and labels to line plot\n",
    "plt.title(f'Southern Hemisphere - Wind Speed vs. Latitude Linear Regression ({retrieval_date}')\n",
    "plt.xlabel('Latitude')\n",
    "plt.ylabel('Wind Speed (mph)')\n",
    "\n",
    "# Save plotted figure as .png\n",
    "plt.savefig(\"images/south_hem_wind_speed.png\")\n",
    "\n",
    "# Show scatter plot\n",
    "print(f\"The r-value is {rvalue}\")\n",
    "plt.show()\n",
    "print(f\"Latitude of Southern cities plotted against Wind Speed of those cities on {retrieval_date}.\")"
   ]
  },
  {
   "cell_type": "code",
   "execution_count": null,
   "metadata": {},
   "outputs": [],
   "source": []
  }
 ],
 "metadata": {
  "anaconda-cloud": {},
  "kernel_info": {
   "name": "python3"
  },
  "kernelspec": {
   "display_name": "Python 3",
   "language": "python",
   "name": "python3"
  },
  "language_info": {
   "codemirror_mode": {
    "name": "ipython",
    "version": 3
   },
   "file_extension": ".py",
   "mimetype": "text/x-python",
   "name": "python",
   "nbconvert_exporter": "python",
   "pygments_lexer": "ipython3",
   "version": "3.8.5"
  },
  "latex_envs": {
   "LaTeX_envs_menu_present": true,
   "autoclose": false,
   "autocomplete": true,
   "bibliofile": "biblio.bib",
   "cite_by": "apalike",
   "current_citInitial": 1,
   "eqLabelWithNumbers": true,
   "eqNumInitial": 1,
   "hotkeys": {
    "equation": "Ctrl-E",
    "itemize": "Ctrl-I"
   },
   "labels_anchors": false,
   "latex_user_defs": false,
   "report_style_numbering": false,
   "user_envs_cfg": false
  },
  "nteract": {
   "version": "0.12.3"
  }
 },
 "nbformat": 4,
 "nbformat_minor": 2
}
