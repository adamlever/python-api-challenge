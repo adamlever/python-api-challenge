{
 "cells": [
  {
   "cell_type": "markdown",
   "metadata": {},
   "source": [
    "# WeatherPy\n",
    "----\n",
    "\n",
    "#### Note\n",
    "* Instructions have been included for each segment. You do not have to follow them exactly, but they are included to help you think through the steps."
   ]
  },
  {
   "cell_type": "markdown",
   "metadata": {},
   "source": [
    "### \"What's the weather like as we approach the equator?\"\n",
    "\n",
    "Written description of three observable trends based on the data;\n",
    "\n",
    "* The maximum temperature of the 540 cities analysed can be observed in the City Latitude vs. Max Temperature scatter plot. In this plot maximum temperatures are higher in those cities closer to the equator (0 degrees), with generally the highest maximum temperatures seen between the tropics (23.5 degrees North and -23.5 degrees South).\n",
    "\n",
    "\n",
    "* This trend is confirmed in the Latitude vs. Max Temperature scatter plots which have been split into those cities in the Northern Hemisphere and those in the Southern hemisphere. The regression line and r-value of -0.90 in the plot of the Northern hemisphere shows a very strong negative linear relationship, as latitude increases and a city is located further north and away from the equator, the lower the maximum temperature. The regression line and r-value of -0.74 in the plot of the Southern hemisphere shows a strong positive linear relationship, as latitude decreases and a city is located further south and away from the equator, the lower the maximum temperature.\n",
    "\n",
    "\n",
    "* Other observations that can be made from the other scatter plots created are that there are very weak to no correlation between humidity, cloudiness and wind speed and the latitude of a city with the r-values of these variables being between 0.2 and -0.2 across the two hemispheres.\n",
    "\n",
    "\n",
    "* It can be concluded then that as you approach the equator that it gets hotter, particularly in respect to maximum temperatures recorded in cities close to the equator. Other factors of weather like humidity, cloudiness and wind speed have little to no observable trends that are specific to regions around the equator."
   ]
  },
  {
   "cell_type": "code",
   "execution_count": 1,
   "metadata": {
    "scrolled": true
   },
   "outputs": [],
   "source": [
    "# Dependencies and Setup\n",
    "import matplotlib.pyplot as plt\n",
    "import pandas as pd\n",
    "import numpy as np\n",
    "\n",
    "import requests\n",
    "import time\n",
    "import json\n",
    "\n",
    "from citipy import citipy\n",
    "from datetime import datetime\n",
    "from scipy.stats import linregress\n",
    "\n",
    "# Import API key\n",
    "from api_keys import weather_api_key"
   ]
  },
  {
   "cell_type": "markdown",
   "metadata": {},
   "source": [
    "## Generate Cities List"
   ]
  },
  {
   "cell_type": "code",
   "execution_count": 2,
   "metadata": {},
   "outputs": [
    {
     "data": {
      "text/html": [
       "<div>\n",
       "<style scoped>\n",
       "    .dataframe tbody tr th:only-of-type {\n",
       "        vertical-align: middle;\n",
       "    }\n",
       "\n",
       "    .dataframe tbody tr th {\n",
       "        vertical-align: top;\n",
       "    }\n",
       "\n",
       "    .dataframe thead th {\n",
       "        text-align: right;\n",
       "    }\n",
       "</style>\n",
       "<table border=\"1\" class=\"dataframe\">\n",
       "  <thead>\n",
       "    <tr style=\"text-align: right;\">\n",
       "      <th></th>\n",
       "      <th>Latitude</th>\n",
       "      <th>Longitude</th>\n",
       "    </tr>\n",
       "  </thead>\n",
       "  <tbody>\n",
       "    <tr>\n",
       "      <th>0</th>\n",
       "      <td>-82</td>\n",
       "      <td>-96</td>\n",
       "    </tr>\n",
       "    <tr>\n",
       "      <th>1</th>\n",
       "      <td>-66</td>\n",
       "      <td>78</td>\n",
       "    </tr>\n",
       "    <tr>\n",
       "      <th>2</th>\n",
       "      <td>-23</td>\n",
       "      <td>115</td>\n",
       "    </tr>\n",
       "    <tr>\n",
       "      <th>3</th>\n",
       "      <td>13</td>\n",
       "      <td>-135</td>\n",
       "    </tr>\n",
       "    <tr>\n",
       "      <th>4</th>\n",
       "      <td>-3</td>\n",
       "      <td>-71</td>\n",
       "    </tr>\n",
       "  </tbody>\n",
       "</table>\n",
       "</div>"
      ],
      "text/plain": [
       "   Latitude  Longitude\n",
       "0       -82        -96\n",
       "1       -66         78\n",
       "2       -23        115\n",
       "3        13       -135\n",
       "4        -3        -71"
      ]
     },
     "execution_count": 2,
     "metadata": {},
     "output_type": "execute_result"
    }
   ],
   "source": [
    "# Set random number seed \n",
    "np.random.seed(100)\n",
    "\n",
    "# Create a list of random latitudes and longitudes\n",
    "lats = np.random.randint(-90, 90, size=1500)\n",
    "longs = np.random.randint(-180, 180, size=1500)\n",
    "\n",
    "# Place these latitude and longitude lists into a DataFrame\n",
    "coords = pd.DataFrame({\"Latitude\": lats, \"Longitude\": longs})\n",
    "\n",
    "# Show preview of DataFrame\n",
    "coords.head()"
   ]
  },
  {
   "cell_type": "code",
   "execution_count": 3,
   "metadata": {},
   "outputs": [
    {
     "data": {
      "text/plain": [
       "604"
      ]
     },
     "execution_count": 3,
     "metadata": {},
     "output_type": "execute_result"
    }
   ],
   "source": [
    "# Create empty list to append the retrieved cities\n",
    "cities = []\n",
    "\n",
    "# Create a loop to go through the coords dataframe rows and to look up the closest city from each latitude and longitude\n",
    "for ind, row in coords.iterrows():\n",
    "    \n",
    "    # Retrieve the latitude and longitude for a row\n",
    "    lat, lon = row['Latitude'], row['Longitude']\n",
    "    \n",
    "    # Use citipy to find closest city\n",
    "    city = citipy.nearest_city(lat, lon)\n",
    "    city = city.city_name\n",
    "    \n",
    "    # Add retrieved city to cities list if it is not already in the list\n",
    "    if city not in cities:\n",
    "        cities.append(city)\n",
    "\n",
    "# Print the final amount of cities retrieved\n",
    "len(cities)"
   ]
  },
  {
   "cell_type": "markdown",
   "metadata": {},
   "source": [
    "### Perform API Calls\n",
    "* Perform a weather check on each city using a series of successive API calls.\n",
    "* Include a print log of each city as it's being processed (with the city number and city name).\n"
   ]
  },
  {
   "cell_type": "code",
   "execution_count": 4,
   "metadata": {
    "scrolled": true
   },
   "outputs": [
    {
     "name": "stdout",
     "output_type": "stream",
     "text": [
      "Beginning Data Retrieval\n",
      "-----------------------------\n",
      "Processing Record 1 of Set 1 | punta arenas\n",
      "Processing Record 2 of Set 1 | busselton\n",
      "Processing Record 3 of Set 1 | carnarvon\n",
      "Processing Record 4 of Set 1 | hilo\n",
      "Processing Record 5 of Set 1 | puerto narino\n",
      "City not found. Skipping...\n",
      "Processing Record 6 of Set 1 | barrow\n",
      "Processing Record 7 of Set 1 | cap-aux-meules\n",
      "Processing Record 8 of Set 1 | acapulco\n",
      "Processing Record 9 of Set 1 | krabi\n",
      "Processing Record 10 of Set 1 | hermanus\n",
      "Processing Record 11 of Set 1 | yulara\n",
      "Processing Record 12 of Set 1 | rikitea\n",
      "Processing Record 13 of Set 1 | souillac\n",
      "Processing Record 14 of Set 1 | new norfolk\n",
      "Processing Record 15 of Set 1 | skovorodino\n",
      "Processing Record 16 of Set 1 | butaritari\n",
      "Processing Record 17 of Set 1 | geraldton\n",
      "Processing Record 18 of Set 1 | jamestown\n",
      "Processing Record 19 of Set 1 | cherepanovo\n",
      "Processing Record 20 of Set 1 | mandalgovi\n",
      "City not found. Skipping...\n",
      "Processing Record 21 of Set 1 | borba\n",
      "Processing Record 22 of Set 1 | nikolskoye\n",
      "Processing Record 23 of Set 1 | muzhi\n",
      "Processing Record 24 of Set 1 | ponta do sol\n",
      "Processing Record 25 of Set 1 | ejea de los caballeros\n",
      "Processing Record 26 of Set 1 | udachnyy\n",
      "Processing Record 27 of Set 1 | cefalu\n",
      "Processing Record 28 of Set 1 | rosetown\n",
      "Processing Record 29 of Set 1 | mana\n",
      "Processing Record 30 of Set 1 | ushuaia\n",
      "Processing Record 31 of Set 1 | coahuayana\n",
      "Processing Record 32 of Set 1 | henties bay\n",
      "City not found. Skipping...\n",
      "Processing Record 33 of Set 1 | avarua\n",
      "Processing Record 34 of Set 1 | leningradskiy\n",
      "City not found. Skipping...\n",
      "City not found. Skipping...\n",
      "City not found. Skipping...\n",
      "Processing Record 35 of Set 1 | kapaa\n",
      "Processing Record 36 of Set 1 | chunskiy\n",
      "Processing Record 37 of Set 1 | saint-joseph\n",
      "Processing Record 38 of Set 1 | albany\n",
      "Processing Record 39 of Set 1 | atar\n",
      "Processing Record 40 of Set 1 | fairbanks\n",
      "Processing Record 41 of Set 1 | qaanaaq\n",
      "City not found. Skipping...\n",
      "Processing Record 42 of Set 1 | port alfred\n",
      "City not found. Skipping...\n",
      "Processing Record 43 of Set 1 | port elizabeth\n",
      "Processing Record 44 of Set 1 | mahebourg\n",
      "Processing Record 45 of Set 1 | saskylakh\n",
      "Processing Record 46 of Set 1 | harper\n",
      "Processing Record 47 of Set 1 | sao jose da coroa grande\n",
      "Processing Record 48 of Set 1 | bredasdorp\n",
      "Processing Record 49 of Set 1 | hobart\n",
      "Processing Record 50 of Set 1 | devrek\n",
      "City not found. Skipping...\n",
      "Processing Record 1 of Set 2 | green river\n",
      "Processing Record 2 of Set 2 | poronaysk\n",
      "Processing Record 3 of Set 2 | praia da vitoria\n",
      "Processing Record 4 of Set 2 | kankon\n",
      "Processing Record 5 of Set 2 | upernavik\n",
      "Processing Record 6 of Set 2 | cidreira\n",
      "Processing Record 7 of Set 2 | dunedin\n",
      "City not found. Skipping...\n",
      "City not found. Skipping...\n",
      "City not found. Skipping...\n",
      "Processing Record 8 of Set 2 | hamilton\n",
      "Processing Record 9 of Set 2 | grand gaube\n",
      "Processing Record 10 of Set 2 | thompson\n",
      "Processing Record 11 of Set 2 | vaini\n",
      "Processing Record 12 of Set 2 | provideniya\n",
      "Processing Record 13 of Set 2 | mataura\n",
      "Processing Record 14 of Set 2 | vardo\n",
      "Processing Record 15 of Set 2 | east london\n",
      "Processing Record 16 of Set 2 | olafsvik\n",
      "Processing Record 17 of Set 2 | yellowknife\n",
      "Processing Record 18 of Set 2 | half moon bay\n",
      "Processing Record 19 of Set 2 | guerrero negro\n",
      "Processing Record 20 of Set 2 | puri\n",
      "Processing Record 21 of Set 2 | lakes entrance\n",
      "City not found. Skipping...\n",
      "Processing Record 22 of Set 2 | belyy yar\n",
      "Processing Record 23 of Set 2 | mar del plata\n",
      "Processing Record 24 of Set 2 | matara\n",
      "Processing Record 25 of Set 2 | angoram\n",
      "Processing Record 26 of Set 2 | faya\n",
      "Processing Record 27 of Set 2 | roebourne\n",
      "Processing Record 28 of Set 2 | port hardy\n",
      "City not found. Skipping...\n",
      "Processing Record 29 of Set 2 | nanortalik\n",
      "Processing Record 30 of Set 2 | sobolevo\n",
      "City not found. Skipping...\n",
      "Processing Record 31 of Set 2 | san patricio\n",
      "Processing Record 32 of Set 2 | waipawa\n",
      "Processing Record 33 of Set 2 | villa constitucion\n",
      "Processing Record 34 of Set 2 | alamosa\n",
      "Processing Record 35 of Set 2 | georgetown\n",
      "Processing Record 36 of Set 2 | bambous virieux\n",
      "Processing Record 37 of Set 2 | westlock\n",
      "Processing Record 38 of Set 2 | saint-pierre\n",
      "Processing Record 39 of Set 2 | alenquer\n",
      "Processing Record 40 of Set 2 | galle\n",
      "City not found. Skipping...\n",
      "Processing Record 41 of Set 2 | riyadh\n",
      "Processing Record 42 of Set 2 | kodinsk\n",
      "Processing Record 43 of Set 2 | tiksi\n",
      "Processing Record 44 of Set 2 | bluff\n",
      "Processing Record 45 of Set 2 | muros\n",
      "Processing Record 46 of Set 2 | hasaki\n",
      "City not found. Skipping...\n",
      "Processing Record 47 of Set 2 | saint anthony\n",
      "Processing Record 48 of Set 2 | mazabuka\n",
      "Processing Record 49 of Set 2 | alofi\n",
      "Processing Record 50 of Set 2 | sangar\n",
      "Processing Record 1 of Set 3 | san cristobal\n",
      "Processing Record 2 of Set 3 | dingle\n",
      "Processing Record 3 of Set 3 | moron\n",
      "Processing Record 4 of Set 3 | aripuana\n",
      "Processing Record 5 of Set 3 | phalodi\n",
      "Processing Record 6 of Set 3 | garrel\n",
      "City not found. Skipping...\n",
      "Processing Record 7 of Set 3 | sulangan\n",
      "Processing Record 8 of Set 3 | cape town\n",
      "Processing Record 9 of Set 3 | awbari\n",
      "Processing Record 10 of Set 3 | esperance\n",
      "Processing Record 11 of Set 3 | victoria\n",
      "Processing Record 12 of Set 3 | grindavik\n",
      "Processing Record 13 of Set 3 | puerto ayora\n",
      "Processing Record 14 of Set 3 | bonavista\n",
      "Processing Record 15 of Set 3 | bahia blanca\n",
      "Processing Record 16 of Set 3 | tual\n",
      "Processing Record 17 of Set 3 | osmena\n",
      "City not found. Skipping...\n",
      "Processing Record 18 of Set 3 | amod\n",
      "Processing Record 19 of Set 3 | cockburn town\n",
      "Processing Record 20 of Set 3 | tamale\n",
      "Processing Record 21 of Set 3 | poum\n",
      "Processing Record 22 of Set 3 | arraial do cabo\n",
      "Processing Record 23 of Set 3 | khatanga\n",
      "Processing Record 24 of Set 3 | pevek\n",
      "Processing Record 25 of Set 3 | saint-francois\n",
      "Processing Record 26 of Set 3 | clyde river\n",
      "Processing Record 27 of Set 3 | dongsheng\n",
      "Processing Record 28 of Set 3 | bereda\n",
      "Processing Record 29 of Set 3 | thunder bay\n",
      "Processing Record 30 of Set 3 | saint-philippe\n",
      "Processing Record 31 of Set 3 | gubkinskiy\n",
      "Processing Record 32 of Set 3 | lebu\n",
      "Processing Record 33 of Set 3 | tasiilaq\n",
      "City not found. Skipping...\n",
      "Processing Record 34 of Set 3 | kijang\n",
      "Processing Record 35 of Set 3 | puerto del rosario\n",
      "Processing Record 36 of Set 3 | baneh\n",
      "City not found. Skipping...\n",
      "Processing Record 37 of Set 3 | vila velha\n",
      "City not found. Skipping...\n",
      "Processing Record 38 of Set 3 | chuy\n",
      "Processing Record 39 of Set 3 | ancud\n",
      "Processing Record 40 of Set 3 | portland\n",
      "Processing Record 41 of Set 3 | brynmawr\n",
      "Processing Record 42 of Set 3 | havoysund\n",
      "Processing Record 43 of Set 3 | astaneh-ye ashrafiyeh\n",
      "Processing Record 44 of Set 3 | kavieng\n",
      "Processing Record 45 of Set 3 | oussouye\n",
      "Processing Record 46 of Set 3 | longyearbyen\n",
      "Processing Record 47 of Set 3 | sukhoy log\n",
      "Processing Record 48 of Set 3 | noumea\n",
      "Processing Record 49 of Set 3 | atuona\n",
      "Processing Record 50 of Set 3 | walvis bay\n",
      "Processing Record 1 of Set 4 | hithadhoo\n",
      "Processing Record 2 of Set 4 | avera\n",
      "Processing Record 3 of Set 4 | nemuro\n",
      "Processing Record 4 of Set 4 | kaitangata\n",
      "Processing Record 5 of Set 4 | teguldet\n",
      "Processing Record 6 of Set 4 | clinton\n",
      "Processing Record 7 of Set 4 | saldanha\n",
      "City not found. Skipping...\n",
      "Processing Record 8 of Set 4 | dryden\n",
      "Processing Record 9 of Set 4 | oksfjord\n",
      "City not found. Skipping...\n",
      "Processing Record 10 of Set 4 | killybegs\n",
      "Processing Record 11 of Set 4 | lorengau\n",
      "Processing Record 12 of Set 4 | la ronge\n",
      "City not found. Skipping...\n",
      "Processing Record 13 of Set 4 | lalmohan\n",
      "Processing Record 14 of Set 4 | srednekolymsk\n",
      "Processing Record 15 of Set 4 | tigre\n",
      "Processing Record 16 of Set 4 | byron bay\n",
      "City not found. Skipping...\n",
      "Processing Record 17 of Set 4 | lagunas\n",
      "Processing Record 18 of Set 4 | marsa matruh\n",
      "Processing Record 19 of Set 4 | vigrestad\n",
      "Processing Record 20 of Set 4 | stornoway\n",
      "Processing Record 21 of Set 4 | yumen\n",
      "Processing Record 22 of Set 4 | acarau\n",
      "City not found. Skipping...\n",
      "Processing Record 23 of Set 4 | bani walid\n",
      "City not found. Skipping...\n",
      "Processing Record 24 of Set 4 | aykhal\n",
      "Processing Record 25 of Set 4 | salalah\n",
      "Processing Record 26 of Set 4 | camocim\n",
      "City not found. Skipping...\n",
      "Processing Record 27 of Set 4 | pacific grove\n"
     ]
    },
    {
     "name": "stdout",
     "output_type": "stream",
     "text": [
      "Processing Record 28 of Set 4 | warrington\n",
      "Processing Record 29 of Set 4 | sharjah\n",
      "Processing Record 30 of Set 4 | saint-raymond\n",
      "Processing Record 31 of Set 4 | katangli\n",
      "Processing Record 32 of Set 4 | saint george\n",
      "Processing Record 33 of Set 4 | gamba\n",
      "Processing Record 34 of Set 4 | luau\n",
      "Processing Record 35 of Set 4 | prince rupert\n",
      "Processing Record 36 of Set 4 | quatre cocos\n",
      "Processing Record 37 of Set 4 | san carlos de bariloche\n",
      "Processing Record 38 of Set 4 | huilong\n",
      "Processing Record 39 of Set 4 | husavik\n",
      "Processing Record 40 of Set 4 | almaznyy\n",
      "City not found. Skipping...\n",
      "Processing Record 41 of Set 4 | ericeira\n",
      "Processing Record 42 of Set 4 | ajdabiya\n",
      "Processing Record 43 of Set 4 | nabire\n",
      "Processing Record 44 of Set 4 | north bend\n",
      "Processing Record 45 of Set 4 | kodiak\n",
      "Processing Record 46 of Set 4 | castro\n",
      "Processing Record 47 of Set 4 | neuquen\n",
      "Processing Record 48 of Set 4 | bengkulu\n",
      "Processing Record 49 of Set 4 | fomboni\n",
      "Processing Record 50 of Set 4 | antalaha\n",
      "Processing Record 1 of Set 5 | isla vista\n",
      "Processing Record 2 of Set 5 | ambovombe\n",
      "Processing Record 3 of Set 5 | richards bay\n",
      "Processing Record 4 of Set 5 | ayan\n",
      "Processing Record 5 of Set 5 | can\n",
      "Processing Record 6 of Set 5 | mildura\n",
      "Processing Record 7 of Set 5 | puerto escondido\n",
      "Processing Record 8 of Set 5 | egvekinot\n",
      "City not found. Skipping...\n",
      "Processing Record 9 of Set 5 | sandy bay\n",
      "Processing Record 10 of Set 5 | urucui\n",
      "Processing Record 11 of Set 5 | filadelfia\n",
      "Processing Record 12 of Set 5 | gat\n",
      "City not found. Skipping...\n",
      "Processing Record 13 of Set 5 | blue springs\n",
      "Processing Record 14 of Set 5 | sola\n",
      "Processing Record 15 of Set 5 | igarka\n",
      "Processing Record 16 of Set 5 | touros\n",
      "Processing Record 17 of Set 5 | komsomolskiy\n",
      "Processing Record 18 of Set 5 | maumere\n",
      "Processing Record 19 of Set 5 | makakilo city\n",
      "Processing Record 20 of Set 5 | nhulunbuy\n",
      "Processing Record 21 of Set 5 | goderich\n",
      "Processing Record 22 of Set 5 | puerto baquerizo moreno\n",
      "Processing Record 23 of Set 5 | port lincoln\n",
      "Processing Record 24 of Set 5 | kieta\n",
      "Processing Record 25 of Set 5 | marawi\n",
      "Processing Record 26 of Set 5 | carballo\n",
      "Processing Record 27 of Set 5 | boende\n",
      "Processing Record 28 of Set 5 | rabo de peixe\n",
      "Processing Record 29 of Set 5 | dzerzhinsk\n",
      "Processing Record 30 of Set 5 | cherskiy\n",
      "Processing Record 31 of Set 5 | cayenne\n",
      "Processing Record 32 of Set 5 | fortuna\n",
      "Processing Record 33 of Set 5 | la ciotat\n",
      "Processing Record 34 of Set 5 | vredendal\n",
      "Processing Record 35 of Set 5 | buala\n",
      "Processing Record 36 of Set 5 | dikson\n",
      "Processing Record 37 of Set 5 | batagay-alyta\n",
      "Processing Record 38 of Set 5 | iqaluit\n",
      "Processing Record 39 of Set 5 | ahipara\n",
      "Processing Record 40 of Set 5 | faanui\n",
      "Processing Record 41 of Set 5 | kruisfontein\n",
      "City not found. Skipping...\n",
      "Processing Record 42 of Set 5 | jumla\n",
      "Processing Record 43 of Set 5 | tuktoyaktuk\n",
      "Processing Record 44 of Set 5 | tautira\n",
      "Processing Record 45 of Set 5 | daru\n",
      "Processing Record 46 of Set 5 | kungurtug\n",
      "Processing Record 47 of Set 5 | wonthaggi\n",
      "Processing Record 48 of Set 5 | myaundzha\n",
      "City not found. Skipping...\n",
      "Processing Record 49 of Set 5 | kankakee\n",
      "Processing Record 50 of Set 5 | norman wells\n",
      "Processing Record 1 of Set 6 | taoudenni\n",
      "Processing Record 2 of Set 6 | kamaishi\n",
      "City not found. Skipping...\n",
      "Processing Record 3 of Set 6 | namibe\n",
      "Processing Record 4 of Set 6 | ceres\n",
      "Processing Record 5 of Set 6 | nauta\n",
      "Processing Record 6 of Set 6 | la cruz\n",
      "Processing Record 7 of Set 6 | necochea\n",
      "City not found. Skipping...\n",
      "Processing Record 8 of Set 6 | tshela\n",
      "Processing Record 9 of Set 6 | nouadhibou\n",
      "Processing Record 10 of Set 6 | inverell\n",
      "Processing Record 11 of Set 6 | placido de castro\n",
      "Processing Record 12 of Set 6 | valley city\n",
      "Processing Record 13 of Set 6 | tolbazy\n",
      "Processing Record 14 of Set 6 | locri\n",
      "Processing Record 15 of Set 6 | ust-nera\n",
      "Processing Record 16 of Set 6 | campbell river\n",
      "Processing Record 17 of Set 6 | beyneu\n",
      "Processing Record 18 of Set 6 | chokurdakh\n",
      "Processing Record 19 of Set 6 | atambua\n",
      "Processing Record 20 of Set 6 | cap malheureux\n",
      "Processing Record 21 of Set 6 | jasper\n",
      "Processing Record 22 of Set 6 | hualmay\n",
      "Processing Record 23 of Set 6 | purpe\n",
      "Processing Record 24 of Set 6 | liverpool\n",
      "Processing Record 25 of Set 6 | ormara\n",
      "Processing Record 26 of Set 6 | qitaihe\n",
      "Processing Record 27 of Set 6 | kampot\n",
      "Processing Record 28 of Set 6 | wieliczka\n",
      "Processing Record 29 of Set 6 | jiangyou\n",
      "Processing Record 30 of Set 6 | terrace\n",
      "Processing Record 31 of Set 6 | lucapa\n",
      "Processing Record 32 of Set 6 | rundu\n",
      "Processing Record 33 of Set 6 | khani\n",
      "Processing Record 34 of Set 6 | campo maior\n",
      "Processing Record 35 of Set 6 | yabelo\n",
      "Processing Record 36 of Set 6 | rakaia\n",
      "Processing Record 37 of Set 6 | codrington\n",
      "Processing Record 38 of Set 6 | kudahuvadhoo\n",
      "Processing Record 39 of Set 6 | heihe\n",
      "Processing Record 40 of Set 6 | kalianget\n",
      "Processing Record 41 of Set 6 | nantucket\n",
      "Processing Record 42 of Set 6 | sao filipe\n",
      "Processing Record 43 of Set 6 | yerofey pavlovich\n",
      "Processing Record 44 of Set 6 | beloha\n",
      "Processing Record 45 of Set 6 | balikpapan\n",
      "Processing Record 46 of Set 6 | port hedland\n",
      "City not found. Skipping...\n",
      "Processing Record 47 of Set 6 | manakara\n",
      "Processing Record 48 of Set 6 | itarema\n",
      "Processing Record 49 of Set 6 | nguruka\n",
      "Processing Record 50 of Set 6 | san quintin\n",
      "City not found. Skipping...\n",
      "Processing Record 1 of Set 7 | las tunas\n",
      "Processing Record 2 of Set 7 | libano\n",
      "Processing Record 3 of Set 7 | ambilobe\n",
      "Processing Record 4 of Set 7 | teluk nibung\n",
      "Processing Record 5 of Set 7 | wanxian\n",
      "Processing Record 6 of Set 7 | lanzhou\n",
      "Processing Record 7 of Set 7 | orange walk\n",
      "Processing Record 8 of Set 7 | caravelas\n",
      "Processing Record 9 of Set 7 | los llanos de aridane\n",
      "Processing Record 10 of Set 7 | margate\n",
      "City not found. Skipping...\n",
      "Processing Record 11 of Set 7 | lasa\n",
      "Processing Record 12 of Set 7 | ilulissat\n",
      "Processing Record 13 of Set 7 | yelatma\n",
      "Processing Record 14 of Set 7 | sept-iles\n",
      "Processing Record 15 of Set 7 | sinnamary\n",
      "Processing Record 16 of Set 7 | terrasini\n",
      "City not found. Skipping...\n",
      "Processing Record 17 of Set 7 | bandarbeyla\n",
      "Processing Record 18 of Set 7 | bathurst\n",
      "Processing Record 19 of Set 7 | sechura\n",
      "Processing Record 20 of Set 7 | fairlie\n",
      "Processing Record 21 of Set 7 | ribeira grande\n",
      "Processing Record 22 of Set 7 | coquimbo\n",
      "City not found. Skipping...\n",
      "Processing Record 23 of Set 7 | vagur\n",
      "Processing Record 24 of Set 7 | isangel\n",
      "Processing Record 25 of Set 7 | amalner\n",
      "Processing Record 26 of Set 7 | constitucion\n",
      "Processing Record 27 of Set 7 | bathsheba\n",
      "Processing Record 28 of Set 7 | raudeberg\n",
      "Processing Record 29 of Set 7 | paamiut\n",
      "Processing Record 30 of Set 7 | east wenatchee\n",
      "City not found. Skipping...\n",
      "Processing Record 31 of Set 7 | ixtapa\n",
      "Processing Record 32 of Set 7 | tha mai\n",
      "Processing Record 33 of Set 7 | labuhan\n",
      "Processing Record 34 of Set 7 | padre bernardo\n",
      "Processing Record 35 of Set 7 | dwarka\n",
      "Processing Record 36 of Set 7 | sorland\n",
      "Processing Record 37 of Set 7 | airai\n",
      "Processing Record 38 of Set 7 | kimparana\n",
      "Processing Record 39 of Set 7 | svetlogorsk\n",
      "Processing Record 40 of Set 7 | pocone\n",
      "Processing Record 41 of Set 7 | ovre ardal\n",
      "Processing Record 42 of Set 7 | simbahan\n",
      "Processing Record 43 of Set 7 | mocajuba\n",
      "Processing Record 44 of Set 7 | erzin\n",
      "Processing Record 45 of Set 7 | sayat\n",
      "Processing Record 46 of Set 7 | atikokan\n",
      "Processing Record 47 of Set 7 | mushie\n",
      "Processing Record 48 of Set 7 | parrita\n",
      "Processing Record 49 of Set 7 | klaksvik\n",
      "Processing Record 50 of Set 7 | rochegda\n",
      "Processing Record 1 of Set 8 | kilis\n",
      "Processing Record 2 of Set 8 | luderitz\n",
      "City not found. Skipping...\n",
      "Processing Record 3 of Set 8 | tuatapere\n",
      "Processing Record 4 of Set 8 | curillo\n",
      "Processing Record 5 of Set 8 | krasnoselkup\n",
      "Processing Record 6 of Set 8 | bedford\n",
      "Processing Record 7 of Set 8 | wanning\n",
      "Processing Record 8 of Set 8 | maceio\n",
      "Processing Record 9 of Set 8 | badvel\n",
      "Processing Record 10 of Set 8 | marzuq\n",
      "Processing Record 11 of Set 8 | axim\n",
      "Processing Record 12 of Set 8 | ust-ishim\n",
      "Processing Record 13 of Set 8 | general pico\n",
      "Processing Record 14 of Set 8 | agadez\n",
      "Processing Record 15 of Set 8 | severo-kurilsk\n",
      "Processing Record 16 of Set 8 | waddan\n",
      "Processing Record 17 of Set 8 | humberto de campos\n"
     ]
    },
    {
     "name": "stdout",
     "output_type": "stream",
     "text": [
      "Processing Record 18 of Set 8 | kourou\n",
      "Processing Record 19 of Set 8 | port macquarie\n",
      "City not found. Skipping...\n",
      "City not found. Skipping...\n",
      "Processing Record 20 of Set 8 | urubicha\n",
      "City not found. Skipping...\n",
      "Processing Record 21 of Set 8 | merauke\n",
      "Processing Record 22 of Set 8 | sosnogorsk\n",
      "Processing Record 23 of Set 8 | trincomalee\n",
      "Processing Record 24 of Set 8 | chulman\n",
      "Processing Record 25 of Set 8 | quetta\n",
      "Processing Record 26 of Set 8 | mlonggo\n",
      "Processing Record 27 of Set 8 | coihaique\n",
      "Processing Record 28 of Set 8 | kupang\n",
      "City not found. Skipping...\n",
      "Processing Record 29 of Set 8 | chickasha\n",
      "Processing Record 30 of Set 8 | gizo\n",
      "Processing Record 31 of Set 8 | atbasar\n",
      "Processing Record 32 of Set 8 | abu kamal\n",
      "Processing Record 33 of Set 8 | cabo san lucas\n",
      "Processing Record 34 of Set 8 | seoul\n",
      "Processing Record 35 of Set 8 | amarante do maranhao\n",
      "Processing Record 36 of Set 8 | ostrovnoy\n",
      "Processing Record 37 of Set 8 | boundiali\n",
      "Processing Record 38 of Set 8 | maragogi\n",
      "Processing Record 39 of Set 8 | havelock\n",
      "Processing Record 40 of Set 8 | sakhon nakhon\n",
      "Processing Record 41 of Set 8 | butte\n",
      "Processing Record 42 of Set 8 | gouyave\n",
      "City not found. Skipping...\n",
      "Processing Record 43 of Set 8 | karla\n",
      "Processing Record 44 of Set 8 | mehamn\n",
      "Processing Record 45 of Set 8 | zhanaozen\n",
      "Processing Record 46 of Set 8 | lagoa\n",
      "Processing Record 47 of Set 8 | djibo\n",
      "Processing Record 48 of Set 8 | tamandare\n",
      "Processing Record 49 of Set 8 | hermosillo\n",
      "Processing Record 50 of Set 8 | samagaltay\n",
      "Processing Record 1 of Set 9 | novobirilyussy\n",
      "Processing Record 2 of Set 9 | yar-sale\n",
      "Processing Record 3 of Set 9 | hami\n",
      "Processing Record 4 of Set 9 | saint-georges\n",
      "City not found. Skipping...\n",
      "City not found. Skipping...\n",
      "Processing Record 5 of Set 9 | padang\n",
      "Processing Record 6 of Set 9 | lata\n",
      "Processing Record 7 of Set 9 | lukovetskiy\n",
      "Processing Record 8 of Set 9 | korla\n",
      "Processing Record 9 of Set 9 | aksu\n",
      "Processing Record 10 of Set 9 | sitka\n",
      "Processing Record 11 of Set 9 | mogadishu\n",
      "Processing Record 12 of Set 9 | trairi\n",
      "Processing Record 13 of Set 9 | nuuk\n",
      "Processing Record 14 of Set 9 | talnakh\n",
      "Processing Record 15 of Set 9 | mangrol\n",
      "Processing Record 16 of Set 9 | sao joao da barra\n",
      "Processing Record 17 of Set 9 | pella\n",
      "Processing Record 18 of Set 9 | antigonish\n",
      "Processing Record 19 of Set 9 | kibala\n",
      "Processing Record 20 of Set 9 | sampit\n",
      "Processing Record 21 of Set 9 | kaabong\n",
      "Processing Record 22 of Set 9 | warwick\n",
      "Processing Record 23 of Set 9 | vila\n",
      "Processing Record 24 of Set 9 | tommot\n",
      "Processing Record 25 of Set 9 | marsaxlokk\n",
      "Processing Record 26 of Set 9 | beysehir\n",
      "Processing Record 27 of Set 9 | bethanien\n",
      "Processing Record 28 of Set 9 | te anau\n",
      "Processing Record 29 of Set 9 | arman\n",
      "City not found. Skipping...\n",
      "Processing Record 30 of Set 9 | lompoc\n",
      "Processing Record 31 of Set 9 | smithers\n",
      "Processing Record 32 of Set 9 | lake charles\n",
      "Processing Record 33 of Set 9 | okhtyrka\n",
      "Processing Record 34 of Set 9 | mankato\n",
      "Processing Record 35 of Set 9 | vallenar\n",
      "Processing Record 36 of Set 9 | saint-augustin\n",
      "Processing Record 37 of Set 9 | terney\n",
      "Processing Record 38 of Set 9 | eydhafushi\n",
      "Processing Record 39 of Set 9 | gedo\n",
      "Processing Record 40 of Set 9 | simpang\n",
      "Processing Record 41 of Set 9 | dir\n",
      "Processing Record 42 of Set 9 | jawa\n",
      "Processing Record 43 of Set 9 | gbarnga\n",
      "Processing Record 44 of Set 9 | torbay\n",
      "Processing Record 45 of Set 9 | kiunga\n",
      "Processing Record 46 of Set 9 | tsumeb\n",
      "Processing Record 47 of Set 9 | sisimiut\n",
      "Processing Record 48 of Set 9 | sturgis\n",
      "Processing Record 49 of Set 9 | deputatskiy\n",
      "Processing Record 50 of Set 9 | asfi\n",
      "Processing Record 1 of Set 10 | bac lieu\n",
      "Processing Record 2 of Set 10 | two hills\n",
      "Processing Record 3 of Set 10 | huarmey\n",
      "Processing Record 4 of Set 10 | sa kaeo\n",
      "Processing Record 5 of Set 10 | sibolga\n",
      "City not found. Skipping...\n",
      "City not found. Skipping...\n",
      "Processing Record 6 of Set 10 | mazagao\n",
      "Processing Record 7 of Set 10 | bethel\n",
      "Processing Record 8 of Set 10 | shenjiamen\n",
      "Processing Record 9 of Set 10 | quchan\n",
      "Processing Record 10 of Set 10 | san luis\n",
      "Processing Record 11 of Set 10 | magistralnyy\n",
      "Processing Record 12 of Set 10 | les cayes\n",
      "Processing Record 13 of Set 10 | oranjemund\n",
      "Processing Record 14 of Set 10 | natchitoches\n",
      "Processing Record 15 of Set 10 | ha tinh\n",
      "Processing Record 16 of Set 10 | hwange\n",
      "Processing Record 17 of Set 10 | tupelo\n",
      "Processing Record 18 of Set 10 | narragansett\n",
      "Processing Record 19 of Set 10 | mahibadhoo\n",
      "City not found. Skipping...\n",
      "Processing Record 20 of Set 10 | balykshi\n",
      "Processing Record 21 of Set 10 | vao\n",
      "City not found. Skipping...\n",
      "Processing Record 22 of Set 10 | antofagasta\n",
      "City not found. Skipping...\n",
      "Processing Record 23 of Set 10 | naze\n",
      "Processing Record 24 of Set 10 | ulaangom\n",
      "Processing Record 25 of Set 10 | santa cruz\n",
      "Processing Record 26 of Set 10 | la rioja\n",
      "Processing Record 27 of Set 10 | abalak\n",
      "Processing Record 28 of Set 10 | simplicio mendes\n",
      "Processing Record 29 of Set 10 | puerto madero\n",
      "City not found. Skipping...\n",
      "Processing Record 30 of Set 10 | niksic\n",
      "Processing Record 31 of Set 10 | petropavlovsk-kamchatskiy\n",
      "Processing Record 32 of Set 10 | punto fijo\n",
      "Processing Record 33 of Set 10 | mundgod\n",
      "Processing Record 34 of Set 10 | steamboat springs\n",
      "City not found. Skipping...\n",
      "City not found. Skipping...\n",
      "Processing Record 35 of Set 10 | aykino\n",
      "Processing Record 36 of Set 10 | lasem\n",
      "Processing Record 37 of Set 10 | the valley\n",
      "Processing Record 38 of Set 10 | muisne\n",
      "Processing Record 39 of Set 10 | tubuala\n",
      "Processing Record 40 of Set 10 | meulaboh\n",
      "Processing Record 41 of Set 10 | fare\n",
      "Processing Record 42 of Set 10 | fort nelson\n",
      "Processing Record 43 of Set 10 | griffith\n",
      "Processing Record 44 of Set 10 | salinas\n",
      "Processing Record 45 of Set 10 | anloga\n",
      "Processing Record 46 of Set 10 | kutum\n",
      "Processing Record 47 of Set 10 | mazyr\n",
      "Processing Record 48 of Set 10 | ilo\n",
      "Processing Record 49 of Set 10 | monte alegre\n",
      "City not found. Skipping...\n",
      "Processing Record 50 of Set 10 | zhicheng\n",
      "Processing Record 1 of Set 11 | srikakulam\n",
      "Processing Record 2 of Set 11 | newry\n",
      "Processing Record 3 of Set 11 | pozo colorado\n",
      "City not found. Skipping...\n",
      "Processing Record 4 of Set 11 | kahului\n",
      "Processing Record 5 of Set 11 | nahariyya\n",
      "Processing Record 6 of Set 11 | plettenberg bay\n",
      "Processing Record 7 of Set 11 | jingdezhen\n",
      "Processing Record 8 of Set 11 | thinadhoo\n",
      "Processing Record 9 of Set 11 | bayir\n",
      "Processing Record 10 of Set 11 | peniche\n",
      "Processing Record 11 of Set 11 | dapdap\n",
      "Processing Record 12 of Set 11 | corinto\n",
      "Processing Record 13 of Set 11 | mutis\n",
      "Processing Record 14 of Set 11 | bambanglipuro\n",
      "Processing Record 15 of Set 11 | rovereto\n",
      "Processing Record 16 of Set 11 | hoquiam\n",
      "City not found. Skipping...\n",
      "Processing Record 17 of Set 11 | puerto quijarro\n",
      "Processing Record 18 of Set 11 | makinsk\n",
      "Processing Record 19 of Set 11 | ko samui\n",
      "Processing Record 20 of Set 11 | nizhniy odes\n",
      "Processing Record 21 of Set 11 | chicama\n",
      "Processing Record 22 of Set 11 | tezu\n",
      "Processing Record 23 of Set 11 | akhmim\n",
      "Processing Record 24 of Set 11 | moratuwa\n",
      "Processing Record 25 of Set 11 | vilhena\n",
      "Processing Record 26 of Set 11 | ratnagiri\n",
      "Processing Record 27 of Set 11 | misratah\n",
      "Processing Record 28 of Set 11 | juneau\n",
      "Processing Record 29 of Set 11 | lewisville\n",
      "Processing Record 30 of Set 11 | biltine\n",
      "Processing Record 31 of Set 11 | burnie\n",
      "Processing Record 32 of Set 11 | manta\n",
      "Processing Record 33 of Set 11 | port said\n",
      "Processing Record 34 of Set 11 | kirakira\n",
      "Processing Record 35 of Set 11 | amga\n",
      "City not found. Skipping...\n",
      "Processing Record 36 of Set 11 | adrar\n",
      "Processing Record 37 of Set 11 | vestmannaeyjar\n",
      "Processing Record 38 of Set 11 | turangi\n",
      "Processing Record 39 of Set 11 | moba\n",
      "City not found. Skipping...\n",
      "Processing Record 40 of Set 11 | camacha\n",
      "-----------------------------\n",
      "Data Retrieval Complete\n",
      "-----------------------------\n"
     ]
    }
   ],
   "source": [
    "# Save config information\n",
    "url = \"http://api.openweathermap.org/data/2.5/weather?\"\n",
    "units = \"imperial\"\n",
    "query_url = f\"{url}appid={weather_api_key}&units={units}&q=\"\n",
    "\n",
    "# Set time to pause between each loop to enable api data retrieval\n",
    "time_between = 1\n",
    "\n",
    "# Set empty lists to fill during loop\n",
    "final_city = []\n",
    "lat = []\n",
    "long = []\n",
    "max_temp = []\n",
    "humidity = []\n",
    "cloudiness = []\n",
    "wind_speed = []\n",
    "country = []\n",
    "date = []\n",
    "\n",
    "# Log counter\n",
    "record = 0\n",
    "set = 1\n",
    "\n",
    "# Print log of each city\n",
    "print(\"Beginning Data Retrieval\")     \n",
    "print(\"-----------------------------\")\n",
    "\n",
    "# Create a loop to loop through each city and retrieve weather data to append to lists, pausing for a second at the end of each loop   \n",
    "for city in cities:    \n",
    "            \n",
    "    try:\n",
    "        response = requests.get(query_url + city).json()\n",
    "        \n",
    "        lat.append(response['coord']['lat'])\n",
    "        long.append(response['coord']['lon'])\n",
    "        max_temp.append(response['main']['temp_max'])\n",
    "        humidity.append(response['main']['humidity'])\n",
    "        cloudiness.append(response['clouds']['all'])\n",
    "        wind_speed.append(response['wind']['speed'])\n",
    "        country.append(response['sys']['country'])\n",
    "        date.append(response['dt'])\n",
    "        \n",
    "        # Add to log counter\n",
    "        if record >= 50:\n",
    "            record = 1\n",
    "            set += 1\n",
    "            final_city.append(city)\n",
    "        else:\n",
    "            record += 1\n",
    "            final_city.append(city)\n",
    "            \n",
    "        print(f\"Processing Record {record} of Set {set} | {city}\")\n",
    "        \n",
    "    except KeyError:\n",
    "        print(\"City not found. Skipping...\")\n",
    "\n",
    "    time.sleep(time_between)\n",
    "\n",
    "print(\"-----------------------------\")\n",
    "print(\"Data Retrieval Complete\")\n",
    "print(\"-----------------------------\")"
   ]
  },
  {
   "cell_type": "markdown",
   "metadata": {},
   "source": [
    "### Convert Raw Data to DataFrame\n",
    "* Export the city data into a .csv.\n",
    "* Display the DataFrame"
   ]
  },
  {
   "cell_type": "code",
   "execution_count": 5,
   "metadata": {},
   "outputs": [
    {
     "data": {
      "text/html": [
       "<div>\n",
       "<style scoped>\n",
       "    .dataframe tbody tr th:only-of-type {\n",
       "        vertical-align: middle;\n",
       "    }\n",
       "\n",
       "    .dataframe tbody tr th {\n",
       "        vertical-align: top;\n",
       "    }\n",
       "\n",
       "    .dataframe thead th {\n",
       "        text-align: right;\n",
       "    }\n",
       "</style>\n",
       "<table border=\"1\" class=\"dataframe\">\n",
       "  <thead>\n",
       "    <tr style=\"text-align: right;\">\n",
       "      <th></th>\n",
       "      <th>City</th>\n",
       "      <th>Lat</th>\n",
       "      <th>Lng</th>\n",
       "      <th>Max_Temp</th>\n",
       "      <th>Humidity</th>\n",
       "      <th>Cloudiness</th>\n",
       "      <th>Wind_Speed</th>\n",
       "      <th>Country</th>\n",
       "      <th>Date</th>\n",
       "    </tr>\n",
       "  </thead>\n",
       "  <tbody>\n",
       "    <tr>\n",
       "      <th>0</th>\n",
       "      <td>punta arenas</td>\n",
       "      <td>-53.1500</td>\n",
       "      <td>-70.9167</td>\n",
       "      <td>42.8</td>\n",
       "      <td>93</td>\n",
       "      <td>40</td>\n",
       "      <td>3.44</td>\n",
       "      <td>CL</td>\n",
       "      <td>1619228976</td>\n",
       "    </tr>\n",
       "    <tr>\n",
       "      <th>1</th>\n",
       "      <td>busselton</td>\n",
       "      <td>-33.6500</td>\n",
       "      <td>115.3333</td>\n",
       "      <td>71.6</td>\n",
       "      <td>48</td>\n",
       "      <td>31</td>\n",
       "      <td>5.35</td>\n",
       "      <td>AU</td>\n",
       "      <td>1619228977</td>\n",
       "    </tr>\n",
       "    <tr>\n",
       "      <th>2</th>\n",
       "      <td>carnarvon</td>\n",
       "      <td>-24.8667</td>\n",
       "      <td>113.6333</td>\n",
       "      <td>73.4</td>\n",
       "      <td>43</td>\n",
       "      <td>2</td>\n",
       "      <td>8.05</td>\n",
       "      <td>AU</td>\n",
       "      <td>1619228978</td>\n",
       "    </tr>\n",
       "    <tr>\n",
       "      <th>3</th>\n",
       "      <td>hilo</td>\n",
       "      <td>19.7297</td>\n",
       "      <td>-155.0900</td>\n",
       "      <td>78.8</td>\n",
       "      <td>65</td>\n",
       "      <td>90</td>\n",
       "      <td>16.11</td>\n",
       "      <td>US</td>\n",
       "      <td>1619228777</td>\n",
       "    </tr>\n",
       "    <tr>\n",
       "      <th>4</th>\n",
       "      <td>puerto narino</td>\n",
       "      <td>-3.7703</td>\n",
       "      <td>-70.3831</td>\n",
       "      <td>75.2</td>\n",
       "      <td>100</td>\n",
       "      <td>40</td>\n",
       "      <td>2.30</td>\n",
       "      <td>CO</td>\n",
       "      <td>1619228980</td>\n",
       "    </tr>\n",
       "  </tbody>\n",
       "</table>\n",
       "</div>"
      ],
      "text/plain": [
       "            City      Lat       Lng  Max_Temp  Humidity  Cloudiness  \\\n",
       "0   punta arenas -53.1500  -70.9167      42.8        93          40   \n",
       "1      busselton -33.6500  115.3333      71.6        48          31   \n",
       "2      carnarvon -24.8667  113.6333      73.4        43           2   \n",
       "3           hilo  19.7297 -155.0900      78.8        65          90   \n",
       "4  puerto narino  -3.7703  -70.3831      75.2       100          40   \n",
       "\n",
       "   Wind_Speed Country        Date  \n",
       "0        3.44      CL  1619228976  \n",
       "1        5.35      AU  1619228977  \n",
       "2        8.05      AU  1619228978  \n",
       "3       16.11      US  1619228777  \n",
       "4        2.30      CO  1619228980  "
      ]
     },
     "execution_count": 5,
     "metadata": {},
     "output_type": "execute_result"
    }
   ],
   "source": [
    "# Create a dataframe from the retrieved weather data\n",
    "weather_dict = {\"City\": final_city,\n",
    "                \"Lat\": lat,\n",
    "                \"Lng\": long,\n",
    "                \"Max_Temp\": max_temp,\n",
    "                \"Humidity\": humidity,\n",
    "                \"Cloudiness\": cloudiness,\n",
    "                \"Wind_Speed\": wind_speed,\n",
    "                \"Country\": country,\n",
    "                \"Date\": date}\n",
    "\n",
    "weather_data_df = pd.DataFrame(weather_dict)\n",
    "\n",
    "# Show preview of weather dataframe\n",
    "weather_data_df.head()"
   ]
  },
  {
   "cell_type": "code",
   "execution_count": 10,
   "metadata": {},
   "outputs": [
    {
     "data": {
      "text/html": [
       "<div>\n",
       "<style scoped>\n",
       "    .dataframe tbody tr th:only-of-type {\n",
       "        vertical-align: middle;\n",
       "    }\n",
       "\n",
       "    .dataframe tbody tr th {\n",
       "        vertical-align: top;\n",
       "    }\n",
       "\n",
       "    .dataframe thead th {\n",
       "        text-align: right;\n",
       "    }\n",
       "</style>\n",
       "<table border=\"1\" class=\"dataframe\">\n",
       "  <thead>\n",
       "    <tr style=\"text-align: right;\">\n",
       "      <th></th>\n",
       "      <th>Lat</th>\n",
       "      <th>Lng</th>\n",
       "      <th>Max_Temp</th>\n",
       "      <th>Humidity</th>\n",
       "      <th>Cloudiness</th>\n",
       "      <th>Wind_Speed</th>\n",
       "      <th>Date</th>\n",
       "    </tr>\n",
       "  </thead>\n",
       "  <tbody>\n",
       "    <tr>\n",
       "      <th>count</th>\n",
       "      <td>540.000000</td>\n",
       "      <td>540.000000</td>\n",
       "      <td>540.000000</td>\n",
       "      <td>540.000000</td>\n",
       "      <td>540.000000</td>\n",
       "      <td>540.000000</td>\n",
       "      <td>5.400000e+02</td>\n",
       "    </tr>\n",
       "    <tr>\n",
       "      <th>mean</th>\n",
       "      <td>19.306194</td>\n",
       "      <td>15.634373</td>\n",
       "      <td>60.740370</td>\n",
       "      <td>71.477778</td>\n",
       "      <td>55.572222</td>\n",
       "      <td>7.717204</td>\n",
       "      <td>1.619229e+09</td>\n",
       "    </tr>\n",
       "    <tr>\n",
       "      <th>std</th>\n",
       "      <td>33.199898</td>\n",
       "      <td>89.540061</td>\n",
       "      <td>18.525298</td>\n",
       "      <td>21.337327</td>\n",
       "      <td>39.324023</td>\n",
       "      <td>5.409848</td>\n",
       "      <td>2.187560e+02</td>\n",
       "    </tr>\n",
       "    <tr>\n",
       "      <th>min</th>\n",
       "      <td>-54.800000</td>\n",
       "      <td>-179.166700</td>\n",
       "      <td>9.880000</td>\n",
       "      <td>7.000000</td>\n",
       "      <td>0.000000</td>\n",
       "      <td>0.250000</td>\n",
       "      <td>1.619229e+09</td>\n",
       "    </tr>\n",
       "    <tr>\n",
       "      <th>25%</th>\n",
       "      <td>-7.847000</td>\n",
       "      <td>-61.894425</td>\n",
       "      <td>47.072500</td>\n",
       "      <td>60.000000</td>\n",
       "      <td>17.000000</td>\n",
       "      <td>3.995000</td>\n",
       "      <td>1.619229e+09</td>\n",
       "    </tr>\n",
       "    <tr>\n",
       "      <th>50%</th>\n",
       "      <td>22.157300</td>\n",
       "      <td>18.722850</td>\n",
       "      <td>62.010000</td>\n",
       "      <td>76.000000</td>\n",
       "      <td>70.000000</td>\n",
       "      <td>6.640000</td>\n",
       "      <td>1.619229e+09</td>\n",
       "    </tr>\n",
       "    <tr>\n",
       "      <th>75%</th>\n",
       "      <td>46.937700</td>\n",
       "      <td>93.838675</td>\n",
       "      <td>77.010000</td>\n",
       "      <td>88.000000</td>\n",
       "      <td>97.000000</td>\n",
       "      <td>10.360000</td>\n",
       "      <td>1.619230e+09</td>\n",
       "    </tr>\n",
       "    <tr>\n",
       "      <th>max</th>\n",
       "      <td>78.218600</td>\n",
       "      <td>178.416700</td>\n",
       "      <td>94.660000</td>\n",
       "      <td>100.000000</td>\n",
       "      <td>100.000000</td>\n",
       "      <td>33.040000</td>\n",
       "      <td>1.619230e+09</td>\n",
       "    </tr>\n",
       "  </tbody>\n",
       "</table>\n",
       "</div>"
      ],
      "text/plain": [
       "              Lat         Lng    Max_Temp    Humidity  Cloudiness  Wind_Speed  \\\n",
       "count  540.000000  540.000000  540.000000  540.000000  540.000000  540.000000   \n",
       "mean    19.306194   15.634373   60.740370   71.477778   55.572222    7.717204   \n",
       "std     33.199898   89.540061   18.525298   21.337327   39.324023    5.409848   \n",
       "min    -54.800000 -179.166700    9.880000    7.000000    0.000000    0.250000   \n",
       "25%     -7.847000  -61.894425   47.072500   60.000000   17.000000    3.995000   \n",
       "50%     22.157300   18.722850   62.010000   76.000000   70.000000    6.640000   \n",
       "75%     46.937700   93.838675   77.010000   88.000000   97.000000   10.360000   \n",
       "max     78.218600  178.416700   94.660000  100.000000  100.000000   33.040000   \n",
       "\n",
       "               Date  \n",
       "count  5.400000e+02  \n",
       "mean   1.619229e+09  \n",
       "std    2.187560e+02  \n",
       "min    1.619229e+09  \n",
       "25%    1.619229e+09  \n",
       "50%    1.619229e+09  \n",
       "75%    1.619230e+09  \n",
       "max    1.619230e+09  "
      ]
     },
     "execution_count": 10,
     "metadata": {},
     "output_type": "execute_result"
    }
   ],
   "source": [
    "# Create a summary statistics table frome the weather_data dataframe\n",
    "weather_data_df[['Lat', 'Lng', 'Max_Temp', 'Humidity', 'Cloudiness', 'Wind_Speed', 'Date']].describe()"
   ]
  },
  {
   "cell_type": "code",
   "execution_count": 11,
   "metadata": {},
   "outputs": [],
   "source": [
    "# Save weather dataframe as a csv\n",
    "weather_data_df.to_csv(r'output_data\\weather_data.csv', encoding=\"utf-8\", index=False)"
   ]
  },
  {
   "cell_type": "markdown",
   "metadata": {},
   "source": [
    "## Inspect the data and remove the cities where the humidity > 100%.\n",
    "----\n",
    "Skip this step if there are no cities that have humidity > 100%. "
   ]
  },
  {
   "cell_type": "code",
   "execution_count": 15,
   "metadata": {},
   "outputs": [
    {
     "data": {
      "text/html": [
       "<div>\n",
       "<style scoped>\n",
       "    .dataframe tbody tr th:only-of-type {\n",
       "        vertical-align: middle;\n",
       "    }\n",
       "\n",
       "    .dataframe tbody tr th {\n",
       "        vertical-align: top;\n",
       "    }\n",
       "\n",
       "    .dataframe thead th {\n",
       "        text-align: right;\n",
       "    }\n",
       "</style>\n",
       "<table border=\"1\" class=\"dataframe\">\n",
       "  <thead>\n",
       "    <tr style=\"text-align: right;\">\n",
       "      <th></th>\n",
       "      <th>City</th>\n",
       "      <th>Lat</th>\n",
       "      <th>Lng</th>\n",
       "      <th>Max_Temp</th>\n",
       "      <th>Humidity</th>\n",
       "      <th>Cloudiness</th>\n",
       "      <th>Wind_Speed</th>\n",
       "      <th>Country</th>\n",
       "      <th>Date</th>\n",
       "    </tr>\n",
       "  </thead>\n",
       "  <tbody>\n",
       "  </tbody>\n",
       "</table>\n",
       "</div>"
      ],
      "text/plain": [
       "Empty DataFrame\n",
       "Columns: [City, Lat, Lng, Max_Temp, Humidity, Cloudiness, Wind_Speed, Country, Date]\n",
       "Index: []"
      ]
     },
     "execution_count": 15,
     "metadata": {},
     "output_type": "execute_result"
    }
   ],
   "source": [
    "# Create a dataframe with all cities with humidity over 100%\n",
    "high_humidity_df = weather_data_df.query(\"Humidity > 100\")\n",
    "high_humidity_df.head()"
   ]
  },
  {
   "cell_type": "code",
   "execution_count": 19,
   "metadata": {},
   "outputs": [
    {
     "data": {
      "text/plain": [
       "[]"
      ]
     },
     "execution_count": 19,
     "metadata": {},
     "output_type": "execute_result"
    }
   ],
   "source": [
    "# Get the indices of cities that have humidity over 100%\n",
    "indices = high_humidity_df[high_humidity_df['Humidity']>100].index.tolist()\n",
    "indices"
   ]
  },
  {
   "cell_type": "code",
   "execution_count": 22,
   "metadata": {},
   "outputs": [
    {
     "data": {
      "text/html": [
       "<div>\n",
       "<style scoped>\n",
       "    .dataframe tbody tr th:only-of-type {\n",
       "        vertical-align: middle;\n",
       "    }\n",
       "\n",
       "    .dataframe tbody tr th {\n",
       "        vertical-align: top;\n",
       "    }\n",
       "\n",
       "    .dataframe thead th {\n",
       "        text-align: right;\n",
       "    }\n",
       "</style>\n",
       "<table border=\"1\" class=\"dataframe\">\n",
       "  <thead>\n",
       "    <tr style=\"text-align: right;\">\n",
       "      <th></th>\n",
       "      <th>City</th>\n",
       "      <th>Lat</th>\n",
       "      <th>Lng</th>\n",
       "      <th>Max_Temp</th>\n",
       "      <th>Humidity</th>\n",
       "      <th>Cloudiness</th>\n",
       "      <th>Wind_Speed</th>\n",
       "      <th>Country</th>\n",
       "      <th>Date</th>\n",
       "    </tr>\n",
       "  </thead>\n",
       "  <tbody>\n",
       "    <tr>\n",
       "      <th>0</th>\n",
       "      <td>punta arenas</td>\n",
       "      <td>-53.1500</td>\n",
       "      <td>-70.9167</td>\n",
       "      <td>42.8</td>\n",
       "      <td>93</td>\n",
       "      <td>40</td>\n",
       "      <td>3.44</td>\n",
       "      <td>CL</td>\n",
       "      <td>1619228976</td>\n",
       "    </tr>\n",
       "    <tr>\n",
       "      <th>1</th>\n",
       "      <td>busselton</td>\n",
       "      <td>-33.6500</td>\n",
       "      <td>115.3333</td>\n",
       "      <td>71.6</td>\n",
       "      <td>48</td>\n",
       "      <td>31</td>\n",
       "      <td>5.35</td>\n",
       "      <td>AU</td>\n",
       "      <td>1619228977</td>\n",
       "    </tr>\n",
       "    <tr>\n",
       "      <th>2</th>\n",
       "      <td>carnarvon</td>\n",
       "      <td>-24.8667</td>\n",
       "      <td>113.6333</td>\n",
       "      <td>73.4</td>\n",
       "      <td>43</td>\n",
       "      <td>2</td>\n",
       "      <td>8.05</td>\n",
       "      <td>AU</td>\n",
       "      <td>1619228978</td>\n",
       "    </tr>\n",
       "    <tr>\n",
       "      <th>3</th>\n",
       "      <td>hilo</td>\n",
       "      <td>19.7297</td>\n",
       "      <td>-155.0900</td>\n",
       "      <td>78.8</td>\n",
       "      <td>65</td>\n",
       "      <td>90</td>\n",
       "      <td>16.11</td>\n",
       "      <td>US</td>\n",
       "      <td>1619228777</td>\n",
       "    </tr>\n",
       "    <tr>\n",
       "      <th>4</th>\n",
       "      <td>puerto narino</td>\n",
       "      <td>-3.7703</td>\n",
       "      <td>-70.3831</td>\n",
       "      <td>75.2</td>\n",
       "      <td>100</td>\n",
       "      <td>40</td>\n",
       "      <td>2.30</td>\n",
       "      <td>CO</td>\n",
       "      <td>1619228980</td>\n",
       "    </tr>\n",
       "  </tbody>\n",
       "</table>\n",
       "</div>"
      ],
      "text/plain": [
       "            City      Lat       Lng  Max_Temp  Humidity  Cloudiness  \\\n",
       "0   punta arenas -53.1500  -70.9167      42.8        93          40   \n",
       "1      busselton -33.6500  115.3333      71.6        48          31   \n",
       "2      carnarvon -24.8667  113.6333      73.4        43           2   \n",
       "3           hilo  19.7297 -155.0900      78.8        65          90   \n",
       "4  puerto narino  -3.7703  -70.3831      75.2       100          40   \n",
       "\n",
       "   Wind_Speed Country        Date  \n",
       "0        3.44      CL  1619228976  \n",
       "1        5.35      AU  1619228977  \n",
       "2        8.05      AU  1619228978  \n",
       "3       16.11      US  1619228777  \n",
       "4        2.30      CO  1619228980  "
      ]
     },
     "execution_count": 22,
     "metadata": {},
     "output_type": "execute_result"
    }
   ],
   "source": [
    "# Make a new DataFrame equal to the city data to drop all humidity outliers by index.\n",
    "# Passing \"inplace=False\" will make a copy of the city_data DataFrame, which we call \"clean_city_data\".\n",
    "clean_city_data_df = weather_data_df.drop(indices, inplace=False)\n",
    "clean_city_data_df.head()"
   ]
  },
  {
   "cell_type": "code",
   "execution_count": 23,
   "metadata": {},
   "outputs": [
    {
     "data": {
      "text/plain": [
       "540"
      ]
     },
     "execution_count": 23,
     "metadata": {},
     "output_type": "execute_result"
    }
   ],
   "source": [
    "# Count the amount of cities in the cleaned dataframe with cities where humidity is over 100% have been removed\n",
    "clean_city_data_df['City'].count()"
   ]
  },
  {
   "cell_type": "markdown",
   "metadata": {},
   "source": [
    "## Plotting the Data\n",
    "* Use proper labeling of the plots using plot titles (including date of analysis) and axes labels.\n",
    "* Save the plotted figures as .pngs."
   ]
  },
  {
   "cell_type": "markdown",
   "metadata": {},
   "source": [
    "## Latitude vs. Temperature Plot"
   ]
  },
  {
   "cell_type": "code",
   "execution_count": 27,
   "metadata": {},
   "outputs": [
    {
     "data": {
      "text/plain": [
       "'24-04-2021'"
      ]
     },
     "execution_count": 27,
     "metadata": {},
     "output_type": "execute_result"
    }
   ],
   "source": [
    "# Convert the date that the data is retrieved from Unix timestamp to readable format\n",
    "date_unix_timestamp = cleaned_weather_data_df['Date'].iloc[0]\n",
    "retrieval_date = datetime.utcfromtimestamp(date_unix_timestamp).strftime('%d-%m-%Y')\n",
    "retrieval_date"
   ]
  },
  {
   "cell_type": "code",
   "execution_count": 28,
   "metadata": {
    "scrolled": true
   },
   "outputs": [
    {
     "data": {
      "image/png": "[encoded data removed]",
      "text/plain": [
       "<Figure size 432x288 with 1 Axes>"
      ]
     },
     "metadata": {
      "needs_background": "light"
     },
     "output_type": "display_data"
    },
    {
     "name": "stdout",
     "output_type": "stream",
     "text": [
      "Latitude of city plotted against maximum temperature of the city on 24-04-2021.\n"
     ]
    }
   ],
   "source": [
    "# Set x and y axis for scatter plot of Latitude vs. Max Temperature\n",
    "x_axis = clean_city_data_df[\"Lat\"]\n",
    "y_axis = clean_city_data_df[\"Max_Temp\"]\n",
    "\n",
    "# Create scatter plot\n",
    "plt.scatter(x_axis, y_axis)\n",
    "\n",
    "# Add title and labels to line plot\n",
    "plt.title(f'City Latitude vs. Max Temperature {retrieval_date}')\n",
    "plt.xlabel('Latitude')\n",
    "plt.ylabel('Max Temperature (F)')\n",
    "\n",
    "# Save plotted figure as .png\n",
    "plt.savefig(\"images/latitude_temperature.png\")\n",
    "\n",
    "# Show scatter plot\n",
    "plt.show()\n",
    "print(f\"Latitude of city plotted against maximum temperature of the city on {retrieval_date}.\")"
   ]
  },
  {
   "cell_type": "markdown",
   "metadata": {},
   "source": [
    "## Latitude vs. Humidity Plot"
   ]
  },
  {
   "cell_type": "code",
   "execution_count": 29,
   "metadata": {},
   "outputs": [
    {
     "data": {
      "image/png": "[encoded data removed]",
      "text/plain": [
       "<Figure size 432x288 with 1 Axes>"
      ]
     },
     "metadata": {
      "needs_background": "light"
     },
     "output_type": "display_data"
    },
    {
     "name": "stdout",
     "output_type": "stream",
     "text": [
      "Latitude of city plotted against humidity of the city on 24-04-2021.\n"
     ]
    }
   ],
   "source": [
    "# Set x and y axis for scatter plot of Latitude vs. Humidity\n",
    "x_axis = clean_city_data_df[\"Lat\"]\n",
    "y_axis = clean_city_data_df[\"Humidity\"]\n",
    "\n",
    "# Create scatter plot\n",
    "plt.scatter(x_axis, y_axis)\n",
    "\n",
    "# Add title and labels to line plot\n",
    "plt.title(f'City Latitude vs. Humidity {retrieval_date}')\n",
    "plt.xlabel('Latitude')\n",
    "plt.ylabel('Humidity (%)')\n",
    "\n",
    "# Save plotted figure as .png\n",
    "plt.savefig(\"images/latitude_humidity.png\")\n",
    "\n",
    "# Show scatter plot\n",
    "plt.show()\n",
    "print(f\"Latitude of city plotted against humidity of the city on {retrieval_date}.\")"
   ]
  },
  {
   "cell_type": "markdown",
   "metadata": {},
   "source": [
    "## Latitude vs. Cloudiness Plot"
   ]
  },
  {
   "cell_type": "code",
   "execution_count": 30,
   "metadata": {},
   "outputs": [
    {
     "data": {
      "image/png": "[encoded data removed]",
      "text/plain": [
       "<Figure size 432x288 with 1 Axes>"
      ]
     },
     "metadata": {
      "needs_background": "light"
     },
     "output_type": "display_data"
    },
    {
     "name": "stdout",
     "output_type": "stream",
     "text": [
      "Latitude of city plotted against Cloudiness of the city on 24-04-2021.\n"
     ]
    }
   ],
   "source": [
    "# Set x and y axis for scatter plot of Latitude vs. Cloudiness\n",
    "x_axis = clean_city_data_df[\"Lat\"]\n",
    "y_axis = clean_city_data_df[\"Cloudiness\"]\n",
    "\n",
    "# Create scatter plot\n",
    "plt.scatter(x_axis, y_axis)\n",
    "\n",
    "# Add title and labels to line plot\n",
    "plt.title(f'City Latitude vs. Cloudiness {retrieval_date}')\n",
    "plt.xlabel('Latitude')\n",
    "plt.ylabel('Cloudiness (%)')\n",
    "\n",
    "# Save plotted figure as .png\n",
    "plt.savefig(\"images/latitude_cloudiness.png\")\n",
    "\n",
    "# Show scatter plot\n",
    "plt.show()\n",
    "print(f\"Latitude of city plotted against Cloudiness of the city on {retrieval_date}.\")"
   ]
  },
  {
   "cell_type": "markdown",
   "metadata": {},
   "source": [
    "## Latitude vs. Wind Speed Plot"
   ]
  },
  {
   "cell_type": "code",
   "execution_count": 31,
   "metadata": {},
   "outputs": [
    {
     "data": {
      "image/png": "[encoded data removed]",
      "text/plain": [
       "<Figure size 432x288 with 1 Axes>"
      ]
     },
     "metadata": {
      "needs_background": "light"
     },
     "output_type": "display_data"
    },
    {
     "name": "stdout",
     "output_type": "stream",
     "text": [
      "Latitude of city plotted against Wind Speed of the city on 24-04-2021.\n"
     ]
    }
   ],
   "source": [
    "# Set date x and y axis for scatter plot of Latitude vs. Wind Speed\n",
    "x_axis = clean_city_data_df[\"Lat\"]\n",
    "y_axis = clean_city_data_df[\"Wind_Speed\"]\n",
    "\n",
    "# Create scatter plot\n",
    "plt.scatter(x_axis, y_axis)\n",
    "\n",
    "# Add title and labels to line plot\n",
    "plt.title(f'City Latitude vs. Wind Speed {retrieval_date}')\n",
    "plt.xlabel('Latitude')\n",
    "plt.ylabel('Wind Speed (mphh)')\n",
    "\n",
    "# Save plotted figure as .png\n",
    "plt.savefig(\"images/latitude_wind_speed.png\")\n",
    "\n",
    "# Show scatter plot\n",
    "plt.show()\n",
    "print(f\"Latitude of city plotted against Wind Speed of the city on {retrieval_date}.\")"
   ]
  },
  {
   "cell_type": "markdown",
   "metadata": {},
   "source": [
    "## Linear Regression"
   ]
  },
  {
   "cell_type": "code",
   "execution_count": 34,
   "metadata": {},
   "outputs": [
    {
     "data": {
      "text/html": [
       "<div>\n",
       "<style scoped>\n",
       "    .dataframe tbody tr th:only-of-type {\n",
       "        vertical-align: middle;\n",
       "    }\n",
       "\n",
       "    .dataframe tbody tr th {\n",
       "        vertical-align: top;\n",
       "    }\n",
       "\n",
       "    .dataframe thead th {\n",
       "        text-align: right;\n",
       "    }\n",
       "</style>\n",
       "<table border=\"1\" class=\"dataframe\">\n",
       "  <thead>\n",
       "    <tr style=\"text-align: right;\">\n",
       "      <th></th>\n",
       "      <th>City</th>\n",
       "      <th>Lat</th>\n",
       "      <th>Lng</th>\n",
       "      <th>Max_Temp</th>\n",
       "      <th>Humidity</th>\n",
       "      <th>Cloudiness</th>\n",
       "      <th>Wind_Speed</th>\n",
       "      <th>Country</th>\n",
       "      <th>Date</th>\n",
       "    </tr>\n",
       "  </thead>\n",
       "  <tbody>\n",
       "    <tr>\n",
       "      <th>3</th>\n",
       "      <td>hilo</td>\n",
       "      <td>19.7297</td>\n",
       "      <td>-155.0900</td>\n",
       "      <td>78.8</td>\n",
       "      <td>65</td>\n",
       "      <td>90</td>\n",
       "      <td>16.11</td>\n",
       "      <td>US</td>\n",
       "      <td>1619228777</td>\n",
       "    </tr>\n",
       "    <tr>\n",
       "      <th>5</th>\n",
       "      <td>barrow</td>\n",
       "      <td>71.2906</td>\n",
       "      <td>-156.7887</td>\n",
       "      <td>28.4</td>\n",
       "      <td>69</td>\n",
       "      <td>1</td>\n",
       "      <td>5.12</td>\n",
       "      <td>US</td>\n",
       "      <td>1619228983</td>\n",
       "    </tr>\n",
       "    <tr>\n",
       "      <th>6</th>\n",
       "      <td>cap-aux-meules</td>\n",
       "      <td>47.3821</td>\n",
       "      <td>-61.8597</td>\n",
       "      <td>37.4</td>\n",
       "      <td>81</td>\n",
       "      <td>100</td>\n",
       "      <td>17.27</td>\n",
       "      <td>CA</td>\n",
       "      <td>1619228984</td>\n",
       "    </tr>\n",
       "    <tr>\n",
       "      <th>7</th>\n",
       "      <td>acapulco</td>\n",
       "      <td>16.8634</td>\n",
       "      <td>-99.8901</td>\n",
       "      <td>80.6</td>\n",
       "      <td>83</td>\n",
       "      <td>90</td>\n",
       "      <td>9.22</td>\n",
       "      <td>MX</td>\n",
       "      <td>1619228985</td>\n",
       "    </tr>\n",
       "    <tr>\n",
       "      <th>8</th>\n",
       "      <td>krabi</td>\n",
       "      <td>8.0726</td>\n",
       "      <td>98.9105</td>\n",
       "      <td>84.0</td>\n",
       "      <td>100</td>\n",
       "      <td>20</td>\n",
       "      <td>2.30</td>\n",
       "      <td>TH</td>\n",
       "      <td>1619228747</td>\n",
       "    </tr>\n",
       "  </tbody>\n",
       "</table>\n",
       "</div>"
      ],
      "text/plain": [
       "             City      Lat       Lng  Max_Temp  Humidity  Cloudiness  \\\n",
       "3            hilo  19.7297 -155.0900      78.8        65          90   \n",
       "5          barrow  71.2906 -156.7887      28.4        69           1   \n",
       "6  cap-aux-meules  47.3821  -61.8597      37.4        81         100   \n",
       "7        acapulco  16.8634  -99.8901      80.6        83          90   \n",
       "8           krabi   8.0726   98.9105      84.0       100          20   \n",
       "\n",
       "   Wind_Speed Country        Date  \n",
       "3       16.11      US  1619228777  \n",
       "5        5.12      US  1619228983  \n",
       "6       17.27      CA  1619228984  \n",
       "7        9.22      MX  1619228985  \n",
       "8        2.30      TH  1619228747  "
      ]
     },
     "execution_count": 34,
     "metadata": {},
     "output_type": "execute_result"
    }
   ],
   "source": [
    "# Reduce the clean dataframe to cities only in the Northern Hemisphere\n",
    "northern_hemisphere_df = clean_city_data_df.query(f\"Lat >= 0\")\n",
    "northern_hemisphere_df.head()"
   ]
  },
  {
   "cell_type": "code",
   "execution_count": 36,
   "metadata": {},
   "outputs": [
    {
     "data": {
      "text/html": [
       "<div>\n",
       "<style scoped>\n",
       "    .dataframe tbody tr th:only-of-type {\n",
       "        vertical-align: middle;\n",
       "    }\n",
       "\n",
       "    .dataframe tbody tr th {\n",
       "        vertical-align: top;\n",
       "    }\n",
       "\n",
       "    .dataframe thead th {\n",
       "        text-align: right;\n",
       "    }\n",
       "</style>\n",
       "<table border=\"1\" class=\"dataframe\">\n",
       "  <thead>\n",
       "    <tr style=\"text-align: right;\">\n",
       "      <th></th>\n",
       "      <th>City</th>\n",
       "      <th>Lat</th>\n",
       "      <th>Lng</th>\n",
       "      <th>Max_Temp</th>\n",
       "      <th>Humidity</th>\n",
       "      <th>Cloudiness</th>\n",
       "      <th>Wind_Speed</th>\n",
       "      <th>Country</th>\n",
       "      <th>Date</th>\n",
       "    </tr>\n",
       "  </thead>\n",
       "  <tbody>\n",
       "    <tr>\n",
       "      <th>0</th>\n",
       "      <td>punta arenas</td>\n",
       "      <td>-53.1500</td>\n",
       "      <td>-70.9167</td>\n",
       "      <td>42.8</td>\n",
       "      <td>93</td>\n",
       "      <td>40</td>\n",
       "      <td>3.44</td>\n",
       "      <td>CL</td>\n",
       "      <td>1619228976</td>\n",
       "    </tr>\n",
       "    <tr>\n",
       "      <th>1</th>\n",
       "      <td>busselton</td>\n",
       "      <td>-33.6500</td>\n",
       "      <td>115.3333</td>\n",
       "      <td>71.6</td>\n",
       "      <td>48</td>\n",
       "      <td>31</td>\n",
       "      <td>5.35</td>\n",
       "      <td>AU</td>\n",
       "      <td>1619228977</td>\n",
       "    </tr>\n",
       "    <tr>\n",
       "      <th>2</th>\n",
       "      <td>carnarvon</td>\n",
       "      <td>-24.8667</td>\n",
       "      <td>113.6333</td>\n",
       "      <td>73.4</td>\n",
       "      <td>43</td>\n",
       "      <td>2</td>\n",
       "      <td>8.05</td>\n",
       "      <td>AU</td>\n",
       "      <td>1619228978</td>\n",
       "    </tr>\n",
       "    <tr>\n",
       "      <th>4</th>\n",
       "      <td>puerto narino</td>\n",
       "      <td>-3.7703</td>\n",
       "      <td>-70.3831</td>\n",
       "      <td>75.2</td>\n",
       "      <td>100</td>\n",
       "      <td>40</td>\n",
       "      <td>2.30</td>\n",
       "      <td>CO</td>\n",
       "      <td>1619228980</td>\n",
       "    </tr>\n",
       "    <tr>\n",
       "      <th>9</th>\n",
       "      <td>hermanus</td>\n",
       "      <td>-34.4187</td>\n",
       "      <td>19.2345</td>\n",
       "      <td>55.0</td>\n",
       "      <td>90</td>\n",
       "      <td>95</td>\n",
       "      <td>1.01</td>\n",
       "      <td>ZA</td>\n",
       "      <td>1619228987</td>\n",
       "    </tr>\n",
       "  </tbody>\n",
       "</table>\n",
       "</div>"
      ],
      "text/plain": [
       "            City      Lat       Lng  Max_Temp  Humidity  Cloudiness  \\\n",
       "0   punta arenas -53.1500  -70.9167      42.8        93          40   \n",
       "1      busselton -33.6500  115.3333      71.6        48          31   \n",
       "2      carnarvon -24.8667  113.6333      73.4        43           2   \n",
       "4  puerto narino  -3.7703  -70.3831      75.2       100          40   \n",
       "9       hermanus -34.4187   19.2345      55.0        90          95   \n",
       "\n",
       "   Wind_Speed Country        Date  \n",
       "0        3.44      CL  1619228976  \n",
       "1        5.35      AU  1619228977  \n",
       "2        8.05      AU  1619228978  \n",
       "4        2.30      CO  1619228980  \n",
       "9        1.01      ZA  1619228987  "
      ]
     },
     "execution_count": 36,
     "metadata": {},
     "output_type": "execute_result"
    }
   ],
   "source": [
    "# Reduce the clean dataframe to cities only in the Southern Hemisphere\n",
    "Lat=0\n",
    "southern_hemisphere_df = clean_city_data_df.query(f\"Lat < 0\")\n",
    "southern_hemisphere_df.head()"
   ]
  },
  {
   "cell_type": "markdown",
   "metadata": {},
   "source": [
    "####  Northern Hemisphere - Max Temp vs. Latitude Linear Regression"
   ]
  },
  {
   "cell_type": "code",
   "execution_count": 76,
   "metadata": {},
   "outputs": [
    {
     "name": "stdout",
     "output_type": "stream",
     "text": [
      "The r-value is -0.9033531710963545\n"
     ]
    },
    {
     "data": {
      "image/png": "[encoded data removed]",
      "text/plain": [
       "<Figure size 432x288 with 1 Axes>"
      ]
     },
     "metadata": {
      "needs_background": "light"
     },
     "output_type": "display_data"
    },
    {
     "name": "stdout",
     "output_type": "stream",
     "text": [
      "Latitude of Northern cities plotted against maximum temperature of those cities on 24-04-2021. The linear regression line shows a very strong, negative linear relationship\n"
     ]
    }
   ],
   "source": [
    "# Set x and y axis for scatter plot of Northern Hemisphere Latitude vs. Max Temperature\n",
    "x_axis = northern_hemisphere_df[\"Lat\"]\n",
    "y_axis = northern_hemisphere_df[\"Max_Temp\"]\n",
    "\n",
    "# Create linear regression equation and line to plot\n",
    "(slope, intercept, rvalue, pvalue, stderr) = linregress(x_axis, y_axis)\n",
    "regress_values = x_axis * slope + intercept\n",
    "line_eq = \"y = \" + str(round(slope,2)) + \"x + \" + str(round(intercept,2))\n",
    "plt.plot(x_axis,regress_values,\"r-\")\n",
    "plt.annotate(line_eq,(0,35),fontsize=15,color=\"red\")\n",
    "\n",
    "# Create scatter plot\n",
    "plt.scatter(x_axis, y_axis)\n",
    "\n",
    "# Add title and labels to line plot\n",
    "plt.title(f'Northern Hemisphere - Max Temp vs. Latitude Linear Regression ({retrieval_date})')\n",
    "plt.xlabel('Latitude')\n",
    "plt.ylabel('Max Temperature (F)')\n",
    "\n",
    "# Save plotted figure as .png\n",
    "plt.savefig(\"images/north_hem_temperature.png\")\n",
    "\n",
    "# Show scatter plot\n",
    "print(f\"The r-value is {rvalue}\")\n",
    "plt.show()\n",
    "print(f\"Latitude of Northern cities plotted against maximum temperature of those cities on {retrieval_date}. The linear regression line shows a very strong, negative linear relationship\")"
   ]
  },
  {
   "cell_type": "markdown",
   "metadata": {},
   "source": [
    "####  Southern Hemisphere - Max Temp vs. Latitude Linear Regression"
   ]
  },
  {
   "cell_type": "code",
   "execution_count": 75,
   "metadata": {},
   "outputs": [
    {
     "name": "stdout",
     "output_type": "stream",
     "text": [
      "The r-value is 0.7390529543660201\n"
     ]
    },
    {
     "data": {
      "image/png": "[encoded data removed]",
      "text/plain": [
       "<Figure size 432x288 with 1 Axes>"
      ]
     },
     "metadata": {
      "needs_background": "light"
     },
     "output_type": "display_data"
    },
    {
     "name": "stdout",
     "output_type": "stream",
     "text": [
      "Latitude of Southern cities plotted against maximum temperature of those cities on 24-04-2021. The linear regression line shows a strong, postive linear relationship\n"
     ]
    }
   ],
   "source": [
    "# Set x and y axis for scatter plot of Southern Hemisphere Latitude vs. Max Temperature\n",
    "x_axis = southern_hemisphere_df[\"Lat\"]\n",
    "y_axis = southern_hemisphere_df[\"Max_Temp\"]\n",
    "\n",
    "# Create linear regression equation and line to plot\n",
    "(slope, intercept, rvalue, pvalue, stderr) = linregress(x_axis, y_axis)\n",
    "regress_values = x_axis * slope + intercept\n",
    "line_eq = \"y = \" + str(round(slope,2)) + \"x + \" + str(round(intercept,2))\n",
    "plt.plot(x_axis,regress_values,\"r-\")\n",
    "plt.annotate(line_eq,(-52,80),fontsize=15,color=\"red\")\n",
    "\n",
    "# Create scatter plot\n",
    "plt.scatter(x_axis, y_axis)\n",
    "\n",
    "# Add title and labels to line plot\n",
    "plt.title(f'Southern Hemisphere - Max Temp vs. Latitude Linear Regression ({retrieval_date})')\n",
    "plt.xlabel('Latitude')\n",
    "plt.ylabel('Max Temperature (F)')\n",
    "\n",
    "# Save plotted figure as .png\n",
    "plt.savefig(\"images/south_hem_temperature.png\")\n",
    "\n",
    "# Show scatter plot\n",
    "print(f\"The r-value is {rvalue}\")\n",
    "plt.show()\n",
    "print(f\"Latitude of Southern cities plotted against maximum temperature of those cities on {retrieval_date}. The linear regression line shows a strong, postive linear relationship\")"
   ]
  },
  {
   "cell_type": "markdown",
   "metadata": {},
   "source": [
    "####  Northern Hemisphere - Humidity (%) vs. Latitude Linear Regression"
   ]
  },
  {
   "cell_type": "code",
   "execution_count": 79,
   "metadata": {},
   "outputs": [
    {
     "name": "stdout",
     "output_type": "stream",
     "text": [
      "The r-value is 0.06315335833886848\n"
     ]
    },
    {
     "data": {
      "image/png": "[encoded data removed]",
      "text/plain": [
       "<Figure size 432x288 with 1 Axes>"
      ]
     },
     "metadata": {
      "needs_background": "light"
     },
     "output_type": "display_data"
    },
    {
     "name": "stdout",
     "output_type": "stream",
     "text": [
      "Latitude of Northern cities plotted against Humidity of those cities on 24-04-2021. The linear regression line shows a very weak positive, to no linear relationship.\n"
     ]
    }
   ],
   "source": [
    "# Set x and y axis for scatter plot of Northern Hemisphere Latitude vs. Humidity\n",
    "x_axis = northern_hemisphere_df[\"Lat\"]\n",
    "y_axis = northern_hemisphere_df[\"Humidity\"]\n",
    "\n",
    "# Create linear regression equation and line to plot\n",
    "(slope, intercept, rvalue, pvalue, stderr) = linregress(x_axis, y_axis)\n",
    "regress_values = x_axis * slope + intercept\n",
    "line_eq = \"y = \" + str(round(slope,2)) + \"x + \" + str(round(intercept,2))\n",
    "plt.plot(x_axis,regress_values,\"r-\")\n",
    "plt.annotate(line_eq,(45,42),fontsize=15,color=\"red\")\n",
    "\n",
    "# Create scatter plot\n",
    "plt.scatter(x_axis, y_axis)\n",
    "\n",
    "# Add title and labels to line plot\n",
    "plt.title(f'Northern Hemisphere - Humidity (%) vs. Latitude Linear Regression {retrieval_date}')\n",
    "plt.xlabel('Latitude')\n",
    "plt.ylabel('Humidity (%)')\n",
    "\n",
    "# Save plotted figure as .png\n",
    "plt.savefig(\"images/north_hem_humidity.png\")\n",
    "\n",
    "# Show scatter plot\n",
    "print(f\"The r-value is {rvalue}\")\n",
    "plt.show()\n",
    "print(f\"Latitude of Northern cities plotted against Humidity of those cities on {retrieval_date}. The linear regression line shows a very weak positive, to no linear relationship.\")"
   ]
  },
  {
   "cell_type": "markdown",
   "metadata": {},
   "source": [
    "####  Southern Hemisphere - Humidity (%) vs. Latitude Linear Regression"
   ]
  },
  {
   "cell_type": "code",
   "execution_count": 73,
   "metadata": {},
   "outputs": [
    {
     "name": "stdout",
     "output_type": "stream",
     "text": [
      "The r-value is 0.16679863360984168\n"
     ]
    },
    {
     "data": {
      "image/png": "[encoded data removed]",
      "text/plain": [
       "<Figure size 432x288 with 1 Axes>"
      ]
     },
     "metadata": {
      "needs_background": "light"
     },
     "output_type": "display_data"
    },
    {
     "name": "stdout",
     "output_type": "stream",
     "text": [
      "Latitude of Southern cities plotted against Humidity of those cities on 24-04-2021. The linear regression line shows a very weak, positive linear relationship.\n"
     ]
    }
   ],
   "source": [
    "# Set x and y axis for scatter plot of Southern Hemisphere Latitude vs. Humidity\n",
    "x_axis = southern_hemisphere_df[\"Lat\"]\n",
    "y_axis = southern_hemisphere_df[\"Humidity\"]\n",
    "\n",
    "# Create linear regression equation and line to plot\n",
    "(slope, intercept, rvalue, pvalue, stderr) = linregress(x_axis, y_axis)\n",
    "regress_values = x_axis * slope + intercept\n",
    "line_eq = \"y = \" + str(round(slope,2)) + \"x + \" + str(round(intercept,2))\n",
    "plt.plot(x_axis,regress_values,\"r-\")\n",
    "plt.annotate(line_eq,(-55,39),fontsize=15,color=\"red\")\n",
    "\n",
    "# Create scatter plot\n",
    "plt.scatter(x_axis, y_axis)\n",
    "\n",
    "# Add title and labels to line plot\n",
    "plt.title(f'Southern Hemisphere - Humidity (%) vs. Latitude Linear Regression ({retrieval_date})')\n",
    "plt.xlabel('Latitude')\n",
    "plt.ylabel('Humidity (%)')\n",
    "\n",
    "# Save plotted figure as .png\n",
    "plt.savefig(\"images/south_hem_humidity.png\")\n",
    "\n",
    "# Show scatter plot\n",
    "print(f\"The r-value is {rvalue}\")\n",
    "plt.show()\n",
    "print(f\"Latitude of Southern cities plotted against Humidity of those cities on {retrieval_date}. The linear regression line shows a very weak, positive linear relationship.\")"
   ]
  },
  {
   "cell_type": "markdown",
   "metadata": {},
   "source": [
    "####  Northern Hemisphere - Cloudiness (%) vs. Latitude Linear Regression"
   ]
  },
  {
   "cell_type": "code",
   "execution_count": 77,
   "metadata": {},
   "outputs": [
    {
     "name": "stdout",
     "output_type": "stream",
     "text": [
      "The r-value is 0.1631577624869139\n"
     ]
    },
    {
     "data": {
      "image/png": "[encoded data removed]",
      "text/plain": [
       "<Figure size 432x288 with 1 Axes>"
      ]
     },
     "metadata": {
      "needs_background": "light"
     },
     "output_type": "display_data"
    },
    {
     "name": "stdout",
     "output_type": "stream",
     "text": [
      "Latitude of Northern cities plotted against Cloudiness of those cities on 24-04-2021. The linear regression line shows a very weak, positive linear relationship.\n"
     ]
    }
   ],
   "source": [
    "# Set x and y axis for scatter plot of Northern Hemisphere Latitude vs. Cloudiness\n",
    "x_axis = northern_hemisphere_df[\"Lat\"]\n",
    "y_axis = northern_hemisphere_df[\"Cloudiness\"]\n",
    "\n",
    "# Create linear regression equation and line to plot\n",
    "(slope, intercept, rvalue, pvalue, stderr) = linregress(x_axis, y_axis)\n",
    "regress_values = x_axis * slope + intercept\n",
    "line_eq = \"y = \" + str(round(slope,2)) + \"x + \" + str(round(intercept,2))\n",
    "plt.plot(x_axis,regress_values,\"r-\")\n",
    "plt.annotate(line_eq,(0,60),fontsize=15,color=\"red\")\n",
    "\n",
    "# Create scatter plot\n",
    "plt.scatter(x_axis, y_axis)\n",
    "\n",
    "# Add title and labels to line plot\n",
    "plt.title(f'Northern Hemisphere - Cloudiness (%) vs. Latitude Linear Regression ({retrieval_date})')\n",
    "plt.xlabel('Latitude')\n",
    "plt.ylabel('Cloudiness (%)')\n",
    "\n",
    "# Save plotted figure as .png\n",
    "plt.savefig(\"images/north_hem_cloudiness.png\")\n",
    "\n",
    "# Show scatter plot\n",
    "print(f\"The r-value is {rvalue}\")\n",
    "plt.show()\n",
    "print(f\"Latitude of Northern cities plotted against Cloudiness of those cities on {retrieval_date}. The linear regression line shows a very weak, positive linear relationship.\")"
   ]
  },
  {
   "cell_type": "markdown",
   "metadata": {},
   "source": [
    "####  Southern Hemisphere - Cloudiness (%) vs. Latitude Linear Regression"
   ]
  },
  {
   "cell_type": "code",
   "execution_count": 78,
   "metadata": {},
   "outputs": [
    {
     "name": "stdout",
     "output_type": "stream",
     "text": [
      "The r-value is -0.09686532862556825\n"
     ]
    },
    {
     "data": {
      "image/png": "[encoded data removed]",
      "text/plain": [
       "<Figure size 432x288 with 1 Axes>"
      ]
     },
     "metadata": {
      "needs_background": "light"
     },
     "output_type": "display_data"
    },
    {
     "name": "stdout",
     "output_type": "stream",
     "text": [
      "Latitude of Southern cities plotted against Cloudiness of those cities on 24-04-2021. The linear regression line shows a very weak negative, to no linear relationship.\n"
     ]
    }
   ],
   "source": [
    "# Set x and y axis for scatter plot of Southern Hemisphere Latitude vs. Max Temperature\n",
    "x_axis = southern_hemisphere_df[\"Lat\"]\n",
    "y_axis = southern_hemisphere_df[\"Cloudiness\"]\n",
    "\n",
    "# Create linear regression equation and line to plot\n",
    "(slope, intercept, rvalue, pvalue, stderr) = linregress(x_axis, y_axis)\n",
    "regress_values = x_axis * slope + intercept\n",
    "line_eq = \"y = \" + str(round(slope,2)) + \"x + \" + str(round(intercept,2))\n",
    "plt.plot(x_axis,regress_values,\"r-\")\n",
    "plt.annotate(line_eq,(-57,43),fontsize=15,color=\"red\")\n",
    "\n",
    "# Create scatter plot\n",
    "plt.scatter(x_axis, y_axis)\n",
    "\n",
    "# Add title and labels to line plot\n",
    "plt.title(f'Southern Hemisphere - Cloudiness (%) vs. Latitude Linear Regression ({retrieval_date})')\n",
    "plt.xlabel('Latitude')\n",
    "plt.ylabel('Cloudiness (%)')\n",
    "\n",
    "# Save plotted figure as .png\n",
    "plt.savefig(\"images/south_hem_cloudiness.png\")\n",
    "\n",
    "# Show scatter plot\n",
    "print(f\"The r-value is {rvalue}\")\n",
    "plt.show()\n",
    "print(f\"Latitude of Southern cities plotted against Cloudiness of those cities on {retrieval_date}. The linear regression line shows a very weak negative, to no linear relationship.\")"
   ]
  },
  {
   "cell_type": "markdown",
   "metadata": {},
   "source": [
    "####  Northern Hemisphere - Wind Speed (mph) vs. Latitude Linear Regression"
   ]
  },
  {
   "cell_type": "code",
   "execution_count": 81,
   "metadata": {},
   "outputs": [
    {
     "name": "stdout",
     "output_type": "stream",
     "text": [
      "The r-value is 0.10826423344974082\n"
     ]
    },
    {
     "data": {
      "image/png": "[encoded data removed]",
      "text/plain": [
       "<Figure size 432x288 with 1 Axes>"
      ]
     },
     "metadata": {
      "needs_background": "light"
     },
     "output_type": "display_data"
    },
    {
     "name": "stdout",
     "output_type": "stream",
     "text": [
      "Latitude of Northern cities plotted against Wind Speed of those cities on 24-04-2021. The linear regression line shows a very weak positive, to no linear relationship.\n"
     ]
    }
   ],
   "source": [
    "# Set x and y axis for scatter plot of Northern Hemisphere Latitude vs. Wind Speed\n",
    "x_axis = northern_hemisphere_df[\"Lat\"]\n",
    "y_axis = northern_hemisphere_df[\"Wind_Speed\"]\n",
    "\n",
    "# Create linear regression equation and line to plot\n",
    "(slope, intercept, rvalue, pvalue, stderr) = linregress(x_axis, y_axis)\n",
    "regress_values = x_axis * slope + intercept\n",
    "line_eq = \"y = \" + str(round(slope,2)) + \"x + \" + str(round(intercept,2))\n",
    "plt.plot(x_axis,regress_values,\"r-\")\n",
    "plt.annotate(line_eq,(0,15),fontsize=15,color=\"red\")\n",
    "\n",
    "# Create scatter plot\n",
    "plt.scatter(x_axis, y_axis)\n",
    "\n",
    "# Add title and labels to line plot\n",
    "plt.title(f'Northern Hemisphere - Wind Speed vs. Latitude Linear Regression ({retrieval_date})')\n",
    "plt.xlabel('Latitude')\n",
    "plt.ylabel('Wind Speed (mph)')\n",
    "\n",
    "# Save plotted figure as .png\n",
    "plt.savefig(\"images/north_hem_wind_speed.png\")\n",
    "\n",
    "# Show scatter plot\n",
    "print(f\"The r-value is {rvalue}\")\n",
    "plt.show()\n",
    "print(f\"Latitude of Northern cities plotted against Wind Speed of those cities on {retrieval_date}. The linear regression line shows a very weak positive, to no linear relationship.\")"
   ]
  },
  {
   "cell_type": "markdown",
   "metadata": {},
   "source": [
    "####  Southern Hemisphere - Wind Speed (mph) vs. Latitude Linear Regression"
   ]
  },
  {
   "cell_type": "code",
   "execution_count": 80,
   "metadata": {},
   "outputs": [
    {
     "name": "stdout",
     "output_type": "stream",
     "text": [
      "The r-value is -0.18602355987070135\n"
     ]
    },
    {
     "data": {
      "image/png": "[encoded data removed]",
      "text/plain": [
       "<Figure size 432x288 with 1 Axes>"
      ]
     },
     "metadata": {
      "needs_background": "light"
     },
     "output_type": "display_data"
    },
    {
     "name": "stdout",
     "output_type": "stream",
     "text": [
      "Latitude of Southern cities plotted against Wind Speed of those cities on 24-04-2021. The linear regression line shows a very weak, negative linear relationship.\n"
     ]
    }
   ],
   "source": [
    "# Set x and y axis for scatter plot of Southern Hemisphere Latitude vs. Wind Speed\n",
    "x_axis = southern_hemisphere_df[\"Lat\"]\n",
    "y_axis = southern_hemisphere_df[\"Wind_Speed\"]\n",
    "\n",
    "# Create linear regression equation and line to plot\n",
    "(slope, intercept, rvalue, pvalue, stderr) = linregress(x_axis, y_axis)\n",
    "regress_values = x_axis * slope + intercept\n",
    "line_eq = \"y = \" + str(round(slope,2)) + \"x + \" + str(round(intercept,2))\n",
    "plt.plot(x_axis,regress_values,\"r-\")\n",
    "plt.annotate(line_eq,(-55,10),fontsize=15,color=\"red\")\n",
    "\n",
    "# Create scatter plot\n",
    "plt.scatter(x_axis, y_axis)\n",
    "\n",
    "# Add title and labels to line plot\n",
    "plt.title(f'Southern Hemisphere - Wind Speed vs. Latitude Linear Regression ({retrieval_date}')\n",
    "plt.xlabel('Latitude')\n",
    "plt.ylabel('Wind Speed (mph)')\n",
    "\n",
    "# Save plotted figure as .png\n",
    "plt.savefig(\"images/south_hem_wind_speed.png\")\n",
    "\n",
    "# Show scatter plot\n",
    "print(f\"The r-value is {rvalue}\")\n",
    "plt.show()\n",
    "print(f\"Latitude of Southern cities plotted against Wind Speed of those cities on {retrieval_date}. The linear regression line shows a very weak, negative linear relationship.\")"
   ]
  },
  {
   "cell_type": "code",
   "execution_count": null,
   "metadata": {},
   "outputs": [],
   "source": []
  }
 ],
 "metadata": {
  "anaconda-cloud": {},
  "kernel_info": {
   "name": "python3"
  },
  "kernelspec": {
   "display_name": "Python 3",
   "language": "python",
   "name": "python3"
  },
  "language_info": {
   "codemirror_mode": {
    "name": "ipython",
    "version": 3
   },
   "file_extension": ".py",
   "mimetype": "text/x-python",
   "name": "python",
   "nbconvert_exporter": "python",
   "pygments_lexer": "ipython3",
   "version": "3.8.5"
  },
  "latex_envs": {
   "LaTeX_envs_menu_present": true,
   "autoclose": false,
   "autocomplete": true,
   "bibliofile": "biblio.bib",
   "cite_by": "apalike",
   "current_citInitial": 1,
   "eqLabelWithNumbers": true,
   "eqNumInitial": 1,
   "hotkeys": {
    "equation": "Ctrl-E",
    "itemize": "Ctrl-I"
   },
   "labels_anchors": false,
   "latex_user_defs": false,
   "report_style_numbering": false,
   "user_envs_cfg": false
  },
  "nteract": {
   "version": "0.12.3"
  }
 },
 "nbformat": 4,
 "nbformat_minor": 2
}
