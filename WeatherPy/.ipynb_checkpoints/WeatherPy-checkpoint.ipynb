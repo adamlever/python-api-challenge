{
 "cells": [
  {
   "cell_type": "markdown",
   "metadata": {},
   "source": [
    "# WeatherPy\n",
    "----\n",
    "\n",
    "#### Note\n",
    "* Instructions have been included for each segment. You do not have to follow them exactly, but they are included to help you think through the steps."
   ]
  },
  {
   "cell_type": "code",
   "execution_count": 39,
   "metadata": {
    "scrolled": true
   },
   "outputs": [],
   "source": [
    "# Dependencies and Setup\n",
    "import matplotlib.pyplot as plt\n",
    "import pandas as pd\n",
    "import numpy as np\n",
    "\n",
    "import requests\n",
    "import time\n",
    "import json\n",
    "\n",
    "from citipy import citipy\n",
    "\n",
    "# Import API key\n",
    "from api_keys import weather_api_key"
   ]
  },
  {
   "cell_type": "markdown",
   "metadata": {},
   "source": [
    "## Generate Cities List"
   ]
  },
  {
   "cell_type": "code",
   "execution_count": 40,
   "metadata": {},
   "outputs": [
    {
     "data": {
      "text/html": [
       "<div>\n",
       "<style scoped>\n",
       "    .dataframe tbody tr th:only-of-type {\n",
       "        vertical-align: middle;\n",
       "    }\n",
       "\n",
       "    .dataframe tbody tr th {\n",
       "        vertical-align: top;\n",
       "    }\n",
       "\n",
       "    .dataframe thead th {\n",
       "        text-align: right;\n",
       "    }\n",
       "</style>\n",
       "<table border=\"1\" class=\"dataframe\">\n",
       "  <thead>\n",
       "    <tr style=\"text-align: right;\">\n",
       "      <th></th>\n",
       "      <th>Latitude</th>\n",
       "      <th>Longitude</th>\n",
       "    </tr>\n",
       "  </thead>\n",
       "  <tbody>\n",
       "    <tr>\n",
       "      <th>0</th>\n",
       "      <td>-82</td>\n",
       "      <td>-43</td>\n",
       "    </tr>\n",
       "    <tr>\n",
       "      <th>1</th>\n",
       "      <td>-66</td>\n",
       "      <td>-87</td>\n",
       "    </tr>\n",
       "    <tr>\n",
       "      <th>2</th>\n",
       "      <td>-23</td>\n",
       "      <td>-94</td>\n",
       "    </tr>\n",
       "    <tr>\n",
       "      <th>3</th>\n",
       "      <td>13</td>\n",
       "      <td>-25</td>\n",
       "    </tr>\n",
       "    <tr>\n",
       "      <th>4</th>\n",
       "      <td>-3</td>\n",
       "      <td>-39</td>\n",
       "    </tr>\n",
       "  </tbody>\n",
       "</table>\n",
       "</div>"
      ],
      "text/plain": [
       "   Latitude  Longitude\n",
       "0       -82        -43\n",
       "1       -66        -87\n",
       "2       -23        -94\n",
       "3        13        -25\n",
       "4        -3        -39"
      ]
     },
     "execution_count": 40,
     "metadata": {},
     "output_type": "execute_result"
    }
   ],
   "source": [
    "############# LATITUDE AND LONGITUDE SIZE TO BE CHANGED TO SIZE = 1500 BEFORE SUBMITTING !!!!!!!!!!!\n",
    "\n",
    "# Set random number seed \n",
    "np.random.seed(100)\n",
    "\n",
    "# Create a list of random latitudes and longitudes\n",
    "lats = np.random.randint(-90, 90, size=20)\n",
    "longs = np.random.randint(-180, 180, size=20)\n",
    "\n",
    "# Place these latitude and longitude lists into a DataFrame\n",
    "coords = pd.DataFrame({\"Latitude\": lats, \"Longitude\": longs})\n",
    "\n",
    "# Show preview of DataFrame\n",
    "coords.head()"
   ]
  },
  {
   "cell_type": "code",
   "execution_count": 41,
   "metadata": {},
   "outputs": [
    {
     "data": {
      "text/plain": [
       "20"
      ]
     },
     "execution_count": 41,
     "metadata": {},
     "output_type": "execute_result"
    }
   ],
   "source": [
    "# Create empty list to append the retrieved cities\n",
    "cities = []\n",
    "\n",
    "# Create a loop to go through the coords dataframe rows and to look up the closest city from each latitude and longitude\n",
    "for ind, row in coords.iterrows():\n",
    "    \n",
    "    # Retrieve the latitude and longitude for a row\n",
    "    lat, lon = row['Latitude'], row['Longitude']\n",
    "    \n",
    "    # Use citipy to find closest city\n",
    "    city = citipy.nearest_city(lat, lon)\n",
    "    city = city.city_name\n",
    "    \n",
    "    # Add retrieved city to cities list if it is not already in the list\n",
    "    if city not in cities:\n",
    "        cities.append(city)\n",
    "\n",
    "# Print the final amount of cities retrieved\n",
    "len(cities)"
   ]
  },
  {
   "cell_type": "markdown",
   "metadata": {},
   "source": [
    "### Perform API Calls\n",
    "* Perform a weather check on each city using a series of successive API calls.\n",
    "* Include a print log of each city as it's being processed (with the city number and city name).\n"
   ]
  },
  {
   "cell_type": "code",
   "execution_count": 42,
   "metadata": {
    "scrolled": true
   },
   "outputs": [
    {
     "name": "stdout",
     "output_type": "stream",
     "text": [
      "Beginning Data Retrieval\n",
      "-----------------------------\n",
      "Processing Record 1 of Set 1 | ushuaia\n",
      "Processing Record 2 of Set 1 | punta arenas\n",
      "Processing Record 3 of Set 1 | pisco\n",
      "Processing Record 4 of Set 1 | sao filipe\n",
      "Processing Record 5 of Set 1 | trairi\n",
      "Processing Record 6 of Set 1 | victoria\n",
      "Processing Record 7 of Set 1 | berlevag\n",
      "Processing Record 8 of Set 1 | kirkland lake\n",
      "City not found. Skipping...\n",
      "Processing Record 9 of Set 1 | santa cruz\n",
      "Processing Record 10 of Set 1 | stawell\n",
      "Processing Record 11 of Set 1 | ilhabela\n",
      "Processing Record 12 of Set 1 | rikitea\n",
      "Processing Record 13 of Set 1 | hermanus\n",
      "Processing Record 14 of Set 1 | new norfolk\n",
      "Processing Record 15 of Set 1 | tashtyp\n",
      "Processing Record 16 of Set 1 | kidal\n",
      "Processing Record 17 of Set 1 | bambous virieux\n",
      "Processing Record 18 of Set 1 | port macquarie\n",
      "Processing Record 19 of Set 1 | provideniya\n",
      "-----------------------------\n",
      "Data Retrieval Complete\n",
      "-----------------------------\n"
     ]
    }
   ],
   "source": [
    "# Save config information\n",
    "url = \"http://api.openweathermap.org/data/2.5/weather?\"\n",
    "units = \"metric\"\n",
    "query_url = f\"{url}appid={weather_api_key}&units={units}&q=\"\n",
    "\n",
    "# Set time to pause between each loop to enable api data retrieval\n",
    "time_between = 1\n",
    "\n",
    "# Set empty lists to fill during loop\n",
    "final_city = []\n",
    "lat = []\n",
    "long = []\n",
    "max_temp = []\n",
    "humidity = []\n",
    "cloudiness = []\n",
    "wind_speed = []\n",
    "country = []\n",
    "date = []\n",
    "\n",
    "# Log counter\n",
    "record = 0\n",
    "set = 1\n",
    "\n",
    "# Print log of each city\n",
    "print(\"Beginning Data Retrieval\")     \n",
    "print(\"-----------------------------\")\n",
    "\n",
    "# Create a loop to loop through each city and retrieve weather data to append to lists, pausing for a second at the end of each loop   \n",
    "for city in cities:    \n",
    "            \n",
    "    try:\n",
    "        response = requests.get(query_url + city).json()\n",
    "        \n",
    "        lat.append(response['coord']['lat'])\n",
    "        long.append(response['coord']['lon'])\n",
    "        max_temp.append(response['main']['temp_max'])\n",
    "        humidity.append(response['main']['humidity'])\n",
    "        cloudiness.append(response['clouds']['all'])\n",
    "        wind_speed.append(response['wind']['speed'])\n",
    "        country.append(response['sys']['country'])\n",
    "        date.append(response['dt'])\n",
    "        \n",
    "        # Add to log counter\n",
    "        if record >= 50:\n",
    "            record = 1\n",
    "            set += 1\n",
    "            final_city.append(city)\n",
    "        else:\n",
    "            record += 1\n",
    "            final_city.append(city)\n",
    "            \n",
    "        print(f\"Processing Record {record} of Set {set} | {city}\")\n",
    "        \n",
    "    except KeyError:\n",
    "        print(\"City not found. Skipping...\")\n",
    "\n",
    "    time.sleep(time_between)\n",
    "\n",
    "print(\"-----------------------------\")\n",
    "print(\"Data Retrieval Complete\")\n",
    "print(\"-----------------------------\")"
   ]
  },
  {
   "cell_type": "markdown",
   "metadata": {},
   "source": [
    "### Convert Raw Data to DataFrame\n",
    "* Export the city data into a .csv.\n",
    "* Display the DataFrame"
   ]
  },
  {
   "cell_type": "code",
   "execution_count": 43,
   "metadata": {},
   "outputs": [
    {
     "data": {
      "text/html": [
       "<div>\n",
       "<style scoped>\n",
       "    .dataframe tbody tr th:only-of-type {\n",
       "        vertical-align: middle;\n",
       "    }\n",
       "\n",
       "    .dataframe tbody tr th {\n",
       "        vertical-align: top;\n",
       "    }\n",
       "\n",
       "    .dataframe thead th {\n",
       "        text-align: right;\n",
       "    }\n",
       "</style>\n",
       "<table border=\"1\" class=\"dataframe\">\n",
       "  <thead>\n",
       "    <tr style=\"text-align: right;\">\n",
       "      <th></th>\n",
       "      <th>City</th>\n",
       "      <th>Lat</th>\n",
       "      <th>Lng</th>\n",
       "      <th>Max. Temp</th>\n",
       "      <th>Humidity</th>\n",
       "      <th>Cloudiness</th>\n",
       "      <th>Wind Speed</th>\n",
       "      <th>Country</th>\n",
       "      <th>Date</th>\n",
       "    </tr>\n",
       "  </thead>\n",
       "  <tbody>\n",
       "    <tr>\n",
       "      <th>0</th>\n",
       "      <td>ushuaia</td>\n",
       "      <td>-54.8000</td>\n",
       "      <td>-68.3000</td>\n",
       "      <td>5.00</td>\n",
       "      <td>87</td>\n",
       "      <td>0</td>\n",
       "      <td>5.14</td>\n",
       "      <td>AR</td>\n",
       "      <td>1618911203</td>\n",
       "    </tr>\n",
       "    <tr>\n",
       "      <th>1</th>\n",
       "      <td>punta arenas</td>\n",
       "      <td>-53.1500</td>\n",
       "      <td>-70.9167</td>\n",
       "      <td>6.00</td>\n",
       "      <td>70</td>\n",
       "      <td>0</td>\n",
       "      <td>9.26</td>\n",
       "      <td>CL</td>\n",
       "      <td>1618911151</td>\n",
       "    </tr>\n",
       "    <tr>\n",
       "      <th>2</th>\n",
       "      <td>pisco</td>\n",
       "      <td>-13.7000</td>\n",
       "      <td>-76.2167</td>\n",
       "      <td>19.00</td>\n",
       "      <td>82</td>\n",
       "      <td>99</td>\n",
       "      <td>1.54</td>\n",
       "      <td>PE</td>\n",
       "      <td>1618911205</td>\n",
       "    </tr>\n",
       "    <tr>\n",
       "      <th>3</th>\n",
       "      <td>sao filipe</td>\n",
       "      <td>14.8961</td>\n",
       "      <td>-24.4956</td>\n",
       "      <td>22.11</td>\n",
       "      <td>77</td>\n",
       "      <td>97</td>\n",
       "      <td>6.26</td>\n",
       "      <td>CV</td>\n",
       "      <td>1618911207</td>\n",
       "    </tr>\n",
       "    <tr>\n",
       "      <th>4</th>\n",
       "      <td>trairi</td>\n",
       "      <td>-3.2778</td>\n",
       "      <td>-39.2689</td>\n",
       "      <td>23.88</td>\n",
       "      <td>92</td>\n",
       "      <td>88</td>\n",
       "      <td>1.67</td>\n",
       "      <td>BR</td>\n",
       "      <td>1618911208</td>\n",
       "    </tr>\n",
       "  </tbody>\n",
       "</table>\n",
       "</div>"
      ],
      "text/plain": [
       "           City      Lat      Lng  Max. Temp  Humidity  Cloudiness  \\\n",
       "0       ushuaia -54.8000 -68.3000       5.00        87           0   \n",
       "1  punta arenas -53.1500 -70.9167       6.00        70           0   \n",
       "2         pisco -13.7000 -76.2167      19.00        82          99   \n",
       "3    sao filipe  14.8961 -24.4956      22.11        77          97   \n",
       "4        trairi  -3.2778 -39.2689      23.88        92          88   \n",
       "\n",
       "   Wind Speed Country        Date  \n",
       "0        5.14      AR  1618911203  \n",
       "1        9.26      CL  1618911151  \n",
       "2        1.54      PE  1618911205  \n",
       "3        6.26      CV  1618911207  \n",
       "4        1.67      BR  1618911208  "
      ]
     },
     "execution_count": 43,
     "metadata": {},
     "output_type": "execute_result"
    }
   ],
   "source": [
    "# Create a dataframe from the retrieved weather data\n",
    "weather_dict = {\"City\": final_city,\n",
    "                \"Lat\": lat,\n",
    "                \"Lng\": long,\n",
    "                \"Max. Temp\": max_temp,\n",
    "                \"Humidity\": humidity,\n",
    "                \"Cloudiness\": cloudiness,\n",
    "                \"Wind Speed\": wind_speed,\n",
    "                \"Country\": country,\n",
    "                \"Date\": date}\n",
    "\n",
    "weather_data_df = pd.DataFrame(weather_dict)\n",
    "\n",
    "# Show preview of weather dataframe\n",
    "weather_data_df.head()"
   ]
  },
  {
   "cell_type": "code",
   "execution_count": 44,
   "metadata": {},
   "outputs": [
    {
     "data": {
      "text/plain": [
       "City          19\n",
       "Lat           19\n",
       "Lng           19\n",
       "Max. Temp     19\n",
       "Humidity      19\n",
       "Cloudiness    19\n",
       "Wind Speed    19\n",
       "Country       19\n",
       "Date          19\n",
       "dtype: int64"
      ]
     },
     "execution_count": 44,
     "metadata": {},
     "output_type": "execute_result"
    }
   ],
   "source": [
    "weather_data_df.count()"
   ]
  },
  {
   "cell_type": "code",
   "execution_count": 45,
   "metadata": {},
   "outputs": [
    {
     "data": {
      "text/html": [
       "<div>\n",
       "<style scoped>\n",
       "    .dataframe tbody tr th:only-of-type {\n",
       "        vertical-align: middle;\n",
       "    }\n",
       "\n",
       "    .dataframe tbody tr th {\n",
       "        vertical-align: top;\n",
       "    }\n",
       "\n",
       "    .dataframe thead th {\n",
       "        text-align: right;\n",
       "    }\n",
       "</style>\n",
       "<table border=\"1\" class=\"dataframe\">\n",
       "  <thead>\n",
       "    <tr style=\"text-align: right;\">\n",
       "      <th></th>\n",
       "      <th>Lat</th>\n",
       "      <th>Lng</th>\n",
       "      <th>Max. Temp</th>\n",
       "      <th>Humidity</th>\n",
       "      <th>Cloudiness</th>\n",
       "      <th>Wind Speed</th>\n",
       "      <th>Date</th>\n",
       "    </tr>\n",
       "  </thead>\n",
       "  <tbody>\n",
       "    <tr>\n",
       "      <th>count</th>\n",
       "      <td>19.000000</td>\n",
       "      <td>19.000000</td>\n",
       "      <td>19.000000</td>\n",
       "      <td>19.000000</td>\n",
       "      <td>19.000000</td>\n",
       "      <td>19.000000</td>\n",
       "      <td>1.900000e+01</td>\n",
       "    </tr>\n",
       "    <tr>\n",
       "      <th>mean</th>\n",
       "      <td>-3.360595</td>\n",
       "      <td>-1.144489</td>\n",
       "      <td>15.031579</td>\n",
       "      <td>70.421053</td>\n",
       "      <td>43.842105</td>\n",
       "      <td>3.683684</td>\n",
       "      <td>1.618911e+09</td>\n",
       "    </tr>\n",
       "    <tr>\n",
       "      <th>std</th>\n",
       "      <td>39.684823</td>\n",
       "      <td>97.005995</td>\n",
       "      <td>11.864210</td>\n",
       "      <td>21.103754</td>\n",
       "      <td>42.345488</td>\n",
       "      <td>2.609862</td>\n",
       "      <td>8.021794e+01</td>\n",
       "    </tr>\n",
       "    <tr>\n",
       "      <th>min</th>\n",
       "      <td>-54.800000</td>\n",
       "      <td>-173.300000</td>\n",
       "      <td>-5.440000</td>\n",
       "      <td>5.000000</td>\n",
       "      <td>0.000000</td>\n",
       "      <td>0.450000</td>\n",
       "      <td>1.618911e+09</td>\n",
       "    </tr>\n",
       "    <tr>\n",
       "      <th>25%</th>\n",
       "      <td>-32.926000</td>\n",
       "      <td>-69.608350</td>\n",
       "      <td>6.165000</td>\n",
       "      <td>66.000000</td>\n",
       "      <td>1.000000</td>\n",
       "      <td>1.605000</td>\n",
       "      <td>1.618911e+09</td>\n",
       "    </tr>\n",
       "    <tr>\n",
       "      <th>50%</th>\n",
       "      <td>-17.800000</td>\n",
       "      <td>-24.495600</td>\n",
       "      <td>19.000000</td>\n",
       "      <td>71.000000</td>\n",
       "      <td>37.000000</td>\n",
       "      <td>3.270000</td>\n",
       "      <td>1.618911e+09</td>\n",
       "    </tr>\n",
       "    <tr>\n",
       "      <th>75%</th>\n",
       "      <td>20.363300</td>\n",
       "      <td>73.827900</td>\n",
       "      <td>23.050000</td>\n",
       "      <td>86.000000</td>\n",
       "      <td>87.500000</td>\n",
       "      <td>5.090000</td>\n",
       "      <td>1.618911e+09</td>\n",
       "    </tr>\n",
       "    <tr>\n",
       "      <th>max</th>\n",
       "      <td>70.857800</td>\n",
       "      <td>152.916700</td>\n",
       "      <td>35.910000</td>\n",
       "      <td>94.000000</td>\n",
       "      <td>100.000000</td>\n",
       "      <td>9.770000</td>\n",
       "      <td>1.618911e+09</td>\n",
       "    </tr>\n",
       "  </tbody>\n",
       "</table>\n",
       "</div>"
      ],
      "text/plain": [
       "             Lat         Lng  Max. Temp   Humidity  Cloudiness  Wind Speed  \\\n",
       "count  19.000000   19.000000  19.000000  19.000000   19.000000   19.000000   \n",
       "mean   -3.360595   -1.144489  15.031579  70.421053   43.842105    3.683684   \n",
       "std    39.684823   97.005995  11.864210  21.103754   42.345488    2.609862   \n",
       "min   -54.800000 -173.300000  -5.440000   5.000000    0.000000    0.450000   \n",
       "25%   -32.926000  -69.608350   6.165000  66.000000    1.000000    1.605000   \n",
       "50%   -17.800000  -24.495600  19.000000  71.000000   37.000000    3.270000   \n",
       "75%    20.363300   73.827900  23.050000  86.000000   87.500000    5.090000   \n",
       "max    70.857800  152.916700  35.910000  94.000000  100.000000    9.770000   \n",
       "\n",
       "               Date  \n",
       "count  1.900000e+01  \n",
       "mean   1.618911e+09  \n",
       "std    8.021794e+01  \n",
       "min    1.618911e+09  \n",
       "25%    1.618911e+09  \n",
       "50%    1.618911e+09  \n",
       "75%    1.618911e+09  \n",
       "max    1.618911e+09  "
      ]
     },
     "execution_count": 45,
     "metadata": {},
     "output_type": "execute_result"
    }
   ],
   "source": [
    "# Create a summary statistics table frome the weather_data dataframe\n",
    "weather_data_df[['Lat', 'Lng', 'Max. Temp', 'Humidity', 'Cloudiness', 'Wind Speed', 'Date']].describe()"
   ]
  },
  {
   "cell_type": "code",
   "execution_count": 46,
   "metadata": {},
   "outputs": [],
   "source": [
    "# Save weather dataframe as a csv\n",
    "weather_data_df.to_csv(r'output_data\\weather_data.csv', encoding=\"utf-8\", index=False)"
   ]
  },
  {
   "cell_type": "markdown",
   "metadata": {},
   "source": [
    "## Inspect the data and remove the cities where the humidity > 100%.\n",
    "----\n",
    "Skip this step if there are no cities that have humidity > 100%. "
   ]
  },
  {
   "cell_type": "code",
   "execution_count": 47,
   "metadata": {},
   "outputs": [
    {
     "data": {
      "text/html": [
       "<div>\n",
       "<style scoped>\n",
       "    .dataframe tbody tr th:only-of-type {\n",
       "        vertical-align: middle;\n",
       "    }\n",
       "\n",
       "    .dataframe tbody tr th {\n",
       "        vertical-align: top;\n",
       "    }\n",
       "\n",
       "    .dataframe thead th {\n",
       "        text-align: right;\n",
       "    }\n",
       "</style>\n",
       "<table border=\"1\" class=\"dataframe\">\n",
       "  <thead>\n",
       "    <tr style=\"text-align: right;\">\n",
       "      <th></th>\n",
       "      <th>City</th>\n",
       "      <th>Lat</th>\n",
       "      <th>Lng</th>\n",
       "      <th>Max. Temp</th>\n",
       "      <th>Humidity</th>\n",
       "      <th>Cloudiness</th>\n",
       "      <th>Wind Speed</th>\n",
       "      <th>Country</th>\n",
       "      <th>Date</th>\n",
       "    </tr>\n",
       "  </thead>\n",
       "  <tbody>\n",
       "    <tr>\n",
       "      <th>0</th>\n",
       "      <td>ushuaia</td>\n",
       "      <td>-54.8000</td>\n",
       "      <td>-68.3000</td>\n",
       "      <td>5.00</td>\n",
       "      <td>87</td>\n",
       "      <td>0</td>\n",
       "      <td>5.14</td>\n",
       "      <td>AR</td>\n",
       "      <td>1618911203</td>\n",
       "    </tr>\n",
       "    <tr>\n",
       "      <th>1</th>\n",
       "      <td>punta arenas</td>\n",
       "      <td>-53.1500</td>\n",
       "      <td>-70.9167</td>\n",
       "      <td>6.00</td>\n",
       "      <td>70</td>\n",
       "      <td>0</td>\n",
       "      <td>9.26</td>\n",
       "      <td>CL</td>\n",
       "      <td>1618911151</td>\n",
       "    </tr>\n",
       "    <tr>\n",
       "      <th>2</th>\n",
       "      <td>pisco</td>\n",
       "      <td>-13.7000</td>\n",
       "      <td>-76.2167</td>\n",
       "      <td>19.00</td>\n",
       "      <td>82</td>\n",
       "      <td>99</td>\n",
       "      <td>1.54</td>\n",
       "      <td>PE</td>\n",
       "      <td>1618911205</td>\n",
       "    </tr>\n",
       "    <tr>\n",
       "      <th>3</th>\n",
       "      <td>sao filipe</td>\n",
       "      <td>14.8961</td>\n",
       "      <td>-24.4956</td>\n",
       "      <td>22.11</td>\n",
       "      <td>77</td>\n",
       "      <td>97</td>\n",
       "      <td>6.26</td>\n",
       "      <td>CV</td>\n",
       "      <td>1618911207</td>\n",
       "    </tr>\n",
       "    <tr>\n",
       "      <th>4</th>\n",
       "      <td>trairi</td>\n",
       "      <td>-3.2778</td>\n",
       "      <td>-39.2689</td>\n",
       "      <td>23.88</td>\n",
       "      <td>92</td>\n",
       "      <td>88</td>\n",
       "      <td>1.67</td>\n",
       "      <td>BR</td>\n",
       "      <td>1618911208</td>\n",
       "    </tr>\n",
       "  </tbody>\n",
       "</table>\n",
       "</div>"
      ],
      "text/plain": [
       "           City      Lat      Lng  Max. Temp  Humidity  Cloudiness  \\\n",
       "0       ushuaia -54.8000 -68.3000       5.00        87           0   \n",
       "1  punta arenas -53.1500 -70.9167       6.00        70           0   \n",
       "2         pisco -13.7000 -76.2167      19.00        82          99   \n",
       "3    sao filipe  14.8961 -24.4956      22.11        77          97   \n",
       "4        trairi  -3.2778 -39.2689      23.88        92          88   \n",
       "\n",
       "   Wind Speed Country        Date  \n",
       "0        5.14      AR  1618911203  \n",
       "1        9.26      CL  1618911151  \n",
       "2        1.54      PE  1618911205  \n",
       "3        6.26      CV  1618911207  \n",
       "4        1.67      BR  1618911208  "
      ]
     },
     "execution_count": 47,
     "metadata": {},
     "output_type": "execute_result"
    }
   ],
   "source": [
    "cleaned_weather_data_df = weather_data_df.query(\"Humidity < 100\")\n",
    "cleaned_weather_data_df.head()"
   ]
  },
  {
   "cell_type": "code",
   "execution_count": 48,
   "metadata": {},
   "outputs": [
    {
     "data": {
      "text/html": [
       "<div>\n",
       "<style scoped>\n",
       "    .dataframe tbody tr th:only-of-type {\n",
       "        vertical-align: middle;\n",
       "    }\n",
       "\n",
       "    .dataframe tbody tr th {\n",
       "        vertical-align: top;\n",
       "    }\n",
       "\n",
       "    .dataframe thead th {\n",
       "        text-align: right;\n",
       "    }\n",
       "</style>\n",
       "<table border=\"1\" class=\"dataframe\">\n",
       "  <thead>\n",
       "    <tr style=\"text-align: right;\">\n",
       "      <th></th>\n",
       "      <th>City</th>\n",
       "      <th>Lat</th>\n",
       "      <th>Lng</th>\n",
       "      <th>Max. Temp</th>\n",
       "      <th>Humidity</th>\n",
       "      <th>Cloudiness</th>\n",
       "      <th>Wind Speed</th>\n",
       "      <th>Country</th>\n",
       "      <th>Date</th>\n",
       "    </tr>\n",
       "  </thead>\n",
       "  <tbody>\n",
       "  </tbody>\n",
       "</table>\n",
       "</div>"
      ],
      "text/plain": [
       "Empty DataFrame\n",
       "Columns: [City, Lat, Lng, Max. Temp, Humidity, Cloudiness, Wind Speed, Country, Date]\n",
       "Index: []"
      ]
     },
     "execution_count": 48,
     "metadata": {},
     "output_type": "execute_result"
    }
   ],
   "source": [
    "high_humidity_df = weather_data_df.query(\"Humidity >= 100\")\n",
    "high_humidity_df.head()"
   ]
  },
  {
   "cell_type": "code",
   "execution_count": 49,
   "metadata": {},
   "outputs": [
    {
     "data": {
      "text/plain": [
       "[]"
      ]
     },
     "execution_count": 49,
     "metadata": {},
     "output_type": "execute_result"
    }
   ],
   "source": [
    "#  Get the indices of cities that have humidity over 100%\n",
    "indices = weather_data_df[weather_data_df['Humidity']>=100].index.tolist()\n",
    "indices\n"
   ]
  },
  {
   "cell_type": "code",
   "execution_count": 67,
   "metadata": {},
   "outputs": [
    {
     "data": {
      "text/html": [
       "<div>\n",
       "<style scoped>\n",
       "    .dataframe tbody tr th:only-of-type {\n",
       "        vertical-align: middle;\n",
       "    }\n",
       "\n",
       "    .dataframe tbody tr th {\n",
       "        vertical-align: top;\n",
       "    }\n",
       "\n",
       "    .dataframe thead th {\n",
       "        text-align: right;\n",
       "    }\n",
       "</style>\n",
       "<table border=\"1\" class=\"dataframe\">\n",
       "  <thead>\n",
       "    <tr style=\"text-align: right;\">\n",
       "      <th></th>\n",
       "      <th>City</th>\n",
       "      <th>Lat</th>\n",
       "      <th>Lng</th>\n",
       "      <th>Max. Temp</th>\n",
       "      <th>Humidity</th>\n",
       "      <th>Cloudiness</th>\n",
       "      <th>Wind Speed</th>\n",
       "      <th>Country</th>\n",
       "      <th>Date</th>\n",
       "    </tr>\n",
       "  </thead>\n",
       "  <tbody>\n",
       "    <tr>\n",
       "      <th>0</th>\n",
       "      <td>ushuaia</td>\n",
       "      <td>-54.8000</td>\n",
       "      <td>-68.3000</td>\n",
       "      <td>5.00</td>\n",
       "      <td>87</td>\n",
       "      <td>0</td>\n",
       "      <td>5.14</td>\n",
       "      <td>AR</td>\n",
       "      <td>1618911203</td>\n",
       "    </tr>\n",
       "    <tr>\n",
       "      <th>1</th>\n",
       "      <td>punta arenas</td>\n",
       "      <td>-53.1500</td>\n",
       "      <td>-70.9167</td>\n",
       "      <td>6.00</td>\n",
       "      <td>70</td>\n",
       "      <td>0</td>\n",
       "      <td>9.26</td>\n",
       "      <td>CL</td>\n",
       "      <td>1618911151</td>\n",
       "    </tr>\n",
       "    <tr>\n",
       "      <th>2</th>\n",
       "      <td>pisco</td>\n",
       "      <td>-13.7000</td>\n",
       "      <td>-76.2167</td>\n",
       "      <td>19.00</td>\n",
       "      <td>82</td>\n",
       "      <td>99</td>\n",
       "      <td>1.54</td>\n",
       "      <td>PE</td>\n",
       "      <td>1618911205</td>\n",
       "    </tr>\n",
       "    <tr>\n",
       "      <th>3</th>\n",
       "      <td>sao filipe</td>\n",
       "      <td>14.8961</td>\n",
       "      <td>-24.4956</td>\n",
       "      <td>22.11</td>\n",
       "      <td>77</td>\n",
       "      <td>97</td>\n",
       "      <td>6.26</td>\n",
       "      <td>CV</td>\n",
       "      <td>1618911207</td>\n",
       "    </tr>\n",
       "    <tr>\n",
       "      <th>4</th>\n",
       "      <td>trairi</td>\n",
       "      <td>-3.2778</td>\n",
       "      <td>-39.2689</td>\n",
       "      <td>23.88</td>\n",
       "      <td>92</td>\n",
       "      <td>88</td>\n",
       "      <td>1.67</td>\n",
       "      <td>BR</td>\n",
       "      <td>1618911208</td>\n",
       "    </tr>\n",
       "  </tbody>\n",
       "</table>\n",
       "</div>"
      ],
      "text/plain": [
       "           City      Lat      Lng  Max. Temp  Humidity  Cloudiness  \\\n",
       "0       ushuaia -54.8000 -68.3000       5.00        87           0   \n",
       "1  punta arenas -53.1500 -70.9167       6.00        70           0   \n",
       "2         pisco -13.7000 -76.2167      19.00        82          99   \n",
       "3    sao filipe  14.8961 -24.4956      22.11        77          97   \n",
       "4        trairi  -3.2778 -39.2689      23.88        92          88   \n",
       "\n",
       "   Wind Speed Country        Date  \n",
       "0        5.14      AR  1618911203  \n",
       "1        9.26      CL  1618911151  \n",
       "2        1.54      PE  1618911205  \n",
       "3        6.26      CV  1618911207  \n",
       "4        1.67      BR  1618911208  "
      ]
     },
     "execution_count": 67,
     "metadata": {},
     "output_type": "execute_result"
    }
   ],
   "source": [
    "# Make a new DataFrame equal to the city data to drop all humidity outliers by index.\n",
    "# Passing \"inplace=False\" will make a copy of the city_data DataFrame, which we call \"clean_city_data\".\n",
    "clean_city_data_df = weather_data_df.drop(indices, inplace=False)\n",
    "clean_city_data_df.head()"
   ]
  },
  {
   "cell_type": "markdown",
   "metadata": {},
   "source": [
    "## Plotting the Data\n",
    "* Use proper labeling of the plots using plot titles (including date of analysis) and axes labels.\n",
    "* Save the plotted figures as .pngs."
   ]
  },
  {
   "cell_type": "markdown",
   "metadata": {},
   "source": [
    "## Latitude vs. Temperature Plot"
   ]
  },
  {
   "cell_type": "code",
   "execution_count": 51,
   "metadata": {
    "scrolled": true
   },
   "outputs": [
    {
     "data": {
      "image/png": "[encoded data removed]",
      "text/plain": [
       "<Figure size 432x288 with 1 Axes>"
      ]
     },
     "metadata": {
      "needs_background": "light"
     },
     "output_type": "display_data"
    },
    {
     "name": "stdout",
     "output_type": "stream",
     "text": [
      "Latitude of city plotted against maximum temperature of the city on 19/04/2021.\n"
     ]
    }
   ],
   "source": [
    "# Set x and y axis for scatter plot of Latitude vs. Max Temperature\n",
    "x_axis = clean_city_data_df[\"Lat\"]\n",
    "y_axis = clean_city_data_df[\"Max. Temp\"]\n",
    "\n",
    "# Create scatter plot\n",
    "plt.scatter(x_axis, y_axis)\n",
    "\n",
    "# Add title and labels to line plot\n",
    "plt.title('City Latitude vs. Max Temperature (19/04/2021)')\n",
    "plt.xlabel('Latitude')\n",
    "plt.ylabel('Max Temperature (C)')\n",
    "\n",
    "# Show scatter plot\n",
    "plt.show()\n",
    "print(\"Latitude of city plotted against maximum temperature of the city on 19/04/2021.\")"
   ]
  },
  {
   "cell_type": "markdown",
   "metadata": {},
   "source": [
    "## Latitude vs. Humidity Plot"
   ]
  },
  {
   "cell_type": "code",
   "execution_count": 52,
   "metadata": {},
   "outputs": [
    {
     "data": {
      "image/png": "[encoded data removed]",
      "text/plain": [
       "<Figure size 432x288 with 1 Axes>"
      ]
     },
     "metadata": {
      "needs_background": "light"
     },
     "output_type": "display_data"
    },
    {
     "name": "stdout",
     "output_type": "stream",
     "text": [
      "Latitude of city plotted against humidity of the city on 19/04/2021.\n"
     ]
    }
   ],
   "source": [
    "# Set x and y axis for scatter plot of Latitude vs. Humidity\n",
    "x_axis = clean_city_data_df[\"Lat\"]\n",
    "y_axis = clean_city_data_df[\"Humidity\"]\n",
    "\n",
    "# Create scatter plot\n",
    "plt.scatter(x_axis, y_axis)\n",
    "\n",
    "# Add title and labels to line plot\n",
    "plt.title('City Latitude vs. Humidity (19/04/2021)')\n",
    "plt.xlabel('Latitude')\n",
    "plt.ylabel('Humidity (%)')\n",
    "\n",
    "# Show scatter plot\n",
    "plt.show()\n",
    "print(\"Latitude of city plotted against humidity of the city on 19/04/2021.\")"
   ]
  },
  {
   "cell_type": "markdown",
   "metadata": {},
   "source": [
    "## Latitude vs. Cloudiness Plot"
   ]
  },
  {
   "cell_type": "code",
   "execution_count": 53,
   "metadata": {},
   "outputs": [
    {
     "data": {
      "image/png": "[encoded data removed]",
      "text/plain": [
       "<Figure size 432x288 with 1 Axes>"
      ]
     },
     "metadata": {
      "needs_background": "light"
     },
     "output_type": "display_data"
    },
    {
     "name": "stdout",
     "output_type": "stream",
     "text": [
      "Latitude of city plotted against Cloudiness of the city on 19/04/2021.\n"
     ]
    }
   ],
   "source": [
    "# Set x and y axis for scatter plot of Latitude vs. Cloudiness\n",
    "x_axis = clean_city_data_df[\"Lat\"]\n",
    "y_axis = clean_city_data_df[\"Cloudiness\"]\n",
    "\n",
    "# Create scatter plot\n",
    "plt.scatter(x_axis, y_axis)\n",
    "\n",
    "# Add title and labels to line plot\n",
    "plt.title('City Latitude vs. Cloudiness (19/04/2021)')\n",
    "plt.xlabel('Latitude')\n",
    "plt.ylabel('Cloudiness (%)')\n",
    "\n",
    "# Show scatter plot\n",
    "plt.show()\n",
    "print(\"Latitude of city plotted against Cloudiness of the city on 19/04/2021.\")"
   ]
  },
  {
   "cell_type": "markdown",
   "metadata": {},
   "source": [
    "## Latitude vs. Wind Speed Plot"
   ]
  },
  {
   "cell_type": "code",
   "execution_count": 54,
   "metadata": {},
   "outputs": [
    {
     "data": {
      "image/png": "[encoded data removed]",
      "text/plain": [
       "<Figure size 432x288 with 1 Axes>"
      ]
     },
     "metadata": {
      "needs_background": "light"
     },
     "output_type": "display_data"
    },
    {
     "name": "stdout",
     "output_type": "stream",
     "text": [
      "Latitude of city plotted against Wind Speed of the city on 19/04/2021.\n"
     ]
    }
   ],
   "source": [
    "# Set date x and y axis for scatter plot of Latitude vs. Wind Speed\n",
    "x_axis = clean_city_data_df[\"Lat\"]\n",
    "y_axis = clean_city_data_df[\"Wind Speed\"]\n",
    "\n",
    "# Create scatter plot\n",
    "plt.scatter(x_axis, y_axis)\n",
    "\n",
    "# Add title and labels to line plot\n",
    "plt.title('City Latitude vs. Wind Speed (19/04/2021)')\n",
    "plt.xlabel('Latitude')\n",
    "plt.ylabel('Wind Speed (km/h)')\n",
    "\n",
    "# Show scatter plot\n",
    "plt.show()\n",
    "print(\"Latitude of city plotted against Wind Speed of the city on 19/04/2021.\")"
   ]
  },
  {
   "cell_type": "markdown",
   "metadata": {},
   "source": [
    "## Linear Regression"
   ]
  },
  {
   "cell_type": "code",
   "execution_count": 68,
   "metadata": {},
   "outputs": [
    {
     "data": {
      "text/html": [
       "<div>\n",
       "<style scoped>\n",
       "    .dataframe tbody tr th:only-of-type {\n",
       "        vertical-align: middle;\n",
       "    }\n",
       "\n",
       "    .dataframe tbody tr th {\n",
       "        vertical-align: top;\n",
       "    }\n",
       "\n",
       "    .dataframe thead th {\n",
       "        text-align: right;\n",
       "    }\n",
       "</style>\n",
       "<table border=\"1\" class=\"dataframe\">\n",
       "  <thead>\n",
       "    <tr style=\"text-align: right;\">\n",
       "      <th></th>\n",
       "      <th>City</th>\n",
       "      <th>Lat</th>\n",
       "      <th>Lng</th>\n",
       "      <th>Max. Temp</th>\n",
       "      <th>Humidity</th>\n",
       "      <th>Cloudiness</th>\n",
       "      <th>Wind Speed</th>\n",
       "      <th>Country</th>\n",
       "      <th>Date</th>\n",
       "    </tr>\n",
       "  </thead>\n",
       "  <tbody>\n",
       "    <tr>\n",
       "      <th>3</th>\n",
       "      <td>sao filipe</td>\n",
       "      <td>14.8961</td>\n",
       "      <td>-24.4956</td>\n",
       "      <td>22.11</td>\n",
       "      <td>77</td>\n",
       "      <td>97</td>\n",
       "      <td>6.26</td>\n",
       "      <td>CV</td>\n",
       "      <td>1618911207</td>\n",
       "    </tr>\n",
       "    <tr>\n",
       "      <th>5</th>\n",
       "      <td>victoria</td>\n",
       "      <td>22.2855</td>\n",
       "      <td>114.1577</td>\n",
       "      <td>26.67</td>\n",
       "      <td>71</td>\n",
       "      <td>1</td>\n",
       "      <td>0.45</td>\n",
       "      <td>HK</td>\n",
       "      <td>1618910917</td>\n",
       "    </tr>\n",
       "    <tr>\n",
       "      <th>6</th>\n",
       "      <td>berlevag</td>\n",
       "      <td>70.8578</td>\n",
       "      <td>29.0864</td>\n",
       "      <td>9.00</td>\n",
       "      <td>49</td>\n",
       "      <td>0</td>\n",
       "      <td>9.77</td>\n",
       "      <td>NO</td>\n",
       "      <td>1618911210</td>\n",
       "    </tr>\n",
       "    <tr>\n",
       "      <th>7</th>\n",
       "      <td>kirkland lake</td>\n",
       "      <td>48.1446</td>\n",
       "      <td>-80.0377</td>\n",
       "      <td>-4.00</td>\n",
       "      <td>86</td>\n",
       "      <td>87</td>\n",
       "      <td>5.04</td>\n",
       "      <td>CA</td>\n",
       "      <td>1618911211</td>\n",
       "    </tr>\n",
       "    <tr>\n",
       "      <th>14</th>\n",
       "      <td>tashtyp</td>\n",
       "      <td>52.7939</td>\n",
       "      <td>89.8983</td>\n",
       "      <td>-0.37</td>\n",
       "      <td>41</td>\n",
       "      <td>100</td>\n",
       "      <td>5.66</td>\n",
       "      <td>RU</td>\n",
       "      <td>1618911221</td>\n",
       "    </tr>\n",
       "    <tr>\n",
       "      <th>15</th>\n",
       "      <td>kidal</td>\n",
       "      <td>18.4411</td>\n",
       "      <td>1.4078</td>\n",
       "      <td>35.91</td>\n",
       "      <td>5</td>\n",
       "      <td>5</td>\n",
       "      <td>2.55</td>\n",
       "      <td>ML</td>\n",
       "      <td>1618911222</td>\n",
       "    </tr>\n",
       "    <tr>\n",
       "      <th>18</th>\n",
       "      <td>provideniya</td>\n",
       "      <td>64.3833</td>\n",
       "      <td>-173.3000</td>\n",
       "      <td>-5.44</td>\n",
       "      <td>66</td>\n",
       "      <td>0</td>\n",
       "      <td>3.54</td>\n",
       "      <td>RU</td>\n",
       "      <td>1618911179</td>\n",
       "    </tr>\n",
       "  </tbody>\n",
       "</table>\n",
       "</div>"
      ],
      "text/plain": [
       "             City      Lat       Lng  Max. Temp  Humidity  Cloudiness  \\\n",
       "3      sao filipe  14.8961  -24.4956      22.11        77          97   \n",
       "5        victoria  22.2855  114.1577      26.67        71           1   \n",
       "6        berlevag  70.8578   29.0864       9.00        49           0   \n",
       "7   kirkland lake  48.1446  -80.0377      -4.00        86          87   \n",
       "14        tashtyp  52.7939   89.8983      -0.37        41         100   \n",
       "15          kidal  18.4411    1.4078      35.91         5           5   \n",
       "18    provideniya  64.3833 -173.3000      -5.44        66           0   \n",
       "\n",
       "    Wind Speed Country        Date  \n",
       "3         6.26      CV  1618911207  \n",
       "5         0.45      HK  1618910917  \n",
       "6         9.77      NO  1618911210  \n",
       "7         5.04      CA  1618911211  \n",
       "14        5.66      RU  1618911221  \n",
       "15        2.55      ML  1618911222  \n",
       "18        3.54      RU  1618911179  "
      ]
     },
     "execution_count": 68,
     "metadata": {},
     "output_type": "execute_result"
    }
   ],
   "source": [
    "# Reduce the clean dataframe to cities only in the Northern Hemisphere\n",
    "northern_hemisphere_df = clean_city_data_df[~(clean_city_data_df['Lat'] <=0)]\n",
    "northern_hemisphere_df"
   ]
  },
  {
   "cell_type": "code",
   "execution_count": 70,
   "metadata": {},
   "outputs": [
    {
     "data": {
      "text/html": [
       "<div>\n",
       "<style scoped>\n",
       "    .dataframe tbody tr th:only-of-type {\n",
       "        vertical-align: middle;\n",
       "    }\n",
       "\n",
       "    .dataframe tbody tr th {\n",
       "        vertical-align: top;\n",
       "    }\n",
       "\n",
       "    .dataframe thead th {\n",
       "        text-align: right;\n",
       "    }\n",
       "</style>\n",
       "<table border=\"1\" class=\"dataframe\">\n",
       "  <thead>\n",
       "    <tr style=\"text-align: right;\">\n",
       "      <th></th>\n",
       "      <th>City</th>\n",
       "      <th>Lat</th>\n",
       "      <th>Lng</th>\n",
       "      <th>Max. Temp</th>\n",
       "      <th>Humidity</th>\n",
       "      <th>Cloudiness</th>\n",
       "      <th>Wind Speed</th>\n",
       "      <th>Country</th>\n",
       "      <th>Date</th>\n",
       "    </tr>\n",
       "  </thead>\n",
       "  <tbody>\n",
       "    <tr>\n",
       "      <th>0</th>\n",
       "      <td>ushuaia</td>\n",
       "      <td>-54.8000</td>\n",
       "      <td>-68.3000</td>\n",
       "      <td>5.00</td>\n",
       "      <td>87</td>\n",
       "      <td>0</td>\n",
       "      <td>5.14</td>\n",
       "      <td>AR</td>\n",
       "      <td>1618911203</td>\n",
       "    </tr>\n",
       "    <tr>\n",
       "      <th>1</th>\n",
       "      <td>punta arenas</td>\n",
       "      <td>-53.1500</td>\n",
       "      <td>-70.9167</td>\n",
       "      <td>6.00</td>\n",
       "      <td>70</td>\n",
       "      <td>0</td>\n",
       "      <td>9.26</td>\n",
       "      <td>CL</td>\n",
       "      <td>1618911151</td>\n",
       "    </tr>\n",
       "    <tr>\n",
       "      <th>2</th>\n",
       "      <td>pisco</td>\n",
       "      <td>-13.7000</td>\n",
       "      <td>-76.2167</td>\n",
       "      <td>19.00</td>\n",
       "      <td>82</td>\n",
       "      <td>99</td>\n",
       "      <td>1.54</td>\n",
       "      <td>PE</td>\n",
       "      <td>1618911205</td>\n",
       "    </tr>\n",
       "    <tr>\n",
       "      <th>4</th>\n",
       "      <td>trairi</td>\n",
       "      <td>-3.2778</td>\n",
       "      <td>-39.2689</td>\n",
       "      <td>23.88</td>\n",
       "      <td>92</td>\n",
       "      <td>88</td>\n",
       "      <td>1.67</td>\n",
       "      <td>BR</td>\n",
       "      <td>1618911208</td>\n",
       "    </tr>\n",
       "    <tr>\n",
       "      <th>8</th>\n",
       "      <td>santa cruz</td>\n",
       "      <td>-17.8000</td>\n",
       "      <td>-63.1667</td>\n",
       "      <td>21.00</td>\n",
       "      <td>94</td>\n",
       "      <td>40</td>\n",
       "      <td>1.19</td>\n",
       "      <td>BO</td>\n",
       "      <td>1618911214</td>\n",
       "    </tr>\n",
       "    <tr>\n",
       "      <th>9</th>\n",
       "      <td>stawell</td>\n",
       "      <td>-37.0500</td>\n",
       "      <td>142.7667</td>\n",
       "      <td>6.33</td>\n",
       "      <td>70</td>\n",
       "      <td>36</td>\n",
       "      <td>3.44</td>\n",
       "      <td>AU</td>\n",
       "      <td>1618911215</td>\n",
       "    </tr>\n",
       "    <tr>\n",
       "      <th>10</th>\n",
       "      <td>ilhabela</td>\n",
       "      <td>-23.7781</td>\n",
       "      <td>-45.3581</td>\n",
       "      <td>20.66</td>\n",
       "      <td>86</td>\n",
       "      <td>37</td>\n",
       "      <td>3.34</td>\n",
       "      <td>BR</td>\n",
       "      <td>1618911216</td>\n",
       "    </tr>\n",
       "    <tr>\n",
       "      <th>11</th>\n",
       "      <td>rikitea</td>\n",
       "      <td>-23.1203</td>\n",
       "      <td>-134.9692</td>\n",
       "      <td>25.41</td>\n",
       "      <td>66</td>\n",
       "      <td>1</td>\n",
       "      <td>3.27</td>\n",
       "      <td>PF</td>\n",
       "      <td>1618911150</td>\n",
       "    </tr>\n",
       "    <tr>\n",
       "      <th>12</th>\n",
       "      <td>hermanus</td>\n",
       "      <td>-34.4187</td>\n",
       "      <td>19.2345</td>\n",
       "      <td>22.22</td>\n",
       "      <td>63</td>\n",
       "      <td>1</td>\n",
       "      <td>2.68</td>\n",
       "      <td>ZA</td>\n",
       "      <td>1618911219</td>\n",
       "    </tr>\n",
       "    <tr>\n",
       "      <th>13</th>\n",
       "      <td>new norfolk</td>\n",
       "      <td>-42.7826</td>\n",
       "      <td>147.0587</td>\n",
       "      <td>6.67</td>\n",
       "      <td>70</td>\n",
       "      <td>66</td>\n",
       "      <td>1.34</td>\n",
       "      <td>AU</td>\n",
       "      <td>1618911220</td>\n",
       "    </tr>\n",
       "    <tr>\n",
       "      <th>16</th>\n",
       "      <td>bambous virieux</td>\n",
       "      <td>-20.3428</td>\n",
       "      <td>57.7575</td>\n",
       "      <td>29.44</td>\n",
       "      <td>74</td>\n",
       "      <td>75</td>\n",
       "      <td>1.54</td>\n",
       "      <td>MU</td>\n",
       "      <td>1618911224</td>\n",
       "    </tr>\n",
       "    <tr>\n",
       "      <th>17</th>\n",
       "      <td>port macquarie</td>\n",
       "      <td>-31.4333</td>\n",
       "      <td>152.9167</td>\n",
       "      <td>16.11</td>\n",
       "      <td>89</td>\n",
       "      <td>100</td>\n",
       "      <td>2.31</td>\n",
       "      <td>AU</td>\n",
       "      <td>1618911012</td>\n",
       "    </tr>\n",
       "  </tbody>\n",
       "</table>\n",
       "</div>"
      ],
      "text/plain": [
       "               City      Lat       Lng  Max. Temp  Humidity  Cloudiness  \\\n",
       "0           ushuaia -54.8000  -68.3000       5.00        87           0   \n",
       "1      punta arenas -53.1500  -70.9167       6.00        70           0   \n",
       "2             pisco -13.7000  -76.2167      19.00        82          99   \n",
       "4            trairi  -3.2778  -39.2689      23.88        92          88   \n",
       "8        santa cruz -17.8000  -63.1667      21.00        94          40   \n",
       "9           stawell -37.0500  142.7667       6.33        70          36   \n",
       "10         ilhabela -23.7781  -45.3581      20.66        86          37   \n",
       "11          rikitea -23.1203 -134.9692      25.41        66           1   \n",
       "12         hermanus -34.4187   19.2345      22.22        63           1   \n",
       "13      new norfolk -42.7826  147.0587       6.67        70          66   \n",
       "16  bambous virieux -20.3428   57.7575      29.44        74          75   \n",
       "17   port macquarie -31.4333  152.9167      16.11        89         100   \n",
       "\n",
       "    Wind Speed Country        Date  \n",
       "0         5.14      AR  1618911203  \n",
       "1         9.26      CL  1618911151  \n",
       "2         1.54      PE  1618911205  \n",
       "4         1.67      BR  1618911208  \n",
       "8         1.19      BO  1618911214  \n",
       "9         3.44      AU  1618911215  \n",
       "10        3.34      BR  1618911216  \n",
       "11        3.27      PF  1618911150  \n",
       "12        2.68      ZA  1618911219  \n",
       "13        1.34      AU  1618911220  \n",
       "16        1.54      MU  1618911224  \n",
       "17        2.31      AU  1618911012  "
      ]
     },
     "execution_count": 70,
     "metadata": {},
     "output_type": "execute_result"
    }
   ],
   "source": [
    "# Reduce the clean dataframe to cities only in the Southern Hemisphere\n",
    "southern_hemisphere_df = clean_city_data_df[~(clean_city_data_df['Lat'] >=0)]\n",
    "southern_hemisphere_df"
   ]
  },
  {
   "cell_type": "markdown",
   "metadata": {},
   "source": [
    "####  Northern Hemisphere - Max Temp vs. Latitude Linear Regression"
   ]
  },
  {
   "cell_type": "code",
   "execution_count": 72,
   "metadata": {},
   "outputs": [
    {
     "data": {
      "image/png": "[encoded data removed]",
      "text/plain": [
       "<Figure size 432x288 with 1 Axes>"
      ]
     },
     "metadata": {
      "needs_background": "light"
     },
     "output_type": "display_data"
    },
    {
     "name": "stdout",
     "output_type": "stream",
     "text": [
      "Latitude of Norther cities plotted against maximum temperature of those cities on 19/04/2021.\n"
     ]
    }
   ],
   "source": [
    "# Set x and y axis for scatter plot of Northern Hemisphere Latitude vs. Max Temperature\n",
    "x_axis = northern_hemisphere_df[\"Lat\"]\n",
    "y_axis = northern_hemisphere_df[\"Max. Temp\"]\n",
    "\n",
    "# Create scatter plot\n",
    "plt.scatter(x_axis, y_axis)\n",
    "\n",
    "# Add title and labels to line plot\n",
    "plt.title('Northern Hemisphere - Max Temp vs. Latitude Linear Regression (19/04/2021)')\n",
    "plt.xlabel('Latitude')\n",
    "plt.ylabel('Max Temperature (C)')\n",
    "\n",
    "# Show scatter plot\n",
    "plt.show()\n",
    "print(\"Latitude of Norther cities plotted against maximum temperature of those cities on 19/04/2021.\")"
   ]
  },
  {
   "cell_type": "markdown",
   "metadata": {},
   "source": [
    "####  Southern Hemisphere - Max Temp vs. Latitude Linear Regression"
   ]
  },
  {
   "cell_type": "code",
   "execution_count": null,
   "metadata": {},
   "outputs": [],
   "source": []
  },
  {
   "cell_type": "markdown",
   "metadata": {},
   "source": [
    "####  Northern Hemisphere - Humidity (%) vs. Latitude Linear Regression"
   ]
  },
  {
   "cell_type": "code",
   "execution_count": null,
   "metadata": {},
   "outputs": [],
   "source": []
  },
  {
   "cell_type": "markdown",
   "metadata": {},
   "source": [
    "####  Southern Hemisphere - Humidity (%) vs. Latitude Linear Regression"
   ]
  },
  {
   "cell_type": "code",
   "execution_count": null,
   "metadata": {},
   "outputs": [],
   "source": []
  },
  {
   "cell_type": "markdown",
   "metadata": {},
   "source": [
    "####  Northern Hemisphere - Cloudiness (%) vs. Latitude Linear Regression"
   ]
  },
  {
   "cell_type": "code",
   "execution_count": null,
   "metadata": {},
   "outputs": [],
   "source": []
  },
  {
   "cell_type": "markdown",
   "metadata": {},
   "source": [
    "####  Southern Hemisphere - Cloudiness (%) vs. Latitude Linear Regression"
   ]
  },
  {
   "cell_type": "code",
   "execution_count": null,
   "metadata": {},
   "outputs": [],
   "source": []
  },
  {
   "cell_type": "markdown",
   "metadata": {},
   "source": [
    "####  Northern Hemisphere - Wind Speed (mph) vs. Latitude Linear Regression"
   ]
  },
  {
   "cell_type": "code",
   "execution_count": null,
   "metadata": {},
   "outputs": [],
   "source": []
  },
  {
   "cell_type": "markdown",
   "metadata": {},
   "source": [
    "####  Southern Hemisphere - Wind Speed (mph) vs. Latitude Linear Regression"
   ]
  },
  {
   "cell_type": "code",
   "execution_count": null,
   "metadata": {},
   "outputs": [],
   "source": []
  },
  {
   "cell_type": "code",
   "execution_count": null,
   "metadata": {},
   "outputs": [],
   "source": []
  }
 ],
 "metadata": {
  "anaconda-cloud": {},
  "kernel_info": {
   "name": "python3"
  },
  "kernelspec": {
   "display_name": "Python 3",
   "language": "python",
   "name": "python3"
  },
  "language_info": {
   "codemirror_mode": {
    "name": "ipython",
    "version": 3
   },
   "file_extension": ".py",
   "mimetype": "text/x-python",
   "name": "python",
   "nbconvert_exporter": "python",
   "pygments_lexer": "ipython3",
   "version": "3.8.5"
  },
  "latex_envs": {
   "LaTeX_envs_menu_present": true,
   "autoclose": false,
   "autocomplete": true,
   "bibliofile": "biblio.bib",
   "cite_by": "apalike",
   "current_citInitial": 1,
   "eqLabelWithNumbers": true,
   "eqNumInitial": 1,
   "hotkeys": {
    "equation": "Ctrl-E",
    "itemize": "Ctrl-I"
   },
   "labels_anchors": false,
   "latex_user_defs": false,
   "report_style_numbering": false,
   "user_envs_cfg": false
  },
  "nteract": {
   "version": "0.12.3"
  }
 },
 "nbformat": 4,
 "nbformat_minor": 2
}
